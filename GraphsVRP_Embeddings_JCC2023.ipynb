{
  "cells": [
    {
      "cell_type": "markdown",
      "metadata": {
        "id": "view-in-github",
        "colab_type": "text"
      },
      "source": [
        "<a href=\"https://colab.research.google.com/github/estebanschab/RL-GraphEmbeddings/blob/main/GraphsVRP_Embeddings_JCC2023.ipynb\" target=\"_parent\"><img src=\"https://colab.research.google.com/assets/colab-badge.svg\" alt=\"Open In Colab\"/></a>"
      ]
    },
    {
      "cell_type": "markdown",
      "metadata": {
        "id": "vFHci8LJ_FiN"
      },
      "source": [
        "# **Instalación e importación de librerías necesarias**"
      ]
    },
    {
      "cell_type": "code",
      "execution_count": null,
      "metadata": {
        "id": "hn1_7h8Tjo8d"
      },
      "outputs": [],
      "source": [
        "import tempfile\n",
        "tempdir = tempfile.gettempdir()"
      ]
    },
    {
      "cell_type": "code",
      "execution_count": null,
      "metadata": {
        "colab": {
          "base_uri": "https://localhost:8080/"
        },
        "id": "Wi0Fpsao7yPF",
        "outputId": "ec01d025-bd14-4a95-8b9d-dbe40c7400cf"
      },
      "outputs": [
        {
          "output_type": "stream",
          "name": "stdout",
          "text": [
            "Looking in indexes: https://pypi.org/simple, https://us-python.pkg.dev/colab-wheels/public/simple/\n",
            "Requirement already satisfied: simpy in /usr/local/lib/python3.9/dist-packages (4.0.1)\n",
            "Looking in indexes: https://pypi.org/simple, https://us-python.pkg.dev/colab-wheels/public/simple/\n",
            "Requirement already satisfied: pandas in /usr/local/lib/python3.9/dist-packages (1.3.5)\n",
            "Requirement already satisfied: python-dateutil>=2.7.3 in /usr/local/lib/python3.9/dist-packages (from pandas) (2.8.2)\n",
            "Requirement already satisfied: pytz>=2017.3 in /usr/local/lib/python3.9/dist-packages (from pandas) (2022.7.1)\n",
            "Requirement already satisfied: numpy>=1.17.3 in /usr/local/lib/python3.9/dist-packages (from pandas) (1.22.4)\n",
            "Requirement already satisfied: six>=1.5 in /usr/local/lib/python3.9/dist-packages (from python-dateutil>=2.7.3->pandas) (1.16.0)\n"
          ]
        }
      ],
      "source": [
        "!pip install pandas"
      ]
    },
    {
      "cell_type": "code",
      "execution_count": null,
      "metadata": {
        "id": "RkRFtzNmumlz"
      },
      "outputs": [],
      "source": [
        "import random\n",
        "import numpy as np\n",
        "import pandas as pd"
      ]
    },
    {
      "cell_type": "markdown",
      "metadata": {
        "id": "_-gEtHxvYLte"
      },
      "source": [
        "#**Random Fuzzy Number Generator**\n",
        "\n",
        "\n",
        "\n"
      ]
    },
    {
      "cell_type": "code",
      "execution_count": null,
      "metadata": {
        "id": "YzTDtDrNRv10"
      },
      "outputs": [],
      "source": [
        "#!pip install portion"
      ]
    },
    {
      "cell_type": "code",
      "execution_count": null,
      "metadata": {
        "id": "vzeNvftxUFJP"
      },
      "outputs": [],
      "source": [
        "#import portion as P\n",
        "from random import random as rm\n",
        "import math"
      ]
    },
    {
      "cell_type": "markdown",
      "metadata": {
        "id": "ZCyq2YfeWRYW"
      },
      "source": [
        "## Alpha-cut based (for unimodal Fuzzy Numbers)\n",
        "From \"Fuzzy Uncertainty in Random Variable Generation: An a-Cut Approach\", by Christian Alfredo Varón-Gaviria, José Luis Barbosa-Fontecha, and Juan Carlos Figueroa-García"
      ]
    },
    {
      "cell_type": "code",
      "execution_count": null,
      "metadata": {
        "id": "J6MRYdwCYMts"
      },
      "outputs": [],
      "source": [
        "def build_triangular_mf(a, b, c):\n",
        "  if a > b or b > c:\n",
        "    raise ValueError(\"Parameters must form a nondecreasing sequence\")\n",
        "  return lambda x: (x-a)/(b-a) if a <= x < b else (c - x)/(c - b) if b <= x < c else 0\n",
        "\n",
        "def build_sampleable_triangular_mf(a, b, c):\n",
        "  if a > b or b > c:\n",
        "    raise ValueError(\"Parameters must form a nondecreasing sequence\")\n",
        "  Lambda1 = (b - a) / 2\n",
        "  Lambda2 = (c - b) / 2\n",
        "  Lambda = (c - a) / 2\n",
        "\n",
        "  lambda1 = Lambda1 / Lambda\n",
        "  lambda2 = Lambda2 / Lambda\n",
        "\n",
        "  return lambda u1, u2: u1 * (b - a) + a if u2 <= lambda1 else c - u1 * (c - b)\n"
      ]
    },
    {
      "cell_type": "code",
      "execution_count": null,
      "metadata": {
        "id": "XEiWmaXvTLDj",
        "colab": {
          "base_uri": "https://localhost:8080/"
        },
        "outputId": "3535dc20-705e-4b2a-a80f-16a96f652034"
      },
      "outputs": [
        {
          "output_type": "stream",
          "name": "stderr",
          "text": [
            "<ipython-input-5-cd9e54b682e8>:3: MatplotlibDeprecationWarning: The seaborn styles shipped by Matplotlib are deprecated since 3.6, as they no longer correspond to the styles shipped by seaborn. However, they will remain available as 'seaborn-v0_8-<style>'. Alternatively, directly use the seaborn API instead.\n",
            "  plt.style.use('seaborn-whitegrid')\n"
          ]
        }
      ],
      "source": [
        "%matplotlib inline\n",
        "import matplotlib.pyplot as plt\n",
        "plt.style.use('seaborn-whitegrid')\n",
        "import numpy as np"
      ]
    },
    {
      "cell_type": "code",
      "execution_count": null,
      "metadata": {
        "colab": {
          "base_uri": "https://localhost:8080/",
          "height": 442
        },
        "id": "scrTF-PoTP9b",
        "outputId": "186e3fc1-e1e5-4d63-ae9d-4b3638e8d8f3"
      },
      "outputs": [
        {
          "output_type": "execute_result",
          "data": {
            "text/plain": [
              "[<matplotlib.lines.Line2D at 0x7fd064489be0>]"
            ]
          },
          "metadata": {},
          "execution_count": 6
        },
        {
          "output_type": "display_data",
          "data": {
            "text/plain": [
              "<Figure size 640x480 with 1 Axes>"
            ],
            "image/png": "[encoded data removed]"
          },
          "metadata": {}
        }
      ],
      "source": [
        "n = 100\n",
        "\n",
        "sampler = build_sampleable_triangular_mf(23, 45, 62)\n",
        "mf = build_triangular_mf(23, 45, 62)\n",
        "x = [sampler(rm(), rm()) for i in range(n)]\n",
        "y = [mf(u) for u in x]\n",
        "plt.plot(x, y, 'o', color='black')"
      ]
    },
    {
      "cell_type": "markdown",
      "metadata": {
        "id": "selsh4D2X8oU"
      },
      "source": [
        "## Cumulative membership function-based\n",
        "From \"Fuzzy Uncertainty in Random Variable Generation: A Cumulative Membership\n",
        "Function Approach\", by Diana Giseth Pulido-L´opez, Mabel García, and Juan Carlos Figueroa-García"
      ]
    },
    {
      "cell_type": "code",
      "execution_count": null,
      "metadata": {
        "id": "NATqXt_kYMT0"
      },
      "outputs": [],
      "source": [
        "def build_trapezoidal_mf(a, b, c, d):\n",
        "  if a > b or b > c or c > d:\n",
        "    raise ValueError(\"Parameters must form a nondecreasing sequence\")\n",
        "  return lambda x: (x-a)/(b-a) if a <= x < b else 1 if b <= x < c else (d - x)/(d - c) if c <= x < d else 0\n",
        "\n",
        "def build_sampleable_trapezoidal_mf(a, b, c, d):\n",
        "  if a > b or b > c or c > d:\n",
        "    raise ValueError(\"Parameters must form a nondecreasing sequence\")\n",
        "  Lambda1 = (b - a) / 2\n",
        "  Lambda2 = c - b\n",
        "  Lambda3 = (d - c) / 2\n",
        "  Lambda = (c + d - a - b) / 2\n",
        "\n",
        "  lambda1 = Lambda1 / Lambda\n",
        "  lambda2 = Lambda2 / Lambda\n",
        "  lambda3 = Lambda3 / Lambda\n",
        "\n",
        "  return lambda u: a + math.sqrt((b - a) * 2 * u * Lambda) if u <= lambda1 else u * Lambda + b - Lambda1 if u <= (lambda1 + lambda2) else d - math.sqrt((d - c)**2 - 2 * (d - c) * (u * Lambda - Lambda1 - Lambda2))\n"
      ]
    },
    {
      "cell_type": "code",
      "execution_count": null,
      "metadata": {
        "colab": {
          "base_uri": "https://localhost:8080/"
        },
        "id": "k4tOlCfIFGri",
        "outputId": "6391758f-7472-4a71-a1ec-4afcc04e68f0"
      },
      "outputs": [
        {
          "output_type": "stream",
          "name": "stdout",
          "text": [
            "(45.7278201600919, 1)\n",
            "(88.99348996781669, 0.2501808342273143)\n",
            "(50.75265270480933, 1)\n",
            "(37.50001764818678, 0.6590917112812171)\n",
            "(37.85289237937958, 0.675131471789981)\n",
            "(85.45039865275166, 0.34860003742356505)\n",
            "(47.59157470591933, 1)\n",
            "(66.1740815758453, 0.8840532895598526)\n",
            "(39.80485002709048, 0.7638568194132037)\n",
            "(29.339682979736303, 0.28816740816983194)\n",
            "(53.65853111329707, 1)\n",
            "(53.1138498737606, 1)\n",
            "(53.386694163980295, 1)\n",
            "(52.10265041762809, 1)\n",
            "(36.15791500629932, 0.5980870457408781)\n",
            "(67.4534979582379, 0.8485139456045027)\n",
            "(58.23497082694149, 1)\n",
            "(39.520381479130236, 0.7509264308695562)\n",
            "(54.99559981361418, 1)\n",
            "(27.3401384571938, 0.1972790207815363)\n",
            "(62.88370628734387, 0.9754526031293369)\n",
            "(60.54744487205855, 1)\n",
            "(63.540023530466904, 0.9572215685981416)\n",
            "(61.44885540107347, 1)\n",
            "(33.07705084012282, 0.4580477654601283)\n",
            "(59.97767351041102, 1)\n",
            "(52.924346028826, 1)\n",
            "(66.59953667159965, 0.8722350924555653)\n",
            "(77.5356952569419, 0.5684529095293915)\n",
            "(50.515636042458134, 1)\n",
            "(58.458444407612774, 1)\n",
            "(86.95307924427223, 0.3068589098813269)\n",
            "(71.79774518859385, 0.7278404114279486)\n",
            "(45.641576156119335, 1)\n",
            "(43.74429491159884, 0.9429224959817656)\n",
            "(44.254383633243336, 0.9661083469656062)\n",
            "(50.48037748985567, 1)\n",
            "(36.33717527741885, 0.606235239882675)\n",
            "(78.16104143918669, 0.5510821822448142)\n",
            "(51.225031230434446, 1)\n",
            "(66.01239944992489, 0.8885444597243087)\n",
            "(76.06269569567658, 0.6093695640089839)\n",
            "(69.58496424906676, 0.7893065486370345)\n",
            "(81.92259340827684, 0.4465946275478656)\n",
            "(50.35631307806598, 1)\n",
            "(87.20071809434134, 0.29998005293496277)\n",
            "(70.28665522168312, 0.7698151327310244)\n",
            "(78.66639706358102, 0.5370445260116384)\n",
            "(43.44478639160738, 0.92930847234579)\n",
            "(61.64751860279941, 1)\n",
            "(86.45851196332562, 0.3205968899076217)\n",
            "(67.98582433214378, 0.8337271018848951)\n",
            "(94.18073405520148, 0.10609072068884767)\n",
            "(65.7857496628375, 0.8948402871434027)\n",
            "(64.71769507049902, 0.9245084702639161)\n",
            "(48.39359071399717, 1)\n",
            "(47.22697052250703, 1)\n",
            "(56.70792690873901, 1)\n",
            "(53.48919943881269, 1)\n",
            "(49.9728610024797, 1)\n",
            "(54.107758347577516, 1)\n",
            "(68.19205976930023, 0.8279983397416603)\n",
            "(51.25424346736112, 1)\n",
            "(56.58899438917875, 1)\n",
            "(25.544812112627362, 0.11567327784669827)\n",
            "(71.88095656403284, 0.7255289843324211)\n",
            "(50.94956401849282, 1)\n",
            "(54.876581101953434, 1)\n",
            "(80.88166087061302, 0.4755094202607495)\n",
            "(44.944259880565326, 0.9974663582075148)\n",
            "(60.66830422694754, 1)\n",
            "(65.02929924262463, 0.9158527988159825)\n",
            "(62.96933730043763, 0.9730739638767325)\n",
            "(42.471652591829084, 0.8850751178104129)\n",
            "(49.097686663765046, 1)\n",
            "(28.25263859451302, 0.2387562997505918)\n",
            "(59.51098636459311, 1)\n",
            "(57.912463068753965, 1)\n",
            "(39.061163576470705, 0.7300528898395775)\n",
            "(50.00228777994887, 1)\n",
            "(59.86796640963814, 1)\n",
            "(45.85211766910181, 1)\n",
            "(30.185871315558057, 0.326630514343548)\n",
            "(40.92894978513843, 0.8149522629608377)\n",
            "(79.2036518300162, 0.5221207824995501)\n",
            "(73.85352117679977, 0.6707355228666729)\n",
            "(32.326111830410525, 0.42391417410956933)\n",
            "(84.18156844738635, 0.3838453209059346)\n",
            "(61.81504208586597, 1)\n",
            "(58.7846298570971, 1)\n",
            "(85.12652316667763, 0.3575965787033992)\n",
            "(57.88742050042461, 1)\n",
            "(44.661256369378876, 0.9846025622444944)\n",
            "(83.56906973966362, 0.40085917389823283)\n",
            "(83.60475659555797, 0.3998678723456119)\n",
            "(62.331853660900336, 0.9907818427527685)\n",
            "(34.312887705650375, 0.5142221684386534)\n",
            "(53.43779090752443, 1)\n",
            "(72.43509053065824, 0.7101363741483822)\n",
            "(41.91144906932677, 0.8596113213330351)\n"
          ]
        }
      ],
      "source": [
        "sampler = build_sampleable_trapezoidal_mf(23, 45, 62, 98)\n",
        "mf = build_trapezoidal_mf(23, 45, 62, 98)\n",
        "\n",
        "for j in range(100):\n",
        "  r = sampler(rm())\n",
        "  print(\"({}, {})\".format(r, mf(r)))"
      ]
    },
    {
      "cell_type": "code",
      "execution_count": null,
      "metadata": {
        "id": "tox7BrKIGiAy",
        "colab": {
          "base_uri": "https://localhost:8080/"
        },
        "outputId": "837038da-d452-4aed-f8a9-bd2564f5d01f"
      },
      "outputs": [
        {
          "output_type": "stream",
          "name": "stderr",
          "text": [
            "<ipython-input-9-cd9e54b682e8>:3: MatplotlibDeprecationWarning: The seaborn styles shipped by Matplotlib are deprecated since 3.6, as they no longer correspond to the styles shipped by seaborn. However, they will remain available as 'seaborn-v0_8-<style>'. Alternatively, directly use the seaborn API instead.\n",
            "  plt.style.use('seaborn-whitegrid')\n"
          ]
        }
      ],
      "source": [
        "%matplotlib inline\n",
        "import matplotlib.pyplot as plt\n",
        "plt.style.use('seaborn-whitegrid')\n",
        "import numpy as np"
      ]
    },
    {
      "cell_type": "code",
      "execution_count": null,
      "metadata": {
        "colab": {
          "base_uri": "https://localhost:8080/",
          "height": 442
        },
        "id": "TDCx2C08G45k",
        "outputId": "09c851ef-b94e-419a-fafa-5764a70a9bc2"
      },
      "outputs": [
        {
          "output_type": "execute_result",
          "data": {
            "text/plain": [
              "[<matplotlib.lines.Line2D at 0x7fd0643b5550>]"
            ]
          },
          "metadata": {},
          "execution_count": 10
        },
        {
          "output_type": "display_data",
          "data": {
            "text/plain": [
              "<Figure size 640x480 with 1 Axes>"
            ],
            "image/png": "[encoded data removed]"
          },
          "metadata": {}
        }
      ],
      "source": [
        "n = 1000\n",
        "x = [sampler(rm()) for i in range(n)]\n",
        "y = [mf(u) for u in x]\n",
        "plt.plot(x, y, 'o', color='black')"
      ]
    },
    {
      "cell_type": "code",
      "execution_count": null,
      "metadata": {
        "id": "Dwtc5bvkalfJ"
      },
      "outputs": [],
      "source": []
    },
    {
      "cell_type": "markdown",
      "metadata": {
        "id": "nO7jx1Mj_Rah"
      },
      "source": [
        "# **Definicion e inicializacion de estructuras de datos**\n",
        "\n"
      ]
    },
    {
      "cell_type": "markdown",
      "metadata": {
        "id": "TstuMh2-dTyv"
      },
      "source": [
        "### Samplers for Random Fuzzy Number Generator"
      ]
    },
    {
      "cell_type": "code",
      "execution_count": null,
      "metadata": {
        "id": "_YYOmbunc7BR"
      },
      "outputs": [],
      "source": [
        "sampler_triangular = build_sampleable_triangular_mf(0.3, 0.4, 0.45)\n",
        "sampler_trapezoidal_prod_estim = build_sampleable_trapezoidal_mf(23, 35, 43, 55)\n",
        "sampler_trapezoidal_prod_pedido = build_sampleable_trapezoidal_mf(40, 43, 46, 50)"
      ]
    },
    {
      "cell_type": "code",
      "execution_count": null,
      "metadata": {
        "colab": {
          "base_uri": "https://localhost:8080/"
        },
        "id": "ysWVdcMAv8CB",
        "outputId": "7fc48728-f109-4359-ab54-c39fe3277026"
      },
      "outputs": [
        {
          "output_type": "execute_result",
          "data": {
            "text/plain": [
              "0.3819969079796578"
            ]
          },
          "metadata": {},
          "execution_count": 14
        }
      ],
      "source": [
        "sampler_trapezoidal_prod_estim(rm())\n",
        "sampler_triangular(rm(),rm())"
      ]
    },
    {
      "cell_type": "code",
      "execution_count": null,
      "metadata": {
        "id": "Mq-7hQbNz_OZ"
      },
      "outputs": [],
      "source": [
        "# Tabla de distancias/tiempos estimados entre los clientes, incluyendo el deposito (intervalo fuzzy)\n",
        "# revisar esta tabala para generar un intervalo fuzzy !!!\n",
        "carnicerias = ['Frigorifico Tres Arroyos','La Blanq y D Gaspar','La Blanquita','Rougier Carnes','La Pulperia','Granja de Rosso','La Estancia','El Buen Trato','El Ternero Gasolero','La Imbatible']\n",
        "tiempos = np.array([[0, 9, 6, 4, 4, 7, 9, 10, 12, 10],\n",
        "[8, 0, 5, 8, 8, 9, 9, 10, 11, 9],\n",
        "[6, 6, 0, 5, 5, 5, 5, 8, 7, 5],\n",
        "[4, 8, 5, 0, 1, 4, 5, 5, 7, 6],\n",
        "[5, 9, 6, 3, 0, 5, 7, 6, 8, 7],\n",
        "[7, 9, 6, 5, 5, 0, 4, 3, 5, 4],\n",
        "[8, 9, 5, 6, 5, 2, 0, 5, 4, 2],\n",
        "[9, 12, 9, 7, 6, 5, 6, 0, 5, 7],\n",
        "[10, 11, 7, 8, 7, 5, 4, 3, 0, 4],\n",
        "[9, 9, 6, 7, 6, 5, 3, 7, 6, 0]])\n",
        "df_tiempos = pd.DataFrame(tiempos, columns=carnicerias, index=carnicerias)\n",
        "df_tiempos\n",
        "\n",
        "# Tabla de Planificacion inicial de orden de visita, con estimacion de cantidad de productos requeridos (intervalo fuzzy)\n",
        "# revisar esta tabala para generar un intervalo fuzzy !!!\n",
        "data_planificacion = np.array([['La Blanq y D Gaspar',1,4, 40,int(sampler_trapezoidal_prod_estim(rm())),0],\n",
        "                              ['La Blanquita',2,3, 40,int(sampler_trapezoidal_prod_estim(rm())),0],\n",
        "                              ['Rougier Carnes',3,2,40,int(sampler_trapezoidal_prod_estim(rm())),0],\n",
        "                              ['La Pulperia',4,1, 40,int(sampler_trapezoidal_prod_estim(rm())),0],\n",
        "                              ['Granja de Rosso',5,5,40,int(sampler_trapezoidal_prod_estim(rm())),0],\n",
        "                              ['La Estancia',6,6,40,int(sampler_trapezoidal_prod_estim(rm())),0],\n",
        "                              ['El Buen Trato',7,9,40,int(sampler_trapezoidal_prod_estim(rm())),0],\n",
        "                              ['El Ternero Gasolero',8,8,40,int(sampler_trapezoidal_prod_estim(rm())),0],\n",
        "                              ['La Imbatible',9,7,40,int(sampler_trapezoidal_prod_estim(rm())),0]])\n",
        "df_planificacion =  pd.DataFrame(data_planificacion, columns=['cliente','idCliente','orden','productosEstimados','productosPedidos','productosRecibidos'])\n",
        "df_planificacion\n",
        "\n",
        "# Tabla de \"registro de viaje\": orden de visita real, confirmacion de atencion, duracion del viaje, tiempos de llegada, tiempo de atencion, cantidad de pedido real (en el momento), cantidad de productos realmente entregados\n",
        "#data_viaje = np.array([0,0,0,0,0,0,0,0]) # se cargaria durante la simulacion\n",
        "df_viaje =  pd.DataFrame( columns=['Cliente','orden_visita_real','duracion_viaje','tiempo_llegada','duracion_espera','posponer','tiempo_atencion','pedido','duracion_atencion','entregar','entregado'])\n",
        "df_viaje\n",
        "\n",
        "# Vehiculos (capacidad, prod disp, prod entregados, tiempos/dist recorrida... )\n",
        "capacity_vehicle_1 = 450\n",
        "available_products_vehicle_1 = 410\n",
        "warehouse_vehicle_1 = 'Frigorifico Tres Arroyos' #ubicacion inicial\n",
        "current_time=''\n",
        "current_event= ''\n",
        "current_location = warehouse_vehicle_1\n"
      ]
    },
    {
      "cell_type": "markdown",
      "source": [
        "=============================================\n",
        "# **NetworkX**\n",
        "Instalación y pruebas"
      ],
      "metadata": {
        "id": "_d8YrgZgpbX_"
      }
    },
    {
      "cell_type": "code",
      "source": [
        "#!pip install networkx[default]\n",
        "!pip install --user networkx==2.8.8 \n",
        "#1.15.0"
      ],
      "metadata": {
        "colab": {
          "base_uri": "https://localhost:8080/"
        },
        "id": "spcpRYjIHxE2",
        "outputId": "b7665dcb-c13e-4d19-9893-3f7ca2a42578"
      },
      "execution_count": null,
      "outputs": [
        {
          "output_type": "stream",
          "name": "stdout",
          "text": [
            "Looking in indexes: https://pypi.org/simple, https://us-python.pkg.dev/colab-wheels/public/simple/\n",
            "Collecting networkx==2.8.8\n",
            "  Using cached networkx-2.8.8-py3-none-any.whl (2.0 MB)\n",
            "Installing collected packages: networkx\n",
            "\u001b[31mERROR: pip's dependency resolver does not currently take into account all the packages that are installed. This behaviour is the source of the following dependency conflicts.\n",
            "karateclub 1.3.3 requires networkx<2.7, but you have networkx 2.8.8 which is incompatible.\u001b[0m\u001b[31m\n",
            "\u001b[0mSuccessfully installed networkx-2.8.8\n"
          ]
        }
      ]
    },
    {
      "cell_type": "code",
      "source": [
        "import networkx as nx\n",
        "import matplotlib\n",
        "import matplotlib.pyplot as plt"
      ],
      "metadata": {
        "id": "kH4pzW1EIBAP"
      },
      "execution_count": null,
      "outputs": []
    },
    {
      "cell_type": "code",
      "source": [
        "tiempos\n",
        "df_tiempos"
      ],
      "metadata": {
        "colab": {
          "base_uri": "https://localhost:8080/",
          "height": 407
        },
        "id": "ZrJB3aOFFjTq",
        "outputId": "7d69fda3-e32d-44ca-afb4-986fcce39293"
      },
      "execution_count": null,
      "outputs": [
        {
          "output_type": "execute_result",
          "data": {
            "text/plain": [
              "                          Frigorifico Tres Arroyos  La Blanq y D Gaspar  \\\n",
              "Frigorifico Tres Arroyos                         0                    9   \n",
              "La Blanq y D Gaspar                              8                    0   \n",
              "La Blanquita                                     6                    6   \n",
              "Rougier Carnes                                   4                    8   \n",
              "La Pulperia                                      5                    9   \n",
              "Granja de Rosso                                  7                    9   \n",
              "La Estancia                                      8                    9   \n",
              "El Buen Trato                                    9                   12   \n",
              "El Ternero Gasolero                             10                   11   \n",
              "La Imbatible                                     9                    9   \n",
              "\n",
              "                          La Blanquita  Rougier Carnes  La Pulperia  \\\n",
              "Frigorifico Tres Arroyos             6               4            4   \n",
              "La Blanq y D Gaspar                  5               8            8   \n",
              "La Blanquita                         0               5            5   \n",
              "Rougier Carnes                       5               0            1   \n",
              "La Pulperia                          6               3            0   \n",
              "Granja de Rosso                      6               5            5   \n",
              "La Estancia                          5               6            5   \n",
              "El Buen Trato                        9               7            6   \n",
              "El Ternero Gasolero                  7               8            7   \n",
              "La Imbatible                         6               7            6   \n",
              "\n",
              "                          Granja de Rosso  La Estancia  El Buen Trato  \\\n",
              "Frigorifico Tres Arroyos                7            9             10   \n",
              "La Blanq y D Gaspar                     9            9             10   \n",
              "La Blanquita                            5            5              8   \n",
              "Rougier Carnes                          4            5              5   \n",
              "La Pulperia                             5            7              6   \n",
              "Granja de Rosso                         0            4              3   \n",
              "La Estancia                             2            0              5   \n",
              "El Buen Trato                           5            6              0   \n",
              "El Ternero Gasolero                     5            4              3   \n",
              "La Imbatible                            5            3              7   \n",
              "\n",
              "                          El Ternero Gasolero  La Imbatible  \n",
              "Frigorifico Tres Arroyos                   12            10  \n",
              "La Blanq y D Gaspar                        11             9  \n",
              "La Blanquita                                7             5  \n",
              "Rougier Carnes                              7             6  \n",
              "La Pulperia                                 8             7  \n",
              "Granja de Rosso                             5             4  \n",
              "La Estancia                                 4             2  \n",
              "El Buen Trato                               5             7  \n",
              "El Ternero Gasolero                         0             4  \n",
              "La Imbatible                                6             0  "
            ],
            "text/html": [
              "\n",
              "  <div id=\"df-9f3593b3-2b89-4744-ab84-34782a9b54e0\">\n",
              "    <div class=\"colab-df-container\">\n",
              "      <div>\n",
              "<style scoped>\n",
              "    .dataframe tbody tr th:only-of-type {\n",
              "        vertical-align: middle;\n",
              "    }\n",
              "\n",
              "    .dataframe tbody tr th {\n",
              "        vertical-align: top;\n",
              "    }\n",
              "\n",
              "    .dataframe thead th {\n",
              "        text-align: right;\n",
              "    }\n",
              "</style>\n",
              "<table border=\"1\" class=\"dataframe\">\n",
              "  <thead>\n",
              "    <tr style=\"text-align: right;\">\n",
              "      <th></th>\n",
              "      <th>Frigorifico Tres Arroyos</th>\n",
              "      <th>La Blanq y D Gaspar</th>\n",
              "      <th>La Blanquita</th>\n",
              "      <th>Rougier Carnes</th>\n",
              "      <th>La Pulperia</th>\n",
              "      <th>Granja de Rosso</th>\n",
              "      <th>La Estancia</th>\n",
              "      <th>El Buen Trato</th>\n",
              "      <th>El Ternero Gasolero</th>\n",
              "      <th>La Imbatible</th>\n",
              "    </tr>\n",
              "  </thead>\n",
              "  <tbody>\n",
              "    <tr>\n",
              "      <th>Frigorifico Tres Arroyos</th>\n",
              "      <td>0</td>\n",
              "      <td>9</td>\n",
              "      <td>6</td>\n",
              "      <td>4</td>\n",
              "      <td>4</td>\n",
              "      <td>7</td>\n",
              "      <td>9</td>\n",
              "      <td>10</td>\n",
              "      <td>12</td>\n",
              "      <td>10</td>\n",
              "    </tr>\n",
              "    <tr>\n",
              "      <th>La Blanq y D Gaspar</th>\n",
              "      <td>8</td>\n",
              "      <td>0</td>\n",
              "      <td>5</td>\n",
              "      <td>8</td>\n",
              "      <td>8</td>\n",
              "      <td>9</td>\n",
              "      <td>9</td>\n",
              "      <td>10</td>\n",
              "      <td>11</td>\n",
              "      <td>9</td>\n",
              "    </tr>\n",
              "    <tr>\n",
              "      <th>La Blanquita</th>\n",
              "      <td>6</td>\n",
              "      <td>6</td>\n",
              "      <td>0</td>\n",
              "      <td>5</td>\n",
              "      <td>5</td>\n",
              "      <td>5</td>\n",
              "      <td>5</td>\n",
              "      <td>8</td>\n",
              "      <td>7</td>\n",
              "      <td>5</td>\n",
              "    </tr>\n",
              "    <tr>\n",
              "      <th>Rougier Carnes</th>\n",
              "      <td>4</td>\n",
              "      <td>8</td>\n",
              "      <td>5</td>\n",
              "      <td>0</td>\n",
              "      <td>1</td>\n",
              "      <td>4</td>\n",
              "      <td>5</td>\n",
              "      <td>5</td>\n",
              "      <td>7</td>\n",
              "      <td>6</td>\n",
              "    </tr>\n",
              "    <tr>\n",
              "      <th>La Pulperia</th>\n",
              "      <td>5</td>\n",
              "      <td>9</td>\n",
              "      <td>6</td>\n",
              "      <td>3</td>\n",
              "      <td>0</td>\n",
              "      <td>5</td>\n",
              "      <td>7</td>\n",
              "      <td>6</td>\n",
              "      <td>8</td>\n",
              "      <td>7</td>\n",
              "    </tr>\n",
              "    <tr>\n",
              "      <th>Granja de Rosso</th>\n",
              "      <td>7</td>\n",
              "      <td>9</td>\n",
              "      <td>6</td>\n",
              "      <td>5</td>\n",
              "      <td>5</td>\n",
              "      <td>0</td>\n",
              "      <td>4</td>\n",
              "      <td>3</td>\n",
              "      <td>5</td>\n",
              "      <td>4</td>\n",
              "    </tr>\n",
              "    <tr>\n",
              "      <th>La Estancia</th>\n",
              "      <td>8</td>\n",
              "      <td>9</td>\n",
              "      <td>5</td>\n",
              "      <td>6</td>\n",
              "      <td>5</td>\n",
              "      <td>2</td>\n",
              "      <td>0</td>\n",
              "      <td>5</td>\n",
              "      <td>4</td>\n",
              "      <td>2</td>\n",
              "    </tr>\n",
              "    <tr>\n",
              "      <th>El Buen Trato</th>\n",
              "      <td>9</td>\n",
              "      <td>12</td>\n",
              "      <td>9</td>\n",
              "      <td>7</td>\n",
              "      <td>6</td>\n",
              "      <td>5</td>\n",
              "      <td>6</td>\n",
              "      <td>0</td>\n",
              "      <td>5</td>\n",
              "      <td>7</td>\n",
              "    </tr>\n",
              "    <tr>\n",
              "      <th>El Ternero Gasolero</th>\n",
              "      <td>10</td>\n",
              "      <td>11</td>\n",
              "      <td>7</td>\n",
              "      <td>8</td>\n",
              "      <td>7</td>\n",
              "      <td>5</td>\n",
              "      <td>4</td>\n",
              "      <td>3</td>\n",
              "      <td>0</td>\n",
              "      <td>4</td>\n",
              "    </tr>\n",
              "    <tr>\n",
              "      <th>La Imbatible</th>\n",
              "      <td>9</td>\n",
              "      <td>9</td>\n",
              "      <td>6</td>\n",
              "      <td>7</td>\n",
              "      <td>6</td>\n",
              "      <td>5</td>\n",
              "      <td>3</td>\n",
              "      <td>7</td>\n",
              "      <td>6</td>\n",
              "      <td>0</td>\n",
              "    </tr>\n",
              "  </tbody>\n",
              "</table>\n",
              "</div>\n",
              "      <button class=\"colab-df-convert\" onclick=\"convertToInteractive('df-9f3593b3-2b89-4744-ab84-34782a9b54e0')\"\n",
              "              title=\"Convert this dataframe to an interactive table.\"\n",
              "              style=\"display:none;\">\n",
              "        \n",
              "  <svg xmlns=\"http://www.w3.org/2000/svg\" height=\"24px\"viewBox=\"0 0 24 24\"\n",
              "       width=\"24px\">\n",
              "    <path d=\"M0 0h24v24H0V0z\" fill=\"none\"/>\n",
              "    <path d=\"M18.56 5.44l.94 2.06.94-2.06 2.06-.94-2.06-.94-.94-2.06-.94 2.06-2.06.94zm-11 1L8.5 8.5l.94-2.06 2.06-.94-2.06-.94L8.5 2.5l-.94 2.06-2.06.94zm10 10l.94 2.06.94-2.06 2.06-.94-2.06-.94-.94-2.06-.94 2.06-2.06.94z\"/><path d=\"M17.41 7.96l-1.37-1.37c-.4-.4-.92-.59-1.43-.59-.52 0-1.04.2-1.43.59L10.3 9.45l-7.72 7.72c-.78.78-.78 2.05 0 2.83L4 21.41c.39.39.9.59 1.41.59.51 0 1.02-.2 1.41-.59l7.78-7.78 2.81-2.81c.8-.78.8-2.07 0-2.86zM5.41 20L4 18.59l7.72-7.72 1.47 1.35L5.41 20z\"/>\n",
              "  </svg>\n",
              "      </button>\n",
              "      \n",
              "  <style>\n",
              "    .colab-df-container {\n",
              "      display:flex;\n",
              "      flex-wrap:wrap;\n",
              "      gap: 12px;\n",
              "    }\n",
              "\n",
              "    .colab-df-convert {\n",
              "      background-color: #E8F0FE;\n",
              "      border: none;\n",
              "      border-radius: 50%;\n",
              "      cursor: pointer;\n",
              "      display: none;\n",
              "      fill: #1967D2;\n",
              "      height: 32px;\n",
              "      padding: 0 0 0 0;\n",
              "      width: 32px;\n",
              "    }\n",
              "\n",
              "    .colab-df-convert:hover {\n",
              "      background-color: #E2EBFA;\n",
              "      box-shadow: 0px 1px 2px rgba(60, 64, 67, 0.3), 0px 1px 3px 1px rgba(60, 64, 67, 0.15);\n",
              "      fill: #174EA6;\n",
              "    }\n",
              "\n",
              "    [theme=dark] .colab-df-convert {\n",
              "      background-color: #3B4455;\n",
              "      fill: #D2E3FC;\n",
              "    }\n",
              "\n",
              "    [theme=dark] .colab-df-convert:hover {\n",
              "      background-color: #434B5C;\n",
              "      box-shadow: 0px 1px 3px 1px rgba(0, 0, 0, 0.15);\n",
              "      filter: drop-shadow(0px 1px 2px rgba(0, 0, 0, 0.3));\n",
              "      fill: #FFFFFF;\n",
              "    }\n",
              "  </style>\n",
              "\n",
              "      <script>\n",
              "        const buttonEl =\n",
              "          document.querySelector('#df-9f3593b3-2b89-4744-ab84-34782a9b54e0 button.colab-df-convert');\n",
              "        buttonEl.style.display =\n",
              "          google.colab.kernel.accessAllowed ? 'block' : 'none';\n",
              "\n",
              "        async function convertToInteractive(key) {\n",
              "          const element = document.querySelector('#df-9f3593b3-2b89-4744-ab84-34782a9b54e0');\n",
              "          const dataTable =\n",
              "            await google.colab.kernel.invokeFunction('convertToInteractive',\n",
              "                                                     [key], {});\n",
              "          if (!dataTable) return;\n",
              "\n",
              "          const docLinkHtml = 'Like what you see? Visit the ' +\n",
              "            '<a target=\"_blank\" href=https://colab.research.google.com/notebooks/data_table.ipynb>data table notebook</a>'\n",
              "            + ' to learn more about interactive tables.';\n",
              "          element.innerHTML = '';\n",
              "          dataTable['output_type'] = 'display_data';\n",
              "          await google.colab.output.renderOutput(dataTable, element);\n",
              "          const docLink = document.createElement('div');\n",
              "          docLink.innerHTML = docLinkHtml;\n",
              "          element.appendChild(docLink);\n",
              "        }\n",
              "      </script>\n",
              "    </div>\n",
              "  </div>\n",
              "  "
            ]
          },
          "metadata": {},
          "execution_count": 22
        }
      ]
    },
    {
      "cell_type": "code",
      "source": [
        "A = tiempos\n",
        "B = df_tiempos\n",
        "#G = nx.from_numpy_matrix(A)\n",
        "GP = nx.from_pandas_adjacency(B)"
      ],
      "metadata": {
        "id": "eD5qM9BjFkGx"
      },
      "execution_count": null,
      "outputs": []
    },
    {
      "cell_type": "code",
      "source": [
        "nx.draw(GP, with_labels=True, font_weight='bold')"
      ],
      "metadata": {
        "colab": {
          "base_uri": "https://localhost:8080/",
          "height": 516
        },
        "id": "eg0MBXNcHbo_",
        "outputId": "fe1c22c0-9a07-4418-f0f0-4c5b322cd095"
      },
      "execution_count": null,
      "outputs": [
        {
          "output_type": "display_data",
          "data": {
            "text/plain": [
              "<Figure size 640x480 with 1 Axes>"
            ],
            "image/png": "[encoded data removed]"
          },
          "metadata": {}
        }
      ]
    },
    {
      "cell_type": "code",
      "source": [
        "#GP.edges\n",
        "GP.nodes"
      ],
      "metadata": {
        "id": "fjHH5AyvIzuR",
        "colab": {
          "base_uri": "https://localhost:8080/"
        },
        "outputId": "e00ac3e5-989c-4610-cfaf-ef1d796cf03c"
      },
      "execution_count": null,
      "outputs": [
        {
          "output_type": "execute_result",
          "data": {
            "text/plain": [
              "NodeView(('Frigorifico Tres Arroyos', 'La Blanq y D Gaspar', 'La Blanquita', 'Rougier Carnes', 'La Pulperia', 'Granja de Rosso', 'La Estancia', 'El Buen Trato', 'El Ternero Gasolero', 'La Imbatible'))"
            ]
          },
          "metadata": {},
          "execution_count": 25
        }
      ]
    },
    {
      "cell_type": "code",
      "source": [
        "GP.edges.data()\n",
        "distancias = nx.get_edge_attributes(GP,'weight')\n",
        "distancias"
      ],
      "metadata": {
        "id": "e_8mYpo0MYUy",
        "colab": {
          "base_uri": "https://localhost:8080/"
        },
        "outputId": "afb03cb8-aa77-400b-e1d9-583fb52efc58"
      },
      "execution_count": null,
      "outputs": [
        {
          "output_type": "execute_result",
          "data": {
            "text/plain": [
              "{('Frigorifico Tres Arroyos', 'La Blanq y D Gaspar'): 8,\n",
              " ('Frigorifico Tres Arroyos', 'La Blanquita'): 6,\n",
              " ('Frigorifico Tres Arroyos', 'Rougier Carnes'): 4,\n",
              " ('Frigorifico Tres Arroyos', 'La Pulperia'): 5,\n",
              " ('Frigorifico Tres Arroyos', 'Granja de Rosso'): 7,\n",
              " ('Frigorifico Tres Arroyos', 'La Estancia'): 8,\n",
              " ('Frigorifico Tres Arroyos', 'El Buen Trato'): 9,\n",
              " ('Frigorifico Tres Arroyos', 'El Ternero Gasolero'): 10,\n",
              " ('Frigorifico Tres Arroyos', 'La Imbatible'): 9,\n",
              " ('La Blanq y D Gaspar', 'La Blanquita'): 6,\n",
              " ('La Blanq y D Gaspar', 'Rougier Carnes'): 8,\n",
              " ('La Blanq y D Gaspar', 'La Pulperia'): 9,\n",
              " ('La Blanq y D Gaspar', 'Granja de Rosso'): 9,\n",
              " ('La Blanq y D Gaspar', 'La Estancia'): 9,\n",
              " ('La Blanq y D Gaspar', 'El Buen Trato'): 12,\n",
              " ('La Blanq y D Gaspar', 'El Ternero Gasolero'): 11,\n",
              " ('La Blanq y D Gaspar', 'La Imbatible'): 9,\n",
              " ('La Blanquita', 'Rougier Carnes'): 5,\n",
              " ('La Blanquita', 'La Pulperia'): 6,\n",
              " ('La Blanquita', 'Granja de Rosso'): 6,\n",
              " ('La Blanquita', 'La Estancia'): 5,\n",
              " ('La Blanquita', 'El Buen Trato'): 9,\n",
              " ('La Blanquita', 'El Ternero Gasolero'): 7,\n",
              " ('La Blanquita', 'La Imbatible'): 6,\n",
              " ('Rougier Carnes', 'La Pulperia'): 3,\n",
              " ('Rougier Carnes', 'Granja de Rosso'): 5,\n",
              " ('Rougier Carnes', 'La Estancia'): 6,\n",
              " ('Rougier Carnes', 'El Buen Trato'): 7,\n",
              " ('Rougier Carnes', 'El Ternero Gasolero'): 8,\n",
              " ('Rougier Carnes', 'La Imbatible'): 7,\n",
              " ('La Pulperia', 'Granja de Rosso'): 5,\n",
              " ('La Pulperia', 'La Estancia'): 5,\n",
              " ('La Pulperia', 'El Buen Trato'): 6,\n",
              " ('La Pulperia', 'El Ternero Gasolero'): 7,\n",
              " ('La Pulperia', 'La Imbatible'): 6,\n",
              " ('Granja de Rosso', 'La Estancia'): 2,\n",
              " ('Granja de Rosso', 'El Buen Trato'): 5,\n",
              " ('Granja de Rosso', 'El Ternero Gasolero'): 5,\n",
              " ('Granja de Rosso', 'La Imbatible'): 5,\n",
              " ('La Estancia', 'El Buen Trato'): 6,\n",
              " ('La Estancia', 'El Ternero Gasolero'): 4,\n",
              " ('La Estancia', 'La Imbatible'): 3,\n",
              " ('El Buen Trato', 'El Ternero Gasolero'): 3,\n",
              " ('El Buen Trato', 'La Imbatible'): 7,\n",
              " ('El Ternero Gasolero', 'La Imbatible'): 6}"
            ]
          },
          "metadata": {},
          "execution_count": 26
        }
      ]
    },
    {
      "cell_type": "code",
      "source": [
        "distancias.keys()"
      ],
      "metadata": {
        "colab": {
          "base_uri": "https://localhost:8080/"
        },
        "id": "G99Xkej1qfwD",
        "outputId": "2c84883a-e484-46c6-e351-c0781ba56b28"
      },
      "execution_count": null,
      "outputs": [
        {
          "output_type": "execute_result",
          "data": {
            "text/plain": [
              "dict_keys([('Frigorifico Tres Arroyos', 'La Blanq y D Gaspar'), ('Frigorifico Tres Arroyos', 'La Blanquita'), ('Frigorifico Tres Arroyos', 'Rougier Carnes'), ('Frigorifico Tres Arroyos', 'La Pulperia'), ('Frigorifico Tres Arroyos', 'Granja de Rosso'), ('Frigorifico Tres Arroyos', 'La Estancia'), ('Frigorifico Tres Arroyos', 'El Buen Trato'), ('Frigorifico Tres Arroyos', 'El Ternero Gasolero'), ('Frigorifico Tres Arroyos', 'La Imbatible'), ('La Blanq y D Gaspar', 'La Blanquita'), ('La Blanq y D Gaspar', 'Rougier Carnes'), ('La Blanq y D Gaspar', 'La Pulperia'), ('La Blanq y D Gaspar', 'Granja de Rosso'), ('La Blanq y D Gaspar', 'La Estancia'), ('La Blanq y D Gaspar', 'El Buen Trato'), ('La Blanq y D Gaspar', 'El Ternero Gasolero'), ('La Blanq y D Gaspar', 'La Imbatible'), ('La Blanquita', 'Rougier Carnes'), ('La Blanquita', 'La Pulperia'), ('La Blanquita', 'Granja de Rosso'), ('La Blanquita', 'La Estancia'), ('La Blanquita', 'El Buen Trato'), ('La Blanquita', 'El Ternero Gasolero'), ('La Blanquita', 'La Imbatible'), ('Rougier Carnes', 'La Pulperia'), ('Rougier Carnes', 'Granja de Rosso'), ('Rougier Carnes', 'La Estancia'), ('Rougier Carnes', 'El Buen Trato'), ('Rougier Carnes', 'El Ternero Gasolero'), ('Rougier Carnes', 'La Imbatible'), ('La Pulperia', 'Granja de Rosso'), ('La Pulperia', 'La Estancia'), ('La Pulperia', 'El Buen Trato'), ('La Pulperia', 'El Ternero Gasolero'), ('La Pulperia', 'La Imbatible'), ('Granja de Rosso', 'La Estancia'), ('Granja de Rosso', 'El Buen Trato'), ('Granja de Rosso', 'El Ternero Gasolero'), ('Granja de Rosso', 'La Imbatible'), ('La Estancia', 'El Buen Trato'), ('La Estancia', 'El Ternero Gasolero'), ('La Estancia', 'La Imbatible'), ('El Buen Trato', 'El Ternero Gasolero'), ('El Buen Trato', 'La Imbatible'), ('El Ternero Gasolero', 'La Imbatible')])"
            ]
          },
          "metadata": {},
          "execution_count": 27
        }
      ]
    },
    {
      "cell_type": "code",
      "source": [
        "for i in distancias.keys():\n",
        "  print(i, ': ', distancias[i],  end=\" - \")"
      ],
      "metadata": {
        "colab": {
          "base_uri": "https://localhost:8080/"
        },
        "id": "XWnJTCCXqrkh",
        "outputId": "041c29d5-1d83-4d2c-fc38-06501b0c1ad2"
      },
      "execution_count": null,
      "outputs": [
        {
          "output_type": "stream",
          "name": "stdout",
          "text": [
            "('Frigorifico Tres Arroyos', 'La Blanq y D Gaspar') :  8 - ('Frigorifico Tres Arroyos', 'La Blanquita') :  6 - ('Frigorifico Tres Arroyos', 'Rougier Carnes') :  4 - ('Frigorifico Tres Arroyos', 'La Pulperia') :  5 - ('Frigorifico Tres Arroyos', 'Granja de Rosso') :  7 - ('Frigorifico Tres Arroyos', 'La Estancia') :  8 - ('Frigorifico Tres Arroyos', 'El Buen Trato') :  9 - ('Frigorifico Tres Arroyos', 'El Ternero Gasolero') :  10 - ('Frigorifico Tres Arroyos', 'La Imbatible') :  9 - ('La Blanq y D Gaspar', 'La Blanquita') :  6 - ('La Blanq y D Gaspar', 'Rougier Carnes') :  8 - ('La Blanq y D Gaspar', 'La Pulperia') :  9 - ('La Blanq y D Gaspar', 'Granja de Rosso') :  9 - ('La Blanq y D Gaspar', 'La Estancia') :  9 - ('La Blanq y D Gaspar', 'El Buen Trato') :  12 - ('La Blanq y D Gaspar', 'El Ternero Gasolero') :  11 - ('La Blanq y D Gaspar', 'La Imbatible') :  9 - ('La Blanquita', 'Rougier Carnes') :  5 - ('La Blanquita', 'La Pulperia') :  6 - ('La Blanquita', 'Granja de Rosso') :  6 - ('La Blanquita', 'La Estancia') :  5 - ('La Blanquita', 'El Buen Trato') :  9 - ('La Blanquita', 'El Ternero Gasolero') :  7 - ('La Blanquita', 'La Imbatible') :  6 - ('Rougier Carnes', 'La Pulperia') :  3 - ('Rougier Carnes', 'Granja de Rosso') :  5 - ('Rougier Carnes', 'La Estancia') :  6 - ('Rougier Carnes', 'El Buen Trato') :  7 - ('Rougier Carnes', 'El Ternero Gasolero') :  8 - ('Rougier Carnes', 'La Imbatible') :  7 - ('La Pulperia', 'Granja de Rosso') :  5 - ('La Pulperia', 'La Estancia') :  5 - ('La Pulperia', 'El Buen Trato') :  6 - ('La Pulperia', 'El Ternero Gasolero') :  7 - ('La Pulperia', 'La Imbatible') :  6 - ('Granja de Rosso', 'La Estancia') :  2 - ('Granja de Rosso', 'El Buen Trato') :  5 - ('Granja de Rosso', 'El Ternero Gasolero') :  5 - ('Granja de Rosso', 'La Imbatible') :  5 - ('La Estancia', 'El Buen Trato') :  6 - ('La Estancia', 'El Ternero Gasolero') :  4 - ('La Estancia', 'La Imbatible') :  3 - ('El Buen Trato', 'El Ternero Gasolero') :  3 - ('El Buen Trato', 'La Imbatible') :  7 - ('El Ternero Gasolero', 'La Imbatible') :  6 - "
          ]
        }
      ]
    },
    {
      "cell_type": "code",
      "source": [
        "GP.nodes\n",
        "GP.nodes['Frigorifico Tres Arroyos']['demanda_estimada'] = 0 #DEPOSITO\n",
        "GP.nodes['La Blanq y D Gaspar']['demanda_estimada'] = int(sampler_trapezoidal_prod_estim(rm()))\n",
        "GP.nodes['La Blanquita']['demanda_estimada'] = int(sampler_trapezoidal_prod_estim(rm()))\n",
        "GP.nodes['Rougier Carnes']['demanda_estimada'] = int(sampler_trapezoidal_prod_estim(rm()))\n",
        "GP.nodes['La Pulperia']['demanda_estimada'] = int(sampler_trapezoidal_prod_estim(rm()))\n",
        "GP.nodes['Granja de Rosso']['demanda_estimada'] = int(sampler_trapezoidal_prod_estim(rm()))\n",
        "GP.nodes['La Estancia']['demanda_estimada'] = int(sampler_trapezoidal_prod_estim(rm()))\n",
        "GP.nodes['El Buen Trato']['demanda_estimada'] = int(sampler_trapezoidal_prod_estim(rm()))\n",
        "GP.nodes['El Ternero Gasolero']['demanda_estimada'] = int(sampler_trapezoidal_prod_estim(rm()))\n",
        "GP.nodes['La Imbatible']['demanda_estimada'] = int(sampler_trapezoidal_prod_estim(rm()))\n",
        "\n",
        "GP.nodes.data()"
      ],
      "metadata": {
        "colab": {
          "base_uri": "https://localhost:8080/"
        },
        "id": "U17LEj68QG4g",
        "outputId": "e1fd2428-e199-4639-a130-d1e4b9248c90"
      },
      "execution_count": null,
      "outputs": [
        {
          "output_type": "execute_result",
          "data": {
            "text/plain": [
              "NodeDataView({'Frigorifico Tres Arroyos': {'demanda_estimada': 0}, 'La Blanq y D Gaspar': {'demanda_estimada': 25}, 'La Blanquita': {'demanda_estimada': 50}, 'Rougier Carnes': {'demanda_estimada': 41}, 'La Pulperia': {'demanda_estimada': 37}, 'Granja de Rosso': {'demanda_estimada': 33}, 'La Estancia': {'demanda_estimada': 47}, 'El Buen Trato': {'demanda_estimada': 54}, 'El Ternero Gasolero': {'demanda_estimada': 50}, 'La Imbatible': {'demanda_estimada': 47}})"
            ]
          },
          "metadata": {},
          "execution_count": 30
        }
      ]
    },
    {
      "cell_type": "code",
      "source": [
        "nx.draw(H, with_labels=True, font_weight='bold')"
      ],
      "metadata": {
        "colab": {
          "base_uri": "https://localhost:8080/",
          "height": 516
        },
        "id": "T5XljSPSzfBy",
        "outputId": "fd63d58f-001c-45c2-8793-b5aeed1cfa61"
      },
      "execution_count": null,
      "outputs": [
        {
          "output_type": "display_data",
          "data": {
            "text/plain": [
              "<Figure size 640x480 with 1 Axes>"
            ],
            "image/png": "[encoded data removed]"
          },
          "metadata": {}
        }
      ]
    },
    {
      "cell_type": "markdown",
      "source": [
        "## Definición Distancias"
      ],
      "metadata": {
        "id": "ooXSIW9vYhqt"
      }
    },
    {
      "cell_type": "code",
      "source": [
        "#Distancia de edicion entre grafos\n",
        "nx.graph_edit_distance(GP, H)\n",
        "\n"
      ],
      "metadata": {
        "colab": {
          "base_uri": "https://localhost:8080/"
        },
        "id": "2OWSxoThMYQo",
        "outputId": "d52a5652-46db-4ea7-9606-c495e3e04b86"
      },
      "execution_count": null,
      "outputs": [
        {
          "output_type": "execute_result",
          "data": {
            "text/plain": [
              "19.0"
            ]
          },
          "metadata": {},
          "execution_count": 36
        }
      ]
    },
    {
      "cell_type": "code",
      "source": [
        "G1=GP\n",
        "G2 = H\n",
        "\n",
        "# arguments for nodes\n",
        "def node_subst_cost(node1, node2):\n",
        "    # check if the nodes are equal, if yes then apply no cost, else apply 1\n",
        "    if node1 == node2:\n",
        "        return 0\n",
        "    return (abs(node1['demanda_estimada'] - node2['demanda_estimada']))\n",
        "\n",
        "def node_del_cost(node):\n",
        "    return abs(node['demanda_estimada'])  # here you apply the cost for node deletion\n",
        "\n",
        "def node_ins_cost(node):\n",
        "    return abs(node['demanda_estimada'])  # here you apply the cost for node insertion\n",
        "\n",
        "# arguments for edges\n",
        "def edge_subst_cost(edge1, edge2):\n",
        "    # check if the edges are equal, if yes then apply no cost, else apply 3\n",
        "    if edge1==edge2:\n",
        "        return 0\n",
        "    return (abs(edge1['weight'] - edge2['weight']))\n",
        "\n",
        "def edge_del_cost(edge):\n",
        "    return edge['weight'] # here you apply the cost for edge deletion\n",
        "\n",
        "def edge_ins_cost(edge):\n",
        "    return edge['weight']  # here you apply the cost for edge insertion\n",
        "\n",
        "cost_function = lambda G1,G2: nx.graph_edit_distance(\n",
        "    G1,\n",
        "    G2,\n",
        "    node_subst_cost=node_subst_cost,\n",
        "    node_del_cost=node_del_cost,\n",
        "    node_ins_cost=node_ins_cost,\n",
        "    edge_subst_cost=edge_subst_cost,\n",
        "    edge_del_cost=edge_del_cost,\n",
        "    edge_ins_cost=edge_ins_cost\n",
        ")\n",
        "\n",
        "print(cost_function(G1,G2))\n"
      ],
      "metadata": {
        "colab": {
          "base_uri": "https://localhost:8080/"
        },
        "id": "RKURoaLAh0wI",
        "outputId": "9f929bae-5fa7-4520-f4fc-596983a583b1"
      },
      "execution_count": null,
      "outputs": [
        {
          "output_type": "stream",
          "name": "stdout",
          "text": [
            "197.0\n"
          ]
        }
      ]
    },
    {
      "cell_type": "code",
      "source": [
        "print(cost_function(G1,G2))"
      ],
      "metadata": {
        "colab": {
          "base_uri": "https://localhost:8080/"
        },
        "id": "jEK03uCnnocX",
        "outputId": "07677118-cd52-4bf5-ce92-b005023400f9"
      },
      "execution_count": null,
      "outputs": [
        {
          "output_type": "stream",
          "name": "stdout",
          "text": [
            "197.0\n"
          ]
        }
      ]
    },
    {
      "cell_type": "code",
      "source": [
        "GG = [GP,H,GP,H]"
      ],
      "metadata": {
        "id": "-vnsE8oVWE8m"
      },
      "execution_count": null,
      "outputs": []
    },
    {
      "cell_type": "code",
      "source": [
        "def graphs_distance(G):\n",
        "\n",
        "  Y = []\n",
        "\n",
        "  #vamos agregando las distancias\n",
        "  for i in range(len(G)):\n",
        "    \n",
        "    if (i<len(G)):\n",
        "      for g in range(i+1,len(G)):\n",
        "        Y.append(cost_function(G[i],G[g]))\n",
        "\n",
        "  return Y"
      ],
      "metadata": {
        "id": "v22tHx_aWEyU"
      },
      "execution_count": null,
      "outputs": []
    },
    {
      "cell_type": "code",
      "source": [
        "distancias = graphs_distance(GG)\n",
        "distancias"
      ],
      "metadata": {
        "colab": {
          "base_uri": "https://localhost:8080/"
        },
        "id": "_pDL0hw8WEjm",
        "outputId": "5788f416-d659-44d4-8271-5da51261589d"
      },
      "execution_count": null,
      "outputs": [
        {
          "output_type": "execute_result",
          "data": {
            "text/plain": [
              "[197.0, 0.0, 197.0, 197.0, 0.0, 197.0]"
            ]
          },
          "metadata": {},
          "execution_count": 44
        }
      ]
    },
    {
      "cell_type": "markdown",
      "source": [
        "## Dataset"
      ],
      "metadata": {
        "id": "5G52e0Spa-00"
      }
    },
    {
      "cell_type": "code",
      "source": [
        "##\n",
        "sampler_triangular = build_sampleable_triangular_mf(0.3, 0.4, 0.45)\n",
        "sampler_trapezoidal_prod_estim = build_sampleable_trapezoidal_mf(23, 35, 43, 55)\n",
        "sampler_trapezoidal_prod_estim_high = build_sampleable_trapezoidal_mf(30, 45, 55, 75)\n",
        "\n",
        "sampler_trapezoidal_prod_estim_2 = build_sampleable_trapezoidal_mf(25, 32, 40, 50)\n",
        "sampler_trapezoidal_prod_estim_high_2 = build_sampleable_trapezoidal_mf(30, 48, 60, 80)\n",
        "\n",
        "sampler_trapezoidal_prod_estim_3 = build_sampleable_trapezoidal_mf(25, 35, 40, 45)\n",
        "sampler_trapezoidal_prod_estim_high_3 = build_sampleable_trapezoidal_mf(20, 38, 55, 75)\n",
        "\n",
        "sampler_trapezoidal_prod_estim_4 = build_sampleable_trapezoidal_mf(20, 33, 38, 48)\n",
        "sampler_trapezoidal_prod_estim_high_4 = build_sampleable_trapezoidal_mf(25, 38, 50, 70)\n",
        "\n",
        "sampler_trapezoidal_prod_estim_5 = build_sampleable_trapezoidal_mf(18, 28, 38, 45)\n",
        "sampler_trapezoidal_prod_estim_high_5 = build_sampleable_trapezoidal_mf(28, 42, 52, 73)"
      ],
      "metadata": {
        "id": "QT_tPQ2urHmv"
      },
      "execution_count": null,
      "outputs": []
    },
    {
      "cell_type": "code",
      "source": [
        "\"\"\"\n",
        "0- 'Frigorifico Tres Arroyos'\n",
        "1- 'La Blanq y D Gaspar'\n",
        "2- 'La Blanquita'\n",
        "3- 'Rougier Carnes'\n",
        "4- 'La Pulperia'\n",
        "5- 'Granja de Rosso'\n",
        "6- 'La Estancia'\n",
        "7- 'El Buen Trato'\n",
        "8- 'El Ternero Gasolero'\n",
        "9- 'La Imbatible'\n",
        "\"\"\""
      ],
      "metadata": {
        "id": "4FQyjDJzBZIr",
        "colab": {
          "base_uri": "https://localhost:8080/",
          "height": 53
        },
        "outputId": "524dda36-48d1-4714-aaf8-2fd10f3bd841"
      },
      "execution_count": null,
      "outputs": [
        {
          "output_type": "execute_result",
          "data": {
            "text/plain": [
              "\"\\n0- 'Frigorifico Tres Arroyos'\\n1- 'La Blanq y D Gaspar'\\n2- 'La Blanquita'\\n3- 'Rougier Carnes'\\n4- 'La Pulperia'\\n5- 'Granja de Rosso'\\n6- 'La Estancia'\\n7- 'El Buen Trato'\\n8- 'El Ternero Gasolero'\\n9- 'La Imbatible'\\n\""
            ],
            "application/vnd.google.colaboratory.intrinsic+json": {
              "type": "string"
            }
          },
          "metadata": {},
          "execution_count": 46
        }
      ]
    },
    {
      "cell_type": "code",
      "source": [
        "#Tiempos en hora pico\n",
        "times_map_slow = tiempos.copy()\n",
        "times_map_slow[[0,2,4,5,8]] = 4* times_map_slow[[0,2,4,5,8]]\n",
        "times_map_slow[[1,3,6,7,9]] = 1.5 * times_map_slow[[1,3,6,7,9]]\n"
      ],
      "metadata": {
        "id": "_2TMIIKkFg8v"
      },
      "execution_count": null,
      "outputs": []
    },
    {
      "cell_type": "code",
      "source": [
        "##  se crea PRIMERO el grafo mas completo con 9 clientes y se va guardando y quitando algunos clientes o cambiando los atributos...\n",
        "\n",
        "# Grafos con tiempos iniciales y baja incertidumbre en las demandas\n",
        "#9 clientes\n",
        "\n",
        "#B = df_tiempos\n",
        "#G9CT1D1 = nx.from_pandas_adjacency(B)\n",
        "\n",
        "A = tiempos\n",
        "G9CT1D1 = nx.from_numpy_matrix(A)\n",
        "\n",
        "\n",
        "#G9CT1D1.nodes['Frigorifico Tres Arroyos']['demanda_estimada'] = 0 #DEPOSITO\n",
        "#G9CT1D1.nodes['La Blanq y D Gaspar']['demanda_estimada'] = int(sampler_trapezoidal_prod_estim(rm()))\n",
        "#G9CT1D1.nodes['La Blanquita']['demanda_estimada'] = int(sampler_trapezoidal_prod_estim(rm()))\n",
        "#G9CT1D1.nodes['Rougier Carnes']['demanda_estimada'] = int(sampler_trapezoidal_prod_estim(rm()))\n",
        "#G9CT1D1.nodes['La Pulperia']['demanda_estimada'] = int(sampler_trapezoidal_prod_estim(rm()))\n",
        "#G9CT1D1.nodes['Granja de Rosso']['demanda_estimada'] = int(sampler_trapezoidal_prod_estim(rm()))\n",
        "#G9CT1D1.nodes['La Estancia']['demanda_estimada'] = int(sampler_trapezoidal_prod_estim(rm()))\n",
        "#G9CT1D1.nodes['El Buen Trato']['demanda_estimada'] = int(sampler_trapezoidal_prod_estim(rm()))\n",
        "#G9CT1D1.nodes['El Ternero Gasolero']['demanda_estimada'] = int(sampler_trapezoidal_prod_estim(rm()))\n",
        "#G9CT1D1.nodes['La Imbatible']['demanda_estimada'] = int(sampler_trapezoidal_prod_estim(rm()))\n",
        "\n",
        "G9CT1D1.nodes[0]['demanda_estimada'] = 0 #DEPOSITO\n",
        "G9CT1D1.nodes[1]['demanda_estimada'] = int(sampler_trapezoidal_prod_estim_5(rm()))\n",
        "G9CT1D1.nodes[2]['demanda_estimada'] = int(sampler_trapezoidal_prod_estim_5(rm()))\n",
        "G9CT1D1.nodes[3]['demanda_estimada'] = int(sampler_trapezoidal_prod_estim_5(rm()))\n",
        "G9CT1D1.nodes[4]['demanda_estimada'] = int(sampler_trapezoidal_prod_estim_5(rm()))\n",
        "G9CT1D1.nodes[5]['demanda_estimada'] = int(sampler_trapezoidal_prod_estim_5(rm()))\n",
        "G9CT1D1.nodes[6]['demanda_estimada'] = int(sampler_trapezoidal_prod_estim_5(rm()))\n",
        "G9CT1D1.nodes[7]['demanda_estimada'] = int(sampler_trapezoidal_prod_estim_5(rm()))\n",
        "G9CT1D1.nodes[8]['demanda_estimada'] = int(sampler_trapezoidal_prod_estim_5(rm()))\n",
        "G9CT1D1.nodes[9]['demanda_estimada'] = int(sampler_trapezoidal_prod_estim_5(rm()))\n",
        "\n",
        "\n",
        "#7 clientes\n",
        "G7CT1D1 = G9CT1D1.copy()\n",
        "#G7CT1D1.remove_node(3)\n",
        "#G7CT1D1.remove_node(8)\n",
        "\n",
        "G7CT1D1.remove_edge(3,0)\n",
        "G7CT1D1.remove_edge(3,1)\n",
        "G7CT1D1.remove_edge(3,2)\n",
        "G7CT1D1.remove_edge(3,4)\n",
        "G7CT1D1.remove_edge(3,5)\n",
        "G7CT1D1.remove_edge(3,6)\n",
        "G7CT1D1.remove_edge(3,7)\n",
        "G7CT1D1.remove_edge(3,8)\n",
        "G7CT1D1.remove_edge(3,9)\n",
        "\n",
        "G7CT1D1.remove_edge(8,0)\n",
        "G7CT1D1.remove_edge(8,1)\n",
        "G7CT1D1.remove_edge(8,2)\n",
        "G7CT1D1.remove_edge(8,4)\n",
        "G7CT1D1.remove_edge(8,5)\n",
        "G7CT1D1.remove_edge(8,6)\n",
        "G7CT1D1.remove_edge(8,7)\n",
        "G7CT1D1.remove_edge(8,9)\n",
        "\n",
        "\n",
        "#5 clientes\n",
        "G5CT1D1 = G7CT1D1.copy()\n",
        "#G5CT1D1.remove_node(5)\n",
        "#G5CT1D1.remove_node(7) #'El Buen Trato')\n",
        "\n",
        "G5CT1D1.remove_edge(5,0)\n",
        "G5CT1D1.remove_edge(5,1)\n",
        "G5CT1D1.remove_edge(5,2)\n",
        "G5CT1D1.remove_edge(5,4)\n",
        "G5CT1D1.remove_edge(5,6)\n",
        "G5CT1D1.remove_edge(5,7)\n",
        "G5CT1D1.remove_edge(5,9)\n",
        "\n",
        "G5CT1D1.remove_edge(7,0)\n",
        "G5CT1D1.remove_edge(7,1)\n",
        "G5CT1D1.remove_edge(7,2)\n",
        "G5CT1D1.remove_edge(7,4)\n",
        "G5CT1D1.remove_edge(7,6)\n",
        "G5CT1D1.remove_edge(7,9)\n",
        "\n",
        "\n",
        "#3 clientes\n",
        "G3CT1D1 = G5CT1D1.copy()\n",
        "#G3CT1D1.remove_node(1)\n",
        "#G3CT1D1.remove_node(2)\n",
        "\n",
        "G3CT1D1.remove_edge(1,0)\n",
        "G3CT1D1.remove_edge(1,2)\n",
        "G3CT1D1.remove_edge(1,4)\n",
        "G3CT1D1.remove_edge(1,6)\n",
        "G3CT1D1.remove_edge(1,9)\n",
        "\n",
        "G3CT1D1.remove_edge(2,0)\n",
        "G3CT1D1.remove_edge(2,4)\n",
        "G3CT1D1.remove_edge(2,6)\n",
        "G3CT1D1.remove_edge(2,9)\n",
        "\n",
        "\n",
        "#2 clientes\n",
        "G2CT1D1 = G3CT1D1.copy()\n",
        "#G2CT1D1.remove_node(9)\n",
        "\n",
        "G2CT1D1.remove_edge(9,0)\n",
        "G2CT1D1.remove_edge(9,4)\n",
        "G2CT1D1.remove_edge(9,6)\n",
        "\n",
        "\n",
        "\n",
        "# Grafos con tiempos iniciales y alta incertidumbre en las demandas\n",
        "\n",
        "#9 clientes\n",
        "#B = df_tiempos\n",
        "#G9CT1D2 = nx.from_pandas_adjacency(B)\n",
        "G9CT1D2 = nx.from_numpy_matrix(A)\n",
        "\n",
        "G9CT1D2.nodes[0]['demanda_estimada'] = 0 #DEPOSITO\n",
        "G9CT1D2.nodes[1]['demanda_estimada'] = int(sampler_trapezoidal_prod_estim_high_5(rm()))\n",
        "G9CT1D2.nodes[2]['demanda_estimada'] = int(sampler_trapezoidal_prod_estim_high_5(rm()))\n",
        "G9CT1D2.nodes[3]['demanda_estimada'] = int(sampler_trapezoidal_prod_estim_high_5(rm()))\n",
        "G9CT1D2.nodes[4]['demanda_estimada'] = int(sampler_trapezoidal_prod_estim_high_5(rm()))\n",
        "G9CT1D2.nodes[5]['demanda_estimada'] = int(sampler_trapezoidal_prod_estim_high_5(rm()))\n",
        "G9CT1D2.nodes[6]['demanda_estimada'] = int(sampler_trapezoidal_prod_estim_high_5(rm()))\n",
        "G9CT1D2.nodes[7]['demanda_estimada'] = int(sampler_trapezoidal_prod_estim_high_5(rm()))\n",
        "G9CT1D2.nodes[8]['demanda_estimada'] = int(sampler_trapezoidal_prod_estim_high_5(rm()))\n",
        "G9CT1D2.nodes[9]['demanda_estimada'] = int(sampler_trapezoidal_prod_estim_high_5(rm()))\n",
        "\n",
        "\n",
        "#7 clientes\n",
        "G7CT1D2 = G9CT1D2.copy()\n",
        "#G7CT1D2.remove_node(3) #'Rougier Carnes')\n",
        "#G7CT1D2.remove_node(8) #'El Ternero Gasolero')\n",
        "\n",
        "G7CT1D2.remove_edge(3,0)\n",
        "G7CT1D2.remove_edge(3,1)\n",
        "G7CT1D2.remove_edge(3,2)\n",
        "G7CT1D2.remove_edge(3,4)\n",
        "G7CT1D2.remove_edge(3,5)\n",
        "G7CT1D2.remove_edge(3,6)\n",
        "G7CT1D2.remove_edge(3,7)\n",
        "G7CT1D2.remove_edge(3,8)\n",
        "G7CT1D2.remove_edge(3,9)\n",
        "\n",
        "G7CT1D2.remove_edge(8,0)\n",
        "G7CT1D2.remove_edge(8,1)\n",
        "G7CT1D2.remove_edge(8,2)\n",
        "G7CT1D2.remove_edge(8,4)\n",
        "G7CT1D2.remove_edge(8,5)\n",
        "G7CT1D2.remove_edge(8,6)\n",
        "G7CT1D2.remove_edge(8,7)\n",
        "G7CT1D2.remove_edge(8,9)\n",
        "\n",
        "\n",
        "#5 clientes\n",
        "G5CT1D2 = G7CT1D2.copy()\n",
        "#G5CT1D2.remove_node(5) #'Granja de Rosso')\n",
        "#G5CT1D2.remove_node(7) #'El Buen Trato')\n",
        "\n",
        "G5CT1D2.remove_edge(5,0)\n",
        "G5CT1D2.remove_edge(5,1)\n",
        "G5CT1D2.remove_edge(5,2)\n",
        "G5CT1D2.remove_edge(5,4)\n",
        "G5CT1D2.remove_edge(5,6)\n",
        "G5CT1D2.remove_edge(5,7)\n",
        "G5CT1D2.remove_edge(5,9)\n",
        "\n",
        "G5CT1D2.remove_edge(7,0)\n",
        "G5CT1D2.remove_edge(7,1)\n",
        "G5CT1D2.remove_edge(7,2)\n",
        "G5CT1D2.remove_edge(7,4)\n",
        "G5CT1D2.remove_edge(7,6)\n",
        "G5CT1D2.remove_edge(7,9)\n",
        "\n",
        "\n",
        "#3 clientes\n",
        "G3CT1D2 = G5CT1D2.copy()\n",
        "#G3CT1D2.remove_node(1) #'La Blanq y D Gaspar')\n",
        "#G3CT1D2.remove_node(2) #'La Blanquita')\n",
        "\n",
        "G3CT1D2.remove_edge(1,0)\n",
        "G3CT1D2.remove_edge(1,2)\n",
        "G3CT1D2.remove_edge(1,4)\n",
        "G3CT1D2.remove_edge(1,6)\n",
        "G3CT1D2.remove_edge(1,9)\n",
        "\n",
        "G3CT1D2.remove_edge(2,0)\n",
        "G3CT1D2.remove_edge(2,4)\n",
        "G3CT1D2.remove_edge(2,6)\n",
        "G3CT1D2.remove_edge(2,9)\n",
        "\n",
        "\n",
        "#2 clientes\n",
        "G2CT1D2 = G3CT1D2.copy()\n",
        "#G2CT1D2.remove_node(9) #'La Imbatible')\n",
        "\n",
        "G2CT1D2.remove_edge(9,0)\n",
        "G2CT1D2.remove_edge(9,4)\n",
        "G2CT1D2.remove_edge(9,6)\n",
        "\n",
        "\n",
        "# ============\n",
        "\n",
        "#Tiempos en hora pico\n",
        "#times_map_slow = df_tiempos.copy()\n",
        "#times_map_slow[['Frigorifico Tres Arroyos','La Blanquita','La Pulperia','Granja de Rosso','El Ternero Gasolero']] = 4* times_map_slow[['Frigorifico Tres Arroyos','La Blanquita','La Pulperia','Granja de Rosso','El Ternero Gasolero']]\n",
        "#times_map_slow[['La Blanq y D Gaspar','Rougier Carnes','La Estancia','El Buen Trato','La Imbatible']] = 1.5 * times_map_slow[['La Blanq y D Gaspar','Rougier Carnes','La Estancia','El Buen Trato','La Imbatible']]\n",
        "\n",
        "times_map_slow = tiempos.copy()\n",
        "times_map_slow[[0,2,4,5,8]] = 4* times_map_slow[[0,2,4,5,8]]\n",
        "times_map_slow[[1,3,6,7,9]] = 1.5 * times_map_slow[[1,3,6,7,9]]\n",
        "\n",
        "# Grafos con tiempos en hora pico y baja incertidumbre en las demandas\n",
        "#9 clientes\n",
        "B = times_map_slow\n",
        "#G9CT2D1 = nx.from_pandas_adjacency(B)\n",
        "G9CT2D1 = nx.from_numpy_matrix(B)\n",
        "\n",
        "G9CT2D1.nodes[0]['demanda_estimada'] = 0 #DEPOSITO\n",
        "G9CT2D1.nodes[1]['demanda_estimada'] = int(sampler_trapezoidal_prod_estim_5(rm()))\n",
        "G9CT2D1.nodes[2]['demanda_estimada'] = int(sampler_trapezoidal_prod_estim_5(rm()))\n",
        "G9CT2D1.nodes[3]['demanda_estimada'] = int(sampler_trapezoidal_prod_estim_5(rm()))\n",
        "G9CT2D1.nodes[4]['demanda_estimada'] = int(sampler_trapezoidal_prod_estim_5(rm()))\n",
        "G9CT2D1.nodes[5]['demanda_estimada'] = int(sampler_trapezoidal_prod_estim_5(rm()))\n",
        "G9CT2D1.nodes[6]['demanda_estimada'] = int(sampler_trapezoidal_prod_estim_5(rm()))\n",
        "G9CT2D1.nodes[7]['demanda_estimada'] = int(sampler_trapezoidal_prod_estim_5(rm()))\n",
        "G9CT2D1.nodes[8]['demanda_estimada'] = int(sampler_trapezoidal_prod_estim_5(rm()))\n",
        "G9CT2D1.nodes[9]['demanda_estimada'] = int(sampler_trapezoidal_prod_estim_5(rm()))\n",
        "\n",
        "\n",
        "#7 clientes\n",
        "G7CT2D1 = G9CT2D1.copy()\n",
        "#G7CT2D1.remove_node(3) #'Rougier Carnes')\n",
        "#G7CT2D1.remove_node(8) #'El Ternero Gasolero')\n",
        "\n",
        "G7CT2D1.remove_edge(3,0)\n",
        "G7CT2D1.remove_edge(3,1)\n",
        "G7CT2D1.remove_edge(3,2)\n",
        "G7CT2D1.remove_edge(3,4)\n",
        "G7CT2D1.remove_edge(3,5)\n",
        "G7CT2D1.remove_edge(3,6)\n",
        "G7CT2D1.remove_edge(3,7)\n",
        "G7CT2D1.remove_edge(3,8)\n",
        "G7CT2D1.remove_edge(3,9)\n",
        "\n",
        "G7CT2D1.remove_edge(8,0)\n",
        "G7CT2D1.remove_edge(8,1)\n",
        "G7CT2D1.remove_edge(8,2)\n",
        "G7CT2D1.remove_edge(8,4)\n",
        "G7CT2D1.remove_edge(8,5)\n",
        "G7CT2D1.remove_edge(8,6)\n",
        "G7CT2D1.remove_edge(8,7)\n",
        "G7CT2D1.remove_edge(8,9)\n",
        "\n",
        "\n",
        "#5 clientes\n",
        "G5CT2D1 = G7CT2D1.copy()\n",
        "#G5CT2D1.remove_node(5) #'Granja de Rosso')\n",
        "#G5CT2D1.remove_node(7) #'El Buen Trato')\n",
        "\n",
        "G5CT2D1.remove_edge(5,0)\n",
        "G5CT2D1.remove_edge(5,1)\n",
        "G5CT2D1.remove_edge(5,2)\n",
        "G5CT2D1.remove_edge(5,4)\n",
        "G5CT2D1.remove_edge(5,6)\n",
        "G5CT2D1.remove_edge(5,7)\n",
        "G5CT2D1.remove_edge(5,9)\n",
        "\n",
        "G5CT2D1.remove_edge(7,0)\n",
        "G5CT2D1.remove_edge(7,1)\n",
        "G5CT2D1.remove_edge(7,2)\n",
        "G5CT2D1.remove_edge(7,4)\n",
        "G5CT2D1.remove_edge(7,6)\n",
        "G5CT2D1.remove_edge(7,9)\n",
        "\n",
        "\n",
        "#3 clientes\n",
        "G3CT2D1 = G5CT2D1.copy()\n",
        "#G3CT2D1.remove_node(1) #'La Blanq y D Gaspar')\n",
        "#G3CT2D1.remove_node(2) #'La Blanquita')\n",
        "\n",
        "G3CT2D1.remove_edge(1,0)\n",
        "G3CT2D1.remove_edge(1,2)\n",
        "G3CT2D1.remove_edge(1,4)\n",
        "G3CT2D1.remove_edge(1,6)\n",
        "G3CT2D1.remove_edge(1,9)\n",
        "\n",
        "G3CT2D1.remove_edge(2,0)\n",
        "G3CT2D1.remove_edge(2,4)\n",
        "G3CT2D1.remove_edge(2,6)\n",
        "G3CT2D1.remove_edge(2,9)\n",
        "\n",
        "\n",
        "\n",
        "#2 clientes\n",
        "G2CT2D1 = G3CT2D1.copy()\n",
        "#G2CT2D1.remove_node(9) #'La Imbatible')\n",
        "\n",
        "G2CT2D1.remove_edge(9,0)\n",
        "G2CT2D1.remove_edge(9,4)\n",
        "G2CT2D1.remove_edge(9,6)\n",
        "\n",
        "\n",
        "# Grafos con tiempos en hora pico y alta incertidumbre en las demandas\n",
        "\n",
        "#9 clientes\n",
        "#B = times_map_slow\n",
        "#G9CT2D2 = nx.from_pandas_adjacency(B)\n",
        "G9CT2D2 = nx.from_numpy_matrix(B)\n",
        "\n",
        "G9CT2D2.nodes[0]['demanda_estimada'] = 0 #DEPOSITO\n",
        "G9CT2D2.nodes[1]['demanda_estimada'] = int(sampler_trapezoidal_prod_estim_high_5(rm()))\n",
        "G9CT2D2.nodes[2]['demanda_estimada'] = int(sampler_trapezoidal_prod_estim_high_5(rm()))\n",
        "G9CT2D2.nodes[3]['demanda_estimada'] = int(sampler_trapezoidal_prod_estim_high_5(rm()))\n",
        "G9CT2D2.nodes[4]['demanda_estimada'] = int(sampler_trapezoidal_prod_estim_high_5(rm()))\n",
        "G9CT2D2.nodes[5]['demanda_estimada'] = int(sampler_trapezoidal_prod_estim_high_5(rm()))\n",
        "G9CT2D2.nodes[6]['demanda_estimada'] = int(sampler_trapezoidal_prod_estim_high_5(rm()))\n",
        "G9CT2D2.nodes[7]['demanda_estimada'] = int(sampler_trapezoidal_prod_estim_high_5(rm()))\n",
        "G9CT2D2.nodes[8]['demanda_estimada'] = int(sampler_trapezoidal_prod_estim_high_5(rm()))\n",
        "G9CT2D2.nodes[9]['demanda_estimada'] = int(sampler_trapezoidal_prod_estim_high_5(rm()))\n",
        "\n",
        "\n",
        "#7 clientes\n",
        "G7CT2D2 = G9CT2D2.copy()\n",
        "#G7CT2D2.remove_node(3)\n",
        "#G7CT2D2.remove_node(8)\n",
        "\n",
        "G7CT2D2.remove_edge(3,0)\n",
        "G7CT2D2.remove_edge(3,1)\n",
        "G7CT2D2.remove_edge(3,2)\n",
        "G7CT2D2.remove_edge(3,4)\n",
        "G7CT2D2.remove_edge(3,5)\n",
        "G7CT2D2.remove_edge(3,6)\n",
        "G7CT2D2.remove_edge(3,7)\n",
        "G7CT2D2.remove_edge(3,8)\n",
        "G7CT2D2.remove_edge(3,9)\n",
        "\n",
        "G7CT2D2.remove_edge(8,0)\n",
        "G7CT2D2.remove_edge(8,1)\n",
        "G7CT2D2.remove_edge(8,2)\n",
        "G7CT2D2.remove_edge(8,4)\n",
        "G7CT2D2.remove_edge(8,5)\n",
        "G7CT2D2.remove_edge(8,6)\n",
        "G7CT2D2.remove_edge(8,7)\n",
        "G7CT2D2.remove_edge(8,9)\n",
        "\n",
        "\n",
        "#5 clientes\n",
        "G5CT2D2 = G7CT2D2.copy()\n",
        "#G5CT2D2.remove_node(5)\n",
        "#G5CT2D2.remove_node(7)\n",
        "\n",
        "G5CT2D2.remove_edge(5,0)\n",
        "G5CT2D2.remove_edge(5,1)\n",
        "G5CT2D2.remove_edge(5,2)\n",
        "G5CT2D2.remove_edge(5,4)\n",
        "G5CT2D2.remove_edge(5,6)\n",
        "G5CT2D2.remove_edge(5,7)\n",
        "G5CT2D2.remove_edge(5,9)\n",
        "\n",
        "G5CT2D2.remove_edge(7,0)\n",
        "G5CT2D2.remove_edge(7,1)\n",
        "G5CT2D2.remove_edge(7,2)\n",
        "G5CT2D2.remove_edge(7,4)\n",
        "G5CT2D2.remove_edge(7,6)\n",
        "G5CT2D2.remove_edge(7,9)\n",
        "\n",
        "\n",
        "#3 clientes\n",
        "G3CT2D2 = G5CT2D2.copy()\n",
        "#G3CT2D2.remove_node(1)\n",
        "#G3CT2D2.remove_node(2)\n",
        "\n",
        "G3CT2D2.remove_edge(1,0)\n",
        "G3CT2D2.remove_edge(1,2)\n",
        "G3CT2D2.remove_edge(1,4)\n",
        "G3CT2D2.remove_edge(1,6)\n",
        "G3CT2D2.remove_edge(1,9)\n",
        "\n",
        "G3CT2D2.remove_edge(2,0)\n",
        "G3CT2D2.remove_edge(2,4)\n",
        "G3CT2D2.remove_edge(2,6)\n",
        "G3CT2D2.remove_edge(2,9)\n",
        "\n",
        "#2 clientes\n",
        "G2CT2D2 = G3CT1D2.copy()\n",
        "#G2CT2D2.remove_node(9)\n",
        "\n",
        "G2CT2D2.remove_edge(9,0)\n",
        "G2CT2D2.remove_edge(9,4)\n",
        "G2CT2D2.remove_edge(9,6)\n",
        "\n"
      ],
      "metadata": {
        "id": "kCIbsU8hBUhK"
      },
      "execution_count": null,
      "outputs": []
    },
    {
      "cell_type": "code",
      "source": [
        "##  se crea PRIMERO el grafo mas completo con 9 clientes y se va guardando y quitando algunos clientes o cambiando los atributos...\n",
        "\n",
        "# Grafos con tiempos iniciales y baja incertidumbre en las demandas\n",
        "#9 clientes\n",
        "A = tiempos\n",
        "G9CT1D1_2 = nx.from_numpy_matrix(A)\n",
        "\n",
        "G9CT1D1_2.nodes[0]['demanda_estimada'] = 0 #DEPOSITO\n",
        "G9CT1D1_2.nodes[1]['demanda_estimada'] = int(sampler_trapezoidal_prod_estim_5(rm()))\n",
        "G9CT1D1_2.nodes[2]['demanda_estimada'] = int(sampler_trapezoidal_prod_estim_5(rm()))\n",
        "G9CT1D1_2.nodes[3]['demanda_estimada'] = int(sampler_trapezoidal_prod_estim_5(rm()))\n",
        "G9CT1D1_2.nodes[4]['demanda_estimada'] = int(sampler_trapezoidal_prod_estim_5(rm()))\n",
        "G9CT1D1_2.nodes[5]['demanda_estimada'] = int(sampler_trapezoidal_prod_estim_5(rm()))\n",
        "G9CT1D1_2.nodes[6]['demanda_estimada'] = int(sampler_trapezoidal_prod_estim_5(rm()))\n",
        "G9CT1D1_2.nodes[7]['demanda_estimada'] = int(sampler_trapezoidal_prod_estim_5(rm()))\n",
        "G9CT1D1_2.nodes[8]['demanda_estimada'] = int(sampler_trapezoidal_prod_estim_5(rm()))\n",
        "G9CT1D1_2.nodes[9]['demanda_estimada'] = int(sampler_trapezoidal_prod_estim_5(rm()))\n",
        "\n",
        "\n",
        "#7 clientes\n",
        "G7CT1D1_2 = G9CT1D1_2.copy()\n",
        "#G7CT1D1_2.remove_node(3)\n",
        "#G7CT1D1_2.remove_node(8)\n",
        "\n",
        "G7CT1D1_2.remove_edge(3,0)\n",
        "G7CT1D1_2.remove_edge(3,1)\n",
        "G7CT1D1_2.remove_edge(3,2)\n",
        "G7CT1D1_2.remove_edge(3,4)\n",
        "G7CT1D1_2.remove_edge(3,5)\n",
        "G7CT1D1_2.remove_edge(3,6)\n",
        "G7CT1D1_2.remove_edge(3,7)\n",
        "G7CT1D1_2.remove_edge(3,8)\n",
        "G7CT1D1_2.remove_edge(3,9)\n",
        "\n",
        "G7CT1D1_2.remove_edge(8,0)\n",
        "G7CT1D1_2.remove_edge(8,1)\n",
        "G7CT1D1_2.remove_edge(8,2)\n",
        "G7CT1D1_2.remove_edge(8,4)\n",
        "G7CT1D1_2.remove_edge(8,5)\n",
        "G7CT1D1_2.remove_edge(8,6)\n",
        "G7CT1D1_2.remove_edge(8,7)\n",
        "G7CT1D1_2.remove_edge(8,9)\n",
        "\n",
        "\n",
        "\n",
        "#5 clientes\n",
        "G5CT1D1_2 = G7CT1D1_2.copy()\n",
        "#G5CT1D1_2.remove_node(5)\n",
        "#G5CT1D1_2.remove_node(7) #'El Buen Trato')\n",
        "\n",
        "G5CT1D1_2.remove_edge(5,0)\n",
        "G5CT1D1_2.remove_edge(5,1)\n",
        "G5CT1D1_2.remove_edge(5,2)\n",
        "G5CT1D1_2.remove_edge(5,4)\n",
        "G5CT1D1_2.remove_edge(5,6)\n",
        "G5CT1D1_2.remove_edge(5,7)\n",
        "G5CT1D1_2.remove_edge(5,9)\n",
        "\n",
        "G5CT1D1_2.remove_edge(7,0)\n",
        "G5CT1D1_2.remove_edge(7,1)\n",
        "G5CT1D1_2.remove_edge(7,2)\n",
        "G5CT1D1_2.remove_edge(7,4)\n",
        "G5CT1D1_2.remove_edge(7,6)\n",
        "G5CT1D1_2.remove_edge(7,9)\n",
        "\n",
        "\n",
        "#3 clientes\n",
        "G3CT1D1_2 = G5CT1D1_2.copy()\n",
        "#G3CT1D1_2.remove_node(1)\n",
        "#G3CT1D1_2.remove_node(2)\n",
        "\n",
        "G3CT1D1_2.remove_edge(1,0)\n",
        "G3CT1D1_2.remove_edge(1,2)\n",
        "G3CT1D1_2.remove_edge(1,4)\n",
        "G3CT1D1_2.remove_edge(1,6)\n",
        "G3CT1D1_2.remove_edge(1,9)\n",
        "\n",
        "G3CT1D1_2.remove_edge(2,0)\n",
        "G3CT1D1_2.remove_edge(2,4)\n",
        "G3CT1D1_2.remove_edge(2,6)\n",
        "G3CT1D1_2.remove_edge(2,9)\n",
        "\n",
        "\n",
        "\n",
        "#2 clientes\n",
        "G2CT1D1_2 = G3CT1D1_2.copy()\n",
        "#G2CT1D1_2.remove_node(9)\n",
        "\n",
        "G2CT1D1_2.remove_edge(9,0)\n",
        "G2CT1D1_2.remove_edge(9,4)\n",
        "G2CT1D1_2.remove_edge(9,6)\n",
        "\n",
        "\n",
        "\n",
        "\n",
        "# Grafos con tiempos iniciales y alta incertidumbre en las demandas\n",
        "\n",
        "#9 clientes\n",
        "#B = df_tiempos\n",
        "#G9CT1D2_2 = nx.from_pandas_adjacency(B)\n",
        "G9CT1D2_2 = nx.from_numpy_matrix(A)\n",
        "\n",
        "G9CT1D2_2.nodes[0]['demanda_estimada'] = 0 #DEPOSITO\n",
        "G9CT1D2_2.nodes[1]['demanda_estimada'] = int(sampler_trapezoidal_prod_estim_high_5(rm()))\n",
        "G9CT1D2_2.nodes[2]['demanda_estimada'] = int(sampler_trapezoidal_prod_estim_high_5(rm()))\n",
        "G9CT1D2_2.nodes[3]['demanda_estimada'] = int(sampler_trapezoidal_prod_estim_high_5(rm()))\n",
        "G9CT1D2_2.nodes[4]['demanda_estimada'] = int(sampler_trapezoidal_prod_estim_high_5(rm()))\n",
        "G9CT1D2_2.nodes[5]['demanda_estimada'] = int(sampler_trapezoidal_prod_estim_high_5(rm()))\n",
        "G9CT1D2_2.nodes[6]['demanda_estimada'] = int(sampler_trapezoidal_prod_estim_high_5(rm()))\n",
        "G9CT1D2_2.nodes[7]['demanda_estimada'] = int(sampler_trapezoidal_prod_estim_high_5(rm()))\n",
        "G9CT1D2_2.nodes[8]['demanda_estimada'] = int(sampler_trapezoidal_prod_estim_high_5(rm()))\n",
        "G9CT1D2_2.nodes[9]['demanda_estimada'] = int(sampler_trapezoidal_prod_estim_high_5(rm()))\n",
        "\n",
        "\n",
        "#7 clientes\n",
        "G7CT1D2_2 = G9CT1D2_2.copy()\n",
        "#G7CT1D2_2.remove_node(3) #'Rougier Carnes')\n",
        "#G7CT1D2_2.remove_node(8) #'El Ternero Gasolero')\n",
        "\n",
        "G7CT1D2_2.remove_edge(3,0)\n",
        "G7CT1D2_2.remove_edge(3,1)\n",
        "G7CT1D2_2.remove_edge(3,2)\n",
        "G7CT1D2_2.remove_edge(3,4)\n",
        "G7CT1D2_2.remove_edge(3,5)\n",
        "G7CT1D2_2.remove_edge(3,6)\n",
        "G7CT1D2_2.remove_edge(3,7)\n",
        "G7CT1D2_2.remove_edge(3,8)\n",
        "G7CT1D2_2.remove_edge(3,9)\n",
        "\n",
        "G7CT1D2_2.remove_edge(8,0)\n",
        "G7CT1D2_2.remove_edge(8,1)\n",
        "G7CT1D2_2.remove_edge(8,2)\n",
        "G7CT1D2_2.remove_edge(8,4)\n",
        "G7CT1D2_2.remove_edge(8,5)\n",
        "G7CT1D2_2.remove_edge(8,6)\n",
        "G7CT1D2_2.remove_edge(8,7)\n",
        "G7CT1D2_2.remove_edge(8,9)\n",
        "\n",
        "\n",
        "#5 clientes\n",
        "G5CT1D2_2 = G7CT1D2_2.copy()\n",
        "#G5CT1D2_2.remove_node(5) #'Granja de Rosso')\n",
        "#G5CT1D2_2.remove_node(7) #'El Buen Trato')\n",
        "\n",
        "G5CT1D2_2.remove_edge(5,0)\n",
        "G5CT1D2_2.remove_edge(5,1)\n",
        "G5CT1D2_2.remove_edge(5,2)\n",
        "G5CT1D2_2.remove_edge(5,4)\n",
        "G5CT1D2_2.remove_edge(5,6)\n",
        "G5CT1D2_2.remove_edge(5,7)\n",
        "G5CT1D2_2.remove_edge(5,9)\n",
        "\n",
        "G5CT1D2_2.remove_edge(7,0)\n",
        "G5CT1D2_2.remove_edge(7,1)\n",
        "G5CT1D2_2.remove_edge(7,2)\n",
        "G5CT1D2_2.remove_edge(7,4)\n",
        "G5CT1D2_2.remove_edge(7,6)\n",
        "G5CT1D2_2.remove_edge(7,9)\n",
        "\n",
        "\n",
        "#3 clientes\n",
        "G3CT1D2_2 = G5CT1D2_2.copy()\n",
        "#G3CT1D2_2.remove_node(1) #'La Blanq y D Gaspar')\n",
        "#G3CT1D2_2.remove_node(2) #'La Blanquita')\n",
        "\n",
        "G3CT1D2_2.remove_edge(1,0)\n",
        "G3CT1D2_2.remove_edge(1,2)\n",
        "G3CT1D2_2.remove_edge(1,4)\n",
        "G3CT1D2_2.remove_edge(1,6)\n",
        "G3CT1D2_2.remove_edge(1,9)\n",
        "\n",
        "G3CT1D2_2.remove_edge(2,0)\n",
        "G3CT1D2_2.remove_edge(2,4)\n",
        "G3CT1D2_2.remove_edge(2,6)\n",
        "G3CT1D2_2.remove_edge(2,9)\n",
        "\n",
        "\n",
        "#2 clientes\n",
        "G2CT1D2_2 = G3CT1D2_2.copy()\n",
        "#G2CT1D2_2.remove_node(9) #'La Imbatible')\n",
        "\n",
        "G2CT1D2_2.remove_edge(9,0)\n",
        "G2CT1D2_2.remove_edge(9,4)\n",
        "G2CT1D2_2.remove_edge(9,6)\n",
        "\n",
        "\n",
        "# ============================================================================\n",
        "# ============================================================================\n",
        "\n",
        "times_map_slow = tiempos.copy()\n",
        "times_map_slow[[0,2,4,5,8]] = 4* times_map_slow[[0,2,4,5,8]]\n",
        "times_map_slow[[1,3,6,7,9]] = 1.5 * times_map_slow[[1,3,6,7,9]]\n",
        "\n",
        "# Grafos con tiempos en hora pico y baja incertidumbre en las demandas\n",
        "#9 clientes\n",
        "B = times_map_slow\n",
        "#G9CT2D1_2 = nx.from_pandas_adjacency(B)\n",
        "G9CT2D1_2 = nx.from_numpy_matrix(B)\n",
        "\n",
        "G9CT2D1_2.nodes[0]['demanda_estimada'] = 0 #DEPOSITO\n",
        "G9CT2D1_2.nodes[1]['demanda_estimada'] = int(sampler_trapezoidal_prod_estim_5(rm()))\n",
        "G9CT2D1_2.nodes[2]['demanda_estimada'] = int(sampler_trapezoidal_prod_estim_5(rm()))\n",
        "G9CT2D1_2.nodes[3]['demanda_estimada'] = int(sampler_trapezoidal_prod_estim_5(rm()))\n",
        "G9CT2D1_2.nodes[4]['demanda_estimada'] = int(sampler_trapezoidal_prod_estim_5(rm()))\n",
        "G9CT2D1_2.nodes[5]['demanda_estimada'] = int(sampler_trapezoidal_prod_estim_5(rm()))\n",
        "G9CT2D1_2.nodes[6]['demanda_estimada'] = int(sampler_trapezoidal_prod_estim_5(rm()))\n",
        "G9CT2D1_2.nodes[7]['demanda_estimada'] = int(sampler_trapezoidal_prod_estim_5(rm()))\n",
        "G9CT2D1_2.nodes[8]['demanda_estimada'] = int(sampler_trapezoidal_prod_estim_5(rm()))\n",
        "G9CT2D1_2.nodes[9]['demanda_estimada'] = int(sampler_trapezoidal_prod_estim_5(rm()))\n",
        "\n",
        "\n",
        "#7 clientes\n",
        "G7CT2D1_2 = G9CT2D1_2.copy()\n",
        "#G7CT2D1_2.remove_node(3) #'Rougier Carnes')\n",
        "#G7CT2D1_2.remove_node(8) #'El Ternero Gasolero')\n",
        "\n",
        "G7CT2D1_2.remove_edge(3,0)\n",
        "G7CT2D1_2.remove_edge(3,1)\n",
        "G7CT2D1_2.remove_edge(3,2)\n",
        "G7CT2D1_2.remove_edge(3,4)\n",
        "G7CT2D1_2.remove_edge(3,5)\n",
        "G7CT2D1_2.remove_edge(3,6)\n",
        "G7CT2D1_2.remove_edge(3,7)\n",
        "G7CT2D1_2.remove_edge(3,8)\n",
        "G7CT2D1_2.remove_edge(3,9)\n",
        "\n",
        "G7CT2D1_2.remove_edge(8,0)\n",
        "G7CT2D1_2.remove_edge(8,1)\n",
        "G7CT2D1_2.remove_edge(8,2)\n",
        "G7CT2D1_2.remove_edge(8,4)\n",
        "G7CT2D1_2.remove_edge(8,5)\n",
        "G7CT2D1_2.remove_edge(8,6)\n",
        "G7CT2D1_2.remove_edge(8,7)\n",
        "G7CT2D1_2.remove_edge(8,9)\n",
        "\n",
        "\n",
        "#5 clientes\n",
        "G5CT2D1_2 = G7CT2D1_2.copy()\n",
        "#G5CT2D1_2.remove_node(5) #'Granja de Rosso')\n",
        "#G5CT2D1_2.remove_node(7) #'El Buen Trato')\n",
        "\n",
        "G5CT2D1_2.remove_edge(5,0)\n",
        "G5CT2D1_2.remove_edge(5,1)\n",
        "G5CT2D1_2.remove_edge(5,2)\n",
        "G5CT2D1_2.remove_edge(5,4)\n",
        "G5CT2D1_2.remove_edge(5,6)\n",
        "G5CT2D1_2.remove_edge(5,7)\n",
        "G5CT2D1_2.remove_edge(5,9)\n",
        "\n",
        "G5CT2D1_2.remove_edge(7,0)\n",
        "G5CT2D1_2.remove_edge(7,1)\n",
        "G5CT2D1_2.remove_edge(7,2)\n",
        "G5CT2D1_2.remove_edge(7,4)\n",
        "G5CT2D1_2.remove_edge(7,6)\n",
        "G5CT2D1_2.remove_edge(7,9)\n",
        "\n",
        "\n",
        "#3 clientes\n",
        "G3CT2D1_2 = G5CT2D1_2.copy()\n",
        "#G3CT2D1_2.remove_node(1) #'La Blanq y D Gaspar')\n",
        "#G3CT2D1_2.remove_node(2) #'La Blanquita')\n",
        "\n",
        "G3CT2D1_2.remove_edge(1,0)\n",
        "G3CT2D1_2.remove_edge(1,2)\n",
        "G3CT2D1_2.remove_edge(1,4)\n",
        "G3CT2D1_2.remove_edge(1,6)\n",
        "G3CT2D1_2.remove_edge(1,9)\n",
        "\n",
        "G3CT2D1_2.remove_edge(2,0)\n",
        "G3CT2D1_2.remove_edge(2,4)\n",
        "G3CT2D1_2.remove_edge(2,6)\n",
        "G3CT2D1_2.remove_edge(2,9)\n",
        "\n",
        "\n",
        "#2 clientes\n",
        "G2CT2D1_2 = G3CT2D1_2.copy()\n",
        "#G2CT2D1_2.remove_node(9) #'La Imbatible')\n",
        "\n",
        "G2CT2D1_2.remove_edge(9,0)\n",
        "G2CT2D1_2.remove_edge(9,4)\n",
        "G2CT2D1_2.remove_edge(9,6)\n",
        "\n",
        "\n",
        "# Grafos con tiempos en hora pico y alta incertidumbre en las demandas\n",
        "\n",
        "#9 clientes\n",
        "#B = times_map_slow\n",
        "#G9CT2D2_2 = nx.from_pandas_adjacency(B)\n",
        "G9CT2D2_2 = nx.from_numpy_matrix(B)\n",
        "\n",
        "G9CT2D2_2.nodes[0]['demanda_estimada'] = 0 #DEPOSITO\n",
        "G9CT2D2_2.nodes[1]['demanda_estimada'] = int(sampler_trapezoidal_prod_estim_high_5(rm()))\n",
        "G9CT2D2_2.nodes[2]['demanda_estimada'] = int(sampler_trapezoidal_prod_estim_high_5(rm()))\n",
        "G9CT2D2_2.nodes[3]['demanda_estimada'] = int(sampler_trapezoidal_prod_estim_high_5(rm()))\n",
        "G9CT2D2_2.nodes[4]['demanda_estimada'] = int(sampler_trapezoidal_prod_estim_high_5(rm()))\n",
        "G9CT2D2_2.nodes[5]['demanda_estimada'] = int(sampler_trapezoidal_prod_estim_high_5(rm()))\n",
        "G9CT2D2_2.nodes[6]['demanda_estimada'] = int(sampler_trapezoidal_prod_estim_high_5(rm()))\n",
        "G9CT2D2_2.nodes[7]['demanda_estimada'] = int(sampler_trapezoidal_prod_estim_high_5(rm()))\n",
        "G9CT2D2_2.nodes[8]['demanda_estimada'] = int(sampler_trapezoidal_prod_estim_high_5(rm()))\n",
        "G9CT2D2_2.nodes[9]['demanda_estimada'] = int(sampler_trapezoidal_prod_estim_high_5(rm()))\n",
        "\n",
        "\n",
        "#7 clientes\n",
        "G7CT2D2_2 = G9CT2D2_2.copy()\n",
        "\n",
        "G7CT2D2_2.remove_edge(3,0)\n",
        "G7CT2D2_2.remove_edge(3,1)\n",
        "G7CT2D2_2.remove_edge(3,2)\n",
        "G7CT2D2_2.remove_edge(3,4)\n",
        "G7CT2D2_2.remove_edge(3,5)\n",
        "G7CT2D2_2.remove_edge(3,6)\n",
        "G7CT2D2_2.remove_edge(3,7)\n",
        "G7CT2D2_2.remove_edge(3,8)\n",
        "G7CT2D2_2.remove_edge(3,9)\n",
        "\n",
        "G7CT2D2_2.remove_edge(8,0)\n",
        "G7CT2D2_2.remove_edge(8,1)\n",
        "G7CT2D2_2.remove_edge(8,2)\n",
        "G7CT2D2_2.remove_edge(8,4)\n",
        "G7CT2D2_2.remove_edge(8,5)\n",
        "G7CT2D2_2.remove_edge(8,6)\n",
        "G7CT2D2_2.remove_edge(8,7)\n",
        "G7CT2D2_2.remove_edge(8,9)\n",
        "\n",
        "#5 clientes\n",
        "G5CT2D2_2 = G7CT2D2_2.copy()\n",
        "#G5CT2D2_2.remove_node(5)\n",
        "#G5CT2D2_2.remove_node(7)\n",
        "\n",
        "G5CT2D2_2.remove_edge(5,0)\n",
        "G5CT2D2_2.remove_edge(5,1)\n",
        "G5CT2D2_2.remove_edge(5,2)\n",
        "G5CT2D2_2.remove_edge(5,4)\n",
        "G5CT2D2_2.remove_edge(5,6)\n",
        "G5CT2D2_2.remove_edge(5,7)\n",
        "G5CT2D2_2.remove_edge(5,9)\n",
        "\n",
        "G5CT2D2_2.remove_edge(7,0)\n",
        "G5CT2D2_2.remove_edge(7,1)\n",
        "G5CT2D2_2.remove_edge(7,2)\n",
        "G5CT2D2_2.remove_edge(7,4)\n",
        "G5CT2D2_2.remove_edge(7,6)\n",
        "G5CT2D2_2.remove_edge(7,9)\n",
        "\n",
        "#3 clientes\n",
        "G3CT2D2_2 = G5CT2D2_2.copy()\n",
        "#G3CT2D2_2.remove_node(1)\n",
        "#G3CT2D2_2.remove_node(2)\n",
        "\n",
        "G3CT2D2_2.remove_edge(1,0)\n",
        "G3CT2D2_2.remove_edge(1,2)\n",
        "G3CT2D2_2.remove_edge(1,4)\n",
        "G3CT2D2_2.remove_edge(1,6)\n",
        "G3CT2D2_2.remove_edge(1,9)\n",
        "\n",
        "G3CT2D2_2.remove_edge(2,0)\n",
        "G3CT2D2_2.remove_edge(2,4)\n",
        "G3CT2D2_2.remove_edge(2,6)\n",
        "G3CT2D2_2.remove_edge(2,9)\n",
        "\n",
        "#2 clientes\n",
        "G2CT2D2_2 = G3CT1D2_2.copy()\n",
        "#G2CT2D2_2.remove_node(9)\n",
        "\n",
        "G2CT2D2_2.remove_edge(9,0)\n",
        "G2CT2D2_2.remove_edge(9,4)\n",
        "G2CT2D2_2.remove_edge(9,6)"
      ],
      "metadata": {
        "id": "6gSCNDXEzKkZ"
      },
      "execution_count": null,
      "outputs": []
    },
    {
      "cell_type": "code",
      "source": [
        "print(cost_function(G2CT2D2,G7CT2D2))"
      ],
      "metadata": {
        "colab": {
          "base_uri": "https://localhost:8080/"
        },
        "id": "ypOc6XTbuXI5",
        "outputId": "e18f4b4c-690e-4518-aed7-cf08e98cf1b5"
      },
      "execution_count": null,
      "outputs": [
        {
          "output_type": "stream",
          "name": "stdout",
          "text": [
            "440.0\n"
          ]
        }
      ]
    },
    {
      "cell_type": "code",
      "source": [
        "#\n",
        "Grafos = [G9CT1D1,G7CT1D1,G5CT1D1,G3CT1D1,G2CT1D1,G9CT1D2,G7CT1D2,G5CT1D2,G3CT1D2,G2CT1D2,G9CT2D1,G7CT2D1,G5CT2D1,G3CT2D1,\n",
        "G2CT2D1,G9CT2D2,G7CT2D2,G5CT2D2,G3CT2D2,G2CT2D2,G9CT1D1_2,G7CT1D1_2,G5CT1D1_2,G3CT1D1_2,G2CT1D1_2,G9CT1D2_2,G7CT1D2_2,G5CT1D2_2,\n",
        "G3CT1D2_2,G2CT1D2_2,G9CT2D1_2,G7CT2D1_2,G5CT2D1_2,G3CT2D1_2, G2CT2D1_2,G9CT2D2_2,G7CT2D2_2,G5CT2D2_2,G3CT2D2_2,G2CT2D2_2]\n",
        "\n",
        "Grafos"
      ],
      "metadata": {
        "colab": {
          "base_uri": "https://localhost:8080/"
        },
        "id": "4KS6DeZJvZxH",
        "outputId": "6281b823-7330-447e-f587-307dd234dcef"
      },
      "execution_count": null,
      "outputs": [
        {
          "output_type": "execute_result",
          "data": {
            "text/plain": [
              "[<networkx.classes.graph.Graph at 0x7fd03924f1f0>,\n",
              " <networkx.classes.graph.Graph at 0x7fd0400a6af0>,\n",
              " <networkx.classes.graph.Graph at 0x7fd03924f610>,\n",
              " <networkx.classes.graph.Graph at 0x7fd03924f850>,\n",
              " <networkx.classes.graph.Graph at 0x7fd03924f970>,\n",
              " <networkx.classes.graph.Graph at 0x7fd039202c70>,\n",
              " <networkx.classes.graph.Graph at 0x7fd03924faf0>,\n",
              " <networkx.classes.graph.Graph at 0x7fd039202f70>,\n",
              " <networkx.classes.graph.Graph at 0x7fd039202550>,\n",
              " <networkx.classes.graph.Graph at 0x7fd039202d00>,\n",
              " <networkx.classes.graph.Graph at 0x7fd039207fa0>,\n",
              " <networkx.classes.graph.Graph at 0x7fd0392027f0>,\n",
              " <networkx.classes.graph.Graph at 0x7fd0392029a0>,\n",
              " <networkx.classes.graph.Graph at 0x7fd039207760>,\n",
              " <networkx.classes.graph.Graph at 0x7fd0392070d0>,\n",
              " <networkx.classes.graph.Graph at 0x7fd039207b50>,\n",
              " <networkx.classes.graph.Graph at 0x7fd039207220>,\n",
              " <networkx.classes.graph.Graph at 0x7fd0392070a0>,\n",
              " <networkx.classes.graph.Graph at 0x7fd039207100>,\n",
              " <networkx.classes.graph.Graph at 0x7fd039207340>,\n",
              " <networkx.classes.graph.Graph at 0x7fd0393b5910>,\n",
              " <networkx.classes.graph.Graph at 0x7fd0392266a0>,\n",
              " <networkx.classes.graph.Graph at 0x7fd0394aa850>,\n",
              " <networkx.classes.graph.Graph at 0x7fd0393b5850>,\n",
              " <networkx.classes.graph.Graph at 0x7fd039226520>,\n",
              " <networkx.classes.graph.Graph at 0x7fd03927be50>,\n",
              " <networkx.classes.graph.Graph at 0x7fd0392265b0>,\n",
              " <networkx.classes.graph.Graph at 0x7fd03927b610>,\n",
              " <networkx.classes.graph.Graph at 0x7fd03927b580>,\n",
              " <networkx.classes.graph.Graph at 0x7fd03927bd60>,\n",
              " <networkx.classes.graph.Graph at 0x7fd0400a10d0>,\n",
              " <networkx.classes.graph.Graph at 0x7fd03927b4f0>,\n",
              " <networkx.classes.graph.Graph at 0x7fd03927b0a0>,\n",
              " <networkx.classes.graph.Graph at 0x7fd0400b3ee0>,\n",
              " <networkx.classes.graph.Graph at 0x7fd0400b3ca0>,\n",
              " <networkx.classes.graph.Graph at 0x7fd0400b3f40>,\n",
              " <networkx.classes.graph.Graph at 0x7fd0400a1a60>,\n",
              " <networkx.classes.graph.Graph at 0x7fd0400b30a0>,\n",
              " <networkx.classes.graph.Graph at 0x7fd0400b32e0>,\n",
              " <networkx.classes.graph.Graph at 0x7fd0400c4100>]"
            ]
          },
          "metadata": {},
          "execution_count": 73
        }
      ]
    },
    {
      "cell_type": "code",
      "source": [
        "print(cost_function(Grafos[0],Grafos[1]))\n"
      ],
      "metadata": {
        "colab": {
          "base_uri": "https://localhost:8080/"
        },
        "id": "K_TwEdMf1dCd",
        "outputId": "f6aca059-1ef2-4d83-dab2-67c714c48d9f"
      },
      "execution_count": null,
      "outputs": [
        {
          "output_type": "stream",
          "name": "stdout",
          "text": [
            "106.0\n"
          ]
        }
      ]
    },
    {
      "cell_type": "markdown",
      "source": [
        "## Distancias Grafos"
      ],
      "metadata": {
        "id": "uOt6jjtmr-4M"
      }
    },
    {
      "cell_type": "code",
      "source": [
        "Gdistancias = graphs_distance(Grafos)\n",
        "distancias"
      ],
      "metadata": {
        "colab": {
          "base_uri": "https://localhost:8080/"
        },
        "id": "d9GMVTtTjPDh",
        "outputId": "80c95777-71d8-4b61-8205-deab5be05a4a"
      },
      "execution_count": null,
      "outputs": [
        {
          "output_type": "execute_result",
          "data": {
            "text/plain": [
              "[106.0,\n",
              " 194.0,\n",
              " 258.0,\n",
              " 276.0,\n",
              " 116.0,\n",
              " 222.0,\n",
              " 310.0,\n",
              " 370.0,\n",
              " 388.0,\n",
              " 467.0,\n",
              " 346.0,\n",
              " 313.0,\n",
              " 281.0,\n",
              " 299.0,\n",
              " 642.0,\n",
              " 519.0,\n",
              " 482.0,\n",
              " 462.0,\n",
              " 388.0,\n",
              " 71.0,\n",
              " 159.0,\n",
              " 219.0,\n",
              " 269.0,\n",
              " 285.0,\n",
              " 134.0,\n",
              " 240.0,\n",
              " 328.0,\n",
              " 392.0,\n",
              " 410.0,\n",
              " 476.0,\n",
              " 357.0,\n",
              " 322.0,\n",
              " 296.0,\n",
              " 312.0,\n",
              " 602.0,\n",
              " 479.0,\n",
              " 442.0,\n",
              " 422.0,\n",
              " 410.0,\n",
              " 88.0,\n",
              " 152.0,\n",
              " 170.0,\n",
              " 222.0,\n",
              " 116.0,\n",
              " 204.0,\n",
              " 264.0,\n",
              " 282.0,\n",
              " 565.0,\n",
              " 276.0,\n",
              " 225.0,\n",
              " 193.0,\n",
              " 195.0,\n",
              " 748.0,\n",
              " 433.0,\n",
              " 388.0,\n",
              " 358.0,\n",
              " 282.0,\n",
              " 163.0,\n",
              " 71.0,\n",
              " 123.0,\n",
              " 177.0,\n",
              " 181.0,\n",
              " 240.0,\n",
              " 134.0,\n",
              " 222.0,\n",
              " 286.0,\n",
              " 304.0,\n",
              " 574.0,\n",
              " 271.0,\n",
              " 224.0,\n",
              " 192.0,\n",
              " 206.0,\n",
              " 708.0,\n",
              " 393.0,\n",
              " 348.0,\n",
              " 318.0,\n",
              " 304.0,\n",
              " 64.0,\n",
              " 82.0,\n",
              " 310.0,\n",
              " 204.0,\n",
              " 116.0,\n",
              " 176.0,\n",
              " 194.0,\n",
              " 651.0,\n",
              " 340.0,\n",
              " 155.0,\n",
              " 105.0,\n",
              " 107.0,\n",
              " 836.0,\n",
              " 521.0,\n",
              " 324.0,\n",
              " 274.0,\n",
              " 194.0,\n",
              " 215.0,\n",
              " 109.0,\n",
              " 41.0,\n",
              " 89.0,\n",
              " 93.0,\n",
              " 328.0,\n",
              " 222.0,\n",
              " 134.0,\n",
              " 198.0,\n",
              " 216.0,\n",
              " 662.0,\n",
              " 349.0,\n",
              " 162.0,\n",
              " 106.0,\n",
              " 118.0,\n",
              " 796.0,\n",
              " 481.0,\n",
              " 284.0,\n",
              " 234.0,\n",
              " 216.0,\n",
              " 18.0,\n",
              " 370.0,\n",
              " 264.0,\n",
              " 176.0,\n",
              " 112.0,\n",
              " 130.0,\n",
              " 715.0,\n",
              " 404.0,\n",
              " 211.0,\n",
              " 57.0,\n",
              " 51.0,\n",
              " 900.0,\n",
              " 585.0,\n",
              " 388.0,\n",
              " 226.0,\n",
              " 130.0,\n",
              " 271.0,\n",
              " 165.0,\n",
              " 85.0,\n",
              " 47.0,\n",
              " 41.0,\n",
              " 392.0,\n",
              " 286.0,\n",
              " 198.0,\n",
              " 134.0,\n",
              " 152.0,\n",
              " 726.0,\n",
              " 411.0,\n",
              " 214.0,\n",
              " 58.0,\n",
              " 60.0,\n",
              " 860.0,\n",
              " 545.0,\n",
              " 348.0,\n",
              " 186.0,\n",
              " 152.0,\n",
              " 388.0,\n",
              " 282.0,\n",
              " 194.0,\n",
              " 130.0,\n",
              " 112.0,\n",
              " 733.0,\n",
              " 418.0,\n",
              " 221.0,\n",
              " 59.0,\n",
              " 33.0,\n",
              " 918.0,\n",
              " 603.0,\n",
              " 406.0,\n",
              " 244.0,\n",
              " 112.0,\n",
              " 283.0,\n",
              " 177.0,\n",
              " 95.0,\n",
              " 43.0,\n",
              " 27.0,\n",
              " 410.0,\n",
              " 304.0,\n",
              " 216.0,\n",
              " 152.0,\n",
              " 134.0,\n",
              " 744.0,\n",
              " 429.0,\n",
              " 232.0,\n",
              " 72.0,\n",
              " 46.0,\n",
              " 878.0,\n",
              " 563.0,\n",
              " 366.0,\n",
              " 204.0,\n",
              " 134.0,\n",
              " 106.0,\n",
              " 194.0,\n",
              " 258.0,\n",
              " 276.0,\n",
              " 555.0,\n",
              " 434.0,\n",
              " 399.0,\n",
              " 377.0,\n",
              " 393.0,\n",
              " 532.0,\n",
              " 409.0,\n",
              " 370.0,\n",
              " 352.0,\n",
              " 276.0,\n",
              " 119.0,\n",
              " 225.0,\n",
              " 307.0,\n",
              " 363.0,\n",
              " 381.0,\n",
              " 74.0,\n",
              " 174.0,\n",
              " 238.0,\n",
              " 300.0,\n",
              " 312.0,\n",
              " 540.0,\n",
              " 417.0,\n",
              " 380.0,\n",
              " 360.0,\n",
              " 374.0,\n",
              " 494.0,\n",
              " 377.0,\n",
              " 342.0,\n",
              " 310.0,\n",
              " 312.0,\n",
              " 88.0,\n",
              " 152.0,\n",
              " 170.0,\n",
              " 661.0,\n",
              " 352.0,\n",
              " 303.0,\n",
              " 271.0,\n",
              " 287.0,\n",
              " 636.0,\n",
              " 323.0,\n",
              " 276.0,\n",
              " 246.0,\n",
              " 170.0,\n",
              " 225.0,\n",
              " 119.0,\n",
              " 201.0,\n",
              " 257.0,\n",
              " 275.0,\n",
              " 172.0,\n",
              " 74.0,\n",
              " 132.0,\n",
              " 194.0,\n",
              " 206.0,\n",
              " 642.0,\n",
              " 335.0,\n",
              " 286.0,\n",
              " 254.0,\n",
              " 268.0,\n",
              " 596.0,\n",
              " 291.0,\n",
              " 238.0,\n",
              " 210.0,\n",
              " 206.0,\n",
              " 64.0,\n",
              " 82.0,\n",
              " 749.0,\n",
              " 434.0,\n",
              " 241.0,\n",
              " 191.0,\n",
              " 201.0,\n",
              " 724.0,\n",
              " 409.0,\n",
              " 216.0,\n",
              " 166.0,\n",
              " 82.0,\n",
              " 309.0,\n",
              " 203.0,\n",
              " 119.0,\n",
              " 169.0,\n",
              " 187.0,\n",
              " 242.0,\n",
              " 136.0,\n",
              " 62.0,\n",
              " 112.0,\n",
              " 124.0,\n",
              " 730.0,\n",
              " 419.0,\n",
              " 224.0,\n",
              " 174.0,\n",
              " 182.0,\n",
              " 684.0,\n",
              " 369.0,\n",
              " 204.0,\n",
              " 126.0,\n",
              " 124.0,\n",
              " 18.0,\n",
              " 813.0,\n",
              " 498.0,\n",
              " 301.0,\n",
              " 141.0,\n",
              " 145.0,\n",
              " 788.0,\n",
              " 473.0,\n",
              " 276.0,\n",
              " 120.0,\n",
              " 18.0,\n",
              " 363.0,\n",
              " 257.0,\n",
              " 171.0,\n",
              " 107.0,\n",
              " 125.0,\n",
              " 300.0,\n",
              " 194.0,\n",
              " 106.0,\n",
              " 54.0,\n",
              " 62.0,\n",
              " 794.0,\n",
              " 479.0,\n",
              " 282.0,\n",
              " 122.0,\n",
              " 126.0,\n",
              " 748.0,\n",
              " 433.0,\n",
              " 236.0,\n",
              " 90.0,\n",
              " 62.0,\n",
              " 831.0,\n",
              " 516.0,\n",
              " 319.0,\n",
              " 157.0,\n",
              " 131.0,\n",
              " 806.0,\n",
              " 491.0,\n",
              " 294.0,\n",
              " 132.0,\n",
              " 0.0,\n",
              " 381.0,\n",
              " 275.0,\n",
              " 187.0,\n",
              " 125.0,\n",
              " 107.0,\n",
              " 312.0,\n",
              " 206.0,\n",
              " 118.0,\n",
              " 64.0,\n",
              " 48.0,\n",
              " 812.0,\n",
              " 497.0,\n",
              " 300.0,\n",
              " 138.0,\n",
              " 112.0,\n",
              " 766.0,\n",
              " 451.0,\n",
              " 254.0,\n",
              " 92.0,\n",
              " 48.0,\n",
              " 315.0,\n",
              " 512.0,\n",
              " 674.0,\n",
              " 700.0,\n",
              " 197.0,\n",
              " 512.0,\n",
              " 709.0,\n",
              " 869.0,\n",
              " 831.0,\n",
              " 466.0,\n",
              " 570.0,\n",
              " 654.0,\n",
              " 718.0,\n",
              " 736.0,\n",
              " 577.0,\n",
              " 683.0,\n",
              " 771.0,\n",
              " 835.0,\n",
              " 853.0,\n",
              " 57.0,\n",
              " 354.0,\n",
              " 543.0,\n",
              " 705.0,\n",
              " 731.0,\n",
              " 155.0,\n",
              " 470.0,\n",
              " 667.0,\n",
              " 829.0,\n",
              " 853.0,\n",
              " 197.0,\n",
              " 359.0,\n",
              " 385.0,\n",
              " 512.0,\n",
              " 197.0,\n",
              " 394.0,\n",
              " 554.0,\n",
              " 516.0,\n",
              " 341.0,\n",
              " 265.0,\n",
              " 339.0,\n",
              " 403.0,\n",
              " 421.0,\n",
              " 454.0,\n",
              " 368.0,\n",
              " 456.0,\n",
              " 520.0,\n",
              " 538.0,\n",
              " 360.0,\n",
              " 47.0,\n",
              " 236.0,\n",
              " 390.0,\n",
              " 416.0,\n",
              " 470.0,\n",
              " 155.0,\n",
              " 352.0,\n",
              " 514.0,\n",
              " 538.0,\n",
              " 162.0,\n",
              " 188.0,\n",
              " 709.0,\n",
              " 394.0,\n",
              " 197.0,\n",
              " 357.0,\n",
              " 319.0,\n",
              " 312.0,\n",
              " 212.0,\n",
              " 150.0,\n",
              " 208.0,\n",
              " 226.0,\n",
              " 417.0,\n",
              " 323.0,\n",
              " 259.0,\n",
              " 323.0,\n",
              " 341.0,\n",
              " 549.0,\n",
              " 236.0,\n",
              " 47.0,\n",
              " 197.0,\n",
              " 219.0,\n",
              " 667.0,\n",
              " 352.0,\n",
              " 155.0,\n",
              " 317.0,\n",
              " 341.0,\n",
              " 26.0,\n",
              " 869.0,\n",
              " 554.0,\n",
              " 357.0,\n",
              " 195.0,\n",
              " 157.0,\n",
              " 286.0,\n",
              " 180.0,\n",
              " 102.0,\n",
              " 52.0,\n",
              " 66.0,\n",
              " 397.0,\n",
              " 293.0,\n",
              " 209.0,\n",
              " 161.0,\n",
              " 179.0,\n",
              " 703.0,\n",
              " 388.0,\n",
              " 199.0,\n",
              " 39.0,\n",
              " 57.0,\n",
              " 829.0,\n",
              " 514.0,\n",
              " 317.0,\n",
              " 155.0,\n",
              " 179.0,\n",
              " 895.0,\n",
              " 580.0,\n",
              " 383.0,\n",
              " 221.0,\n",
              " 131.0,\n",
              " 304.0,\n",
              " 198.0,\n",
              " 114.0,\n",
              " 56.0,\n",
              " 44.0,\n",
              " 415.0,\n",
              " 309.0,\n",
              " 223.0,\n",
              " 167.0,\n",
              " 153.0,\n",
              " 729.0,\n",
              " 414.0,\n",
              " 217.0,\n",
              " 57.0,\n",
              " 31.0,\n",
              " 855.0,\n",
              " 540.0,\n",
              " 343.0,\n",
              " 181.0,\n",
              " 153.0,\n",
              " 315.0,\n",
              " 512.0,\n",
              " 674.0,\n",
              " 806.0,\n",
              " 635.0,\n",
              " 741.0,\n",
              " 829.0,\n",
              " 893.0,\n",
              " 911.0,\n",
              " 508.0,\n",
              " 614.0,\n",
              " 702.0,\n",
              " 766.0,\n",
              " 784.0,\n",
              " 176.0,\n",
              " 491.0,\n",
              " 688.0,\n",
              " 850.0,\n",
              " 876.0,\n",
              " 112.0,\n",
              " 399.0,\n",
              " 586.0,\n",
              " 714.0,\n",
              " 784.0,\n",
              " 197.0,\n",
              " 359.0,\n",
              " 491.0,\n",
              " 514.0,\n",
              " 430.0,\n",
              " 514.0,\n",
              " 578.0,\n",
              " 596.0,\n",
              " 393.0,\n",
              " 307.0,\n",
              " 387.0,\n",
              " 451.0,\n",
              " 469.0,\n",
              " 491.0,\n",
              " 176.0,\n",
              " 373.0,\n",
              " 535.0,\n",
              " 561.0,\n",
              " 417.0,\n",
              " 112.0,\n",
              " 273.0,\n",
              " 405.0,\n",
              " 469.0,\n",
              " 162.0,\n",
              " 294.0,\n",
              " 479.0,\n",
              " 383.0,\n",
              " 319.0,\n",
              " 381.0,\n",
              " 399.0,\n",
              " 366.0,\n",
              " 268.0,\n",
              " 210.0,\n",
              " 264.0,\n",
              " 272.0,\n",
              " 688.0,\n",
              " 373.0,\n",
              " 176.0,\n",
              " 338.0,\n",
              " 364.0,\n",
              " 570.0,\n",
              " 267.0,\n",
              " 102.0,\n",
              " 218.0,\n",
              " 272.0,\n",
              " 132.0,\n",
              " 455.0,\n",
              " 351.0,\n",
              " 267.0,\n",
              " 219.0,\n",
              " 237.0,\n",
              " 330.0,\n",
              " 226.0,\n",
              " 150.0,\n",
              " 110.0,\n",
              " 110.0,\n",
              " 850.0,\n",
              " 535.0,\n",
              " 338.0,\n",
              " 176.0,\n",
              " 202.0,\n",
              " 716.0,\n",
              " 401.0,\n",
              " 204.0,\n",
              " 68.0,\n",
              " 110.0,\n",
              " 381.0,\n",
              " 275.0,\n",
              " 187.0,\n",
              " 125.0,\n",
              " 107.0,\n",
              " 312.0,\n",
              " 206.0,\n",
              " 118.0,\n",
              " 64.0,\n",
              " 48.0,\n",
              " 812.0,\n",
              " 497.0,\n",
              " 300.0,\n",
              " 138.0,\n",
              " 112.0,\n",
              " 766.0,\n",
              " 451.0,\n",
              " 254.0,\n",
              " 92.0,\n",
              " 48.0,\n",
              " 106.0,\n",
              " 194.0,\n",
              " 258.0,\n",
              " 276.0,\n",
              " 127.0,\n",
              " 233.0,\n",
              " 321.0,\n",
              " 385.0,\n",
              " 403.0,\n",
              " 475.0,\n",
              " 348.0,\n",
              " 317.0,\n",
              " 289.0,\n",
              " 305.0,\n",
              " 595.0,\n",
              " 472.0,\n",
              " 435.0,\n",
              " 415.0,\n",
              " 403.0,\n",
              " 88.0,\n",
              " 152.0,\n",
              " 170.0,\n",
              " 233.0,\n",
              " 127.0,\n",
              " 215.0,\n",
              " 279.0,\n",
              " 297.0,\n",
              " 577.0,\n",
              " 272.0,\n",
              " 223.0,\n",
              " 189.0,\n",
              " 201.0,\n",
              " 701.0,\n",
              " 386.0,\n",
              " 341.0,\n",
              " 311.0,\n",
              " 297.0,\n",
              " 64.0,\n",
              " 82.0,\n",
              " 321.0,\n",
              " 215.0,\n",
              " 127.0,\n",
              " 191.0,\n",
              " 209.0,\n",
              " 665.0,\n",
              " 350.0,\n",
              " 163.0,\n",
              " 107.0,\n",
              " 117.0,\n",
              " 789.0,\n",
              " 474.0,\n",
              " 277.0,\n",
              " 227.0,\n",
              " 209.0,\n",
              " 18.0,\n",
              " 385.0,\n",
              " 279.0,\n",
              " 191.0,\n",
              " 127.0,\n",
              " 145.0,\n",
              " 729.0,\n",
              " 414.0,\n",
              " 223.0,\n",
              " 65.0,\n",
              " 65.0,\n",
              " 853.0,\n",
              " 538.0,\n",
              " 341.0,\n",
              " 179.0,\n",
              " 145.0,\n",
              " 403.0,\n",
              " 297.0,\n",
              " 209.0,\n",
              " 145.0,\n",
              " 127.0,\n",
              " 743.0,\n",
              " 428.0,\n",
              " 235.0,\n",
              " 75.0,\n",
              " 51.0,\n",
              " 871.0,\n",
              " 556.0,\n",
              " 359.0,\n",
              " 197.0,\n",
              " 127.0,\n",
              " 106.0,\n",
              " 194.0,\n",
              " 258.0,\n",
              " 276.0,\n",
              " 558.0,\n",
              " 435.0,\n",
              " 398.0,\n",
              " 378.0,\n",
              " 396.0,\n",
              " 486.0,\n",
              " 367.0,\n",
              " 332.0,\n",
              " 296.0,\n",
              " 276.0,\n",
              " 88.0,\n",
              " 152.0,\n",
              " 170.0,\n",
              " 664.0,\n",
              " 349.0,\n",
              " 304.0,\n",
              " 274.0,\n",
              " 290.0,\n",
              " 582.0,\n",
              " 285.0,\n",
              " 232.0,\n",
              " 196.0,\n",
              " 170.0,\n",
              " 64.0,\n",
              " 82.0,\n",
              " 752.0,\n",
              " 437.0,\n",
              " 240.0,\n",
              " 190.0,\n",
              " 204.0,\n",
              " 670.0,\n",
              " 355.0,\n",
              " 174.0,\n",
              " 112.0,\n",
              " 82.0,\n",
              " 18.0,\n",
              " 816.0,\n",
              " 501.0,\n",
              " 304.0,\n",
              " 142.0,\n",
              " 148.0,\n",
              " 734.0,\n",
              " 419.0,\n",
              " 222.0,\n",
              " 86.0,\n",
              " 18.0,\n",
              " 834.0,\n",
              " 519.0,\n",
              " 322.0,\n",
              " 160.0,\n",
              " 134.0,\n",
              " 752.0,\n",
              " 437.0,\n",
              " 240.0,\n",
              " 94.0,\n",
              " 0.0,\n",
              " 315.0,\n",
              " 512.0,\n",
              " 674.0,\n",
              " 700.0,\n",
              " 138.0,\n",
              " 451.0,\n",
              " 648.0,\n",
              " 810.0,\n",
              " 834.0,\n",
              " 197.0,\n",
              " 359.0,\n",
              " 385.0,\n",
              " 453.0,\n",
              " 138.0,\n",
              " 333.0,\n",
              " 495.0,\n",
              " 519.0,\n",
              " 162.0,\n",
              " 188.0,\n",
              " 648.0,\n",
              " 333.0,\n",
              " 136.0,\n",
              " 298.0,\n",
              " 322.0,\n",
              " 26.0,\n",
              " 810.0,\n",
              " 495.0,\n",
              " 298.0,\n",
              " 136.0,\n",
              " 160.0,\n",
              " 836.0,\n",
              " 521.0,\n",
              " 324.0,\n",
              " 162.0,\n",
              " 134.0,\n",
              " 315.0,\n",
              " 512.0,\n",
              " 674.0,\n",
              " 752.0,\n",
              " 197.0,\n",
              " 359.0,\n",
              " 437.0,\n",
              " 162.0,\n",
              " 240.0,\n",
              " 94.0]"
            ]
          },
          "metadata": {},
          "execution_count": 75
        }
      ]
    },
    {
      "cell_type": "code",
      "source": [
        "dist = np.asarray(distancias)\n",
        "\n",
        "normalized_dist = dist/np.linalg.norm(dist)"
      ],
      "metadata": {
        "id": "sGrpmhtpjuNN"
      },
      "execution_count": null,
      "outputs": []
    },
    {
      "cell_type": "code",
      "source": [
        "dist"
      ],
      "metadata": {
        "colab": {
          "base_uri": "https://localhost:8080/"
        },
        "id": "WR7-tcKg6aVF",
        "outputId": "7d179c08-a0c0-4169-f0eb-ba03fef4d3d3"
      },
      "execution_count": null,
      "outputs": [
        {
          "output_type": "execute_result",
          "data": {
            "text/plain": [
              "array([106., 194., 258., 276., 116., 222., 310., 370., 388., 467., 346.,\n",
              "       313., 281., 299., 642., 519., 482., 462., 388.,  71., 159., 219.,\n",
              "       269., 285., 134., 240., 328., 392., 410., 476., 357., 322., 296.,\n",
              "       312., 602., 479., 442., 422., 410.,  88., 152., 170., 222., 116.,\n",
              "       204., 264., 282., 565., 276., 225., 193., 195., 748., 433., 388.,\n",
              "       358., 282., 163.,  71., 123., 177., 181., 240., 134., 222., 286.,\n",
              "       304., 574., 271., 224., 192., 206., 708., 393., 348., 318., 304.,\n",
              "        64.,  82., 310., 204., 116., 176., 194., 651., 340., 155., 105.,\n",
              "       107., 836., 521., 324., 274., 194., 215., 109.,  41.,  89.,  93.,\n",
              "       328., 222., 134., 198., 216., 662., 349., 162., 106., 118., 796.,\n",
              "       481., 284., 234., 216.,  18., 370., 264., 176., 112., 130., 715.,\n",
              "       404., 211.,  57.,  51., 900., 585., 388., 226., 130., 271., 165.,\n",
              "        85.,  47.,  41., 392., 286., 198., 134., 152., 726., 411., 214.,\n",
              "        58.,  60., 860., 545., 348., 186., 152., 388., 282., 194., 130.,\n",
              "       112., 733., 418., 221.,  59.,  33., 918., 603., 406., 244., 112.,\n",
              "       283., 177.,  95.,  43.,  27., 410., 304., 216., 152., 134., 744.,\n",
              "       429., 232.,  72.,  46., 878., 563., 366., 204., 134., 106., 194.,\n",
              "       258., 276., 555., 434., 399., 377., 393., 532., 409., 370., 352.,\n",
              "       276., 119., 225., 307., 363., 381.,  74., 174., 238., 300., 312.,\n",
              "       540., 417., 380., 360., 374., 494., 377., 342., 310., 312.,  88.,\n",
              "       152., 170., 661., 352., 303., 271., 287., 636., 323., 276., 246.,\n",
              "       170., 225., 119., 201., 257., 275., 172.,  74., 132., 194., 206.,\n",
              "       642., 335., 286., 254., 268., 596., 291., 238., 210., 206.,  64.,\n",
              "        82., 749., 434., 241., 191., 201., 724., 409., 216., 166.,  82.,\n",
              "       309., 203., 119., 169., 187., 242., 136.,  62., 112., 124., 730.,\n",
              "       419., 224., 174., 182., 684., 369., 204., 126., 124.,  18., 813.,\n",
              "       498., 301., 141., 145., 788., 473., 276., 120.,  18., 363., 257.,\n",
              "       171., 107., 125., 300., 194., 106.,  54.,  62., 794., 479., 282.,\n",
              "       122., 126., 748., 433., 236.,  90.,  62., 831., 516., 319., 157.,\n",
              "       131., 806., 491., 294., 132.,   0., 381., 275., 187., 125., 107.,\n",
              "       312., 206., 118.,  64.,  48., 812., 497., 300., 138., 112., 766.,\n",
              "       451., 254.,  92.,  48., 315., 512., 674., 700., 197., 512., 709.,\n",
              "       869., 831., 466., 570., 654., 718., 736., 577., 683., 771., 835.,\n",
              "       853.,  57., 354., 543., 705., 731., 155., 470., 667., 829., 853.,\n",
              "       197., 359., 385., 512., 197., 394., 554., 516., 341., 265., 339.,\n",
              "       403., 421., 454., 368., 456., 520., 538., 360.,  47., 236., 390.,\n",
              "       416., 470., 155., 352., 514., 538., 162., 188., 709., 394., 197.,\n",
              "       357., 319., 312., 212., 150., 208., 226., 417., 323., 259., 323.,\n",
              "       341., 549., 236.,  47., 197., 219., 667., 352., 155., 317., 341.,\n",
              "        26., 869., 554., 357., 195., 157., 286., 180., 102.,  52.,  66.,\n",
              "       397., 293., 209., 161., 179., 703., 388., 199.,  39.,  57., 829.,\n",
              "       514., 317., 155., 179., 895., 580., 383., 221., 131., 304., 198.,\n",
              "       114.,  56.,  44., 415., 309., 223., 167., 153., 729., 414., 217.,\n",
              "        57.,  31., 855., 540., 343., 181., 153., 315., 512., 674., 806.,\n",
              "       635., 741., 829., 893., 911., 508., 614., 702., 766., 784., 176.,\n",
              "       491., 688., 850., 876., 112., 399., 586., 714., 784., 197., 359.,\n",
              "       491., 514., 430., 514., 578., 596., 393., 307., 387., 451., 469.,\n",
              "       491., 176., 373., 535., 561., 417., 112., 273., 405., 469., 162.,\n",
              "       294., 479., 383., 319., 381., 399., 366., 268., 210., 264., 272.,\n",
              "       688., 373., 176., 338., 364., 570., 267., 102., 218., 272., 132.,\n",
              "       455., 351., 267., 219., 237., 330., 226., 150., 110., 110., 850.,\n",
              "       535., 338., 176., 202., 716., 401., 204.,  68., 110., 381., 275.,\n",
              "       187., 125., 107., 312., 206., 118.,  64.,  48., 812., 497., 300.,\n",
              "       138., 112., 766., 451., 254.,  92.,  48., 106., 194., 258., 276.,\n",
              "       127., 233., 321., 385., 403., 475., 348., 317., 289., 305., 595.,\n",
              "       472., 435., 415., 403.,  88., 152., 170., 233., 127., 215., 279.,\n",
              "       297., 577., 272., 223., 189., 201., 701., 386., 341., 311., 297.,\n",
              "        64.,  82., 321., 215., 127., 191., 209., 665., 350., 163., 107.,\n",
              "       117., 789., 474., 277., 227., 209.,  18., 385., 279., 191., 127.,\n",
              "       145., 729., 414., 223.,  65.,  65., 853., 538., 341., 179., 145.,\n",
              "       403., 297., 209., 145., 127., 743., 428., 235.,  75.,  51., 871.,\n",
              "       556., 359., 197., 127., 106., 194., 258., 276., 558., 435., 398.,\n",
              "       378., 396., 486., 367., 332., 296., 276.,  88., 152., 170., 664.,\n",
              "       349., 304., 274., 290., 582., 285., 232., 196., 170.,  64.,  82.,\n",
              "       752., 437., 240., 190., 204., 670., 355., 174., 112.,  82.,  18.,\n",
              "       816., 501., 304., 142., 148., 734., 419., 222.,  86.,  18., 834.,\n",
              "       519., 322., 160., 134., 752., 437., 240.,  94.,   0., 315., 512.,\n",
              "       674., 700., 138., 451., 648., 810., 834., 197., 359., 385., 453.,\n",
              "       138., 333., 495., 519., 162., 188., 648., 333., 136., 298., 322.,\n",
              "        26., 810., 495., 298., 136., 160., 836., 521., 324., 162., 134.,\n",
              "       315., 512., 674., 752., 197., 359., 437., 162., 240.,  94.])"
            ]
          },
          "metadata": {},
          "execution_count": 77
        }
      ]
    },
    {
      "cell_type": "code",
      "source": [
        "np.save(\"array_distancias_grafos\", dist)\n",
        "b = np.load(\"array_distancias_grafos.npy\")"
      ],
      "metadata": {
        "id": "uNw_YBYv6Tu-"
      },
      "execution_count": null,
      "outputs": []
    },
    {
      "cell_type": "code",
      "source": [
        "import matplotlib.pyplot as plot\n",
        "\n",
        "Z=normalized_dist*1000\n",
        "\n",
        "intervalos = range(round(min(Z)), round(max(Z)) + 2) #calculamos los extremos de los intervalos\n",
        "\n",
        "plot.hist(x=Z, bins=intervalos, color='#F2AB6D', rwidth=0.85)\n",
        "\n",
        "plot.title('Histograma de Distancias entre grafos')\n",
        "plot.xlabel('Distancias')\n",
        "plot.ylabel('Frecuencia')\n",
        "plot.xticks(intervalos)\n",
        "\n",
        "plot.show() #dibujamos el histograma"
      ],
      "metadata": {
        "id": "RswSER5EjbNG",
        "colab": {
          "base_uri": "https://localhost:8080/",
          "height": 465
        },
        "outputId": "152271e5-c188-4b56-d418-bf2b0bb68854"
      },
      "execution_count": null,
      "outputs": [
        {
          "output_type": "display_data",
          "data": {
            "text/plain": [
              "<Figure size 640x480 with 1 Axes>"
            ],
            "image/png": "[encoded data removed]"
          },
          "metadata": {}
        }
      ]
    },
    {
      "cell_type": "code",
      "source": [
        "Z= dist #normalized_dist #*1000\n",
        "\n",
        "plt.title('Histograma de distancias entre grafos VRP')\n",
        "plt.hist(Z, bins=8, color='#F2AB6D', alpha=1, edgecolor = 'black',  linewidth=1)\n",
        "plot.xlabel('Distancias')\n",
        "plot.ylabel('Frecuencia')\n",
        "plt.grid(True)\n",
        "plt.show()\n",
        "plt.clf()"
      ],
      "metadata": {
        "id": "JuCvKOgQdYoI",
        "colab": {
          "base_uri": "https://localhost:8080/",
          "height": 482
        },
        "outputId": "dd1ba58d-dc5f-4852-eabf-fc21d92ce684"
      },
      "execution_count": null,
      "outputs": [
        {
          "output_type": "display_data",
          "data": {
            "text/plain": [
              "<Figure size 640x480 with 1 Axes>"
            ],
            "image/png": "[encoded data removed]"
          },
          "metadata": {}
        },
        {
          "output_type": "display_data",
          "data": {
            "text/plain": [
              "<Figure size 640x480 with 0 Axes>"
            ]
          },
          "metadata": {}
        }
      ]
    },
    {
      "cell_type": "markdown",
      "source": [
        "# **karate club embeddings**"
      ],
      "metadata": {
        "id": "j3w7LbWy35hd"
      }
    },
    {
      "cell_type": "code",
      "source": [
        "!pip install karateclub\n"
      ],
      "metadata": {
        "colab": {
          "base_uri": "https://localhost:8080/",
          "height": 589
        },
        "id": "Uj5jZLzKx0Ja",
        "outputId": "98280f75-2ee2-4d98-85dd-4e0fbd929767"
      },
      "execution_count": null,
      "outputs": [
        {
          "output_type": "stream",
          "name": "stdout",
          "text": [
            "Looking in indexes: https://pypi.org/simple, https://us-python.pkg.dev/colab-wheels/public/simple/\n",
            "Requirement already satisfied: karateclub in /usr/local/lib/python3.9/dist-packages (1.3.3)\n",
            "Requirement already satisfied: pygsp in /usr/local/lib/python3.9/dist-packages (from karateclub) (0.5.1)\n",
            "Requirement already satisfied: python-louvain in /usr/local/lib/python3.9/dist-packages (from karateclub) (0.16)\n",
            "Requirement already satisfied: pandas<=1.3.5 in /usr/local/lib/python3.9/dist-packages (from karateclub) (1.3.5)\n",
            "Requirement already satisfied: python-Levenshtein in /usr/local/lib/python3.9/dist-packages (from karateclub) (0.20.9)\n",
            "Collecting networkx<2.7\n",
            "  Using cached networkx-2.6.3-py3-none-any.whl (1.9 MB)\n",
            "Requirement already satisfied: scikit-learn in /usr/local/lib/python3.9/dist-packages (from karateclub) (1.2.2)\n",
            "Requirement already satisfied: tqdm in /usr/local/lib/python3.9/dist-packages (from karateclub) (4.65.0)\n",
            "Requirement already satisfied: scipy in /usr/local/lib/python3.9/dist-packages (from karateclub) (1.10.1)\n",
            "Requirement already satisfied: six in /usr/local/lib/python3.9/dist-packages (from karateclub) (1.16.0)\n",
            "Requirement already satisfied: numpy<1.23.0 in /usr/local/lib/python3.9/dist-packages (from karateclub) (1.22.4)\n",
            "Requirement already satisfied: decorator==4.4.2 in /usr/local/lib/python3.9/dist-packages (from karateclub) (4.4.2)\n",
            "Requirement already satisfied: gensim>=4.0.0 in /usr/local/lib/python3.9/dist-packages (from karateclub) (4.3.1)\n",
            "Requirement already satisfied: smart-open>=1.8.1 in /usr/local/lib/python3.9/dist-packages (from gensim>=4.0.0->karateclub) (6.3.0)\n",
            "Requirement already satisfied: python-dateutil>=2.7.3 in /usr/local/lib/python3.9/dist-packages (from pandas<=1.3.5->karateclub) (2.8.2)\n",
            "Requirement already satisfied: pytz>=2017.3 in /usr/local/lib/python3.9/dist-packages (from pandas<=1.3.5->karateclub) (2022.7.1)\n",
            "Requirement already satisfied: Levenshtein==0.20.9 in /usr/local/lib/python3.9/dist-packages (from python-Levenshtein->karateclub) (0.20.9)\n",
            "Requirement already satisfied: rapidfuzz<3.0.0,>=2.3.0 in /usr/local/lib/python3.9/dist-packages (from Levenshtein==0.20.9->python-Levenshtein->karateclub) (2.15.1)\n",
            "Requirement already satisfied: threadpoolctl>=2.0.0 in /usr/local/lib/python3.9/dist-packages (from scikit-learn->karateclub) (3.1.0)\n",
            "Requirement already satisfied: joblib>=1.1.1 in /usr/local/lib/python3.9/dist-packages (from scikit-learn->karateclub) (1.2.0)\n",
            "Installing collected packages: networkx\n",
            "  Attempting uninstall: networkx\n",
            "    Found existing installation: networkx 2.8.8\n",
            "    Uninstalling networkx-2.8.8:\n",
            "      Successfully uninstalled networkx-2.8.8\n",
            "Successfully installed networkx-3.1\n"
          ]
        },
        {
          "output_type": "display_data",
          "data": {
            "application/vnd.colab-display-data+json": {
              "pip_warning": {
                "packages": [
                  "networkx"
                ]
              }
            }
          },
          "metadata": {}
        }
      ]
    },
    {
      "cell_type": "code",
      "source": [
        "import networkx as nx\n",
        "from karateclub import DeepWalk\n",
        "\n",
        "from karateclub import GL2Vec\n",
        "from karateclub import Graph2Vec\n",
        "from karateclub import WaveletCharacteristic\n",
        "\n",
        "model = Graph2Vec(wl_iterations = 4, attributed = False, dimensions= 64, workers = 8, down_sampling= 0.0001, epochs= 50, learning_rate= 0.0125, min_count= 5, erase_base_features = True)\n",
        "model.fit(Grafos)\n",
        "embedding = model.get_embedding()\n",
        "\n",
        "model1 = GL2Vec(wl_iterations=4, dimensions=64, workers=8, down_sampling=0.0001, epochs=80, learning_rate=0.0125, min_count=5, seed=42, erase_base_features=True)\n",
        "model1.fit(Grafos)\n",
        "embedding1 = model1.get_embedding()\n",
        "\n",
        "model2=  WaveletCharacteristic(order= 3, eval_points= 30, theta_max = 2.5, tau = 1.0, pooling = 'mean') \n",
        "#pooling = 'mean', 'max', 'min'\n",
        "model2.fit(Grafos)\n",
        "embedding2 = model2.get_embedding()"
      ],
      "metadata": {
        "id": "DPZDaNtS4FNH",
        "colab": {
          "base_uri": "https://localhost:8080/"
        },
        "outputId": "68b40e4c-2dc9-4ac8-fea0-16013096f7ba"
      },
      "execution_count": null,
      "outputs": [
        {
          "output_type": "stream",
          "name": "stderr",
          "text": [
            "/usr/local/lib/python3.9/dist-packages/karateclub/graph_embedding/waveletcharacteristic.py:49: FutureWarning: adjacency_matrix will return a scipy.sparse array instead of a matrix in Networkx 3.0.\n",
            "  A = nx.adjacency_matrix(graph, nodelist=range(graph.number_of_nodes()))\n",
            "<class 'networkx.utils.decorators.argmap'> compilation 30:4: FutureWarning: laplacian_matrix will return a scipy.sparse array instead of a matrix in Networkx 3.0.\n",
            "/usr/local/lib/python3.9/dist-packages/karateclub/graph_embedding/waveletcharacteristic.py:49: FutureWarning: adjacency_matrix will return a scipy.sparse array instead of a matrix in Networkx 3.0.\n",
            "  A = nx.adjacency_matrix(graph, nodelist=range(graph.number_of_nodes()))\n",
            "<class 'networkx.utils.decorators.argmap'> compilation 30:4: FutureWarning: laplacian_matrix will return a scipy.sparse array instead of a matrix in Networkx 3.0.\n",
            "/usr/local/lib/python3.9/dist-packages/karateclub/graph_embedding/waveletcharacteristic.py:49: FutureWarning: adjacency_matrix will return a scipy.sparse array instead of a matrix in Networkx 3.0.\n",
            "  A = nx.adjacency_matrix(graph, nodelist=range(graph.number_of_nodes()))\n",
            "<class 'networkx.utils.decorators.argmap'> compilation 30:4: FutureWarning: laplacian_matrix will return a scipy.sparse array instead of a matrix in Networkx 3.0.\n",
            "/usr/local/lib/python3.9/dist-packages/karateclub/graph_embedding/waveletcharacteristic.py:49: FutureWarning: adjacency_matrix will return a scipy.sparse array instead of a matrix in Networkx 3.0.\n",
            "  A = nx.adjacency_matrix(graph, nodelist=range(graph.number_of_nodes()))\n",
            "<class 'networkx.utils.decorators.argmap'> compilation 30:4: FutureWarning: laplacian_matrix will return a scipy.sparse array instead of a matrix in Networkx 3.0.\n",
            "/usr/local/lib/python3.9/dist-packages/karateclub/graph_embedding/waveletcharacteristic.py:49: FutureWarning: adjacency_matrix will return a scipy.sparse array instead of a matrix in Networkx 3.0.\n",
            "  A = nx.adjacency_matrix(graph, nodelist=range(graph.number_of_nodes()))\n",
            "<class 'networkx.utils.decorators.argmap'> compilation 30:4: FutureWarning: laplacian_matrix will return a scipy.sparse array instead of a matrix in Networkx 3.0.\n",
            "/usr/local/lib/python3.9/dist-packages/karateclub/graph_embedding/waveletcharacteristic.py:49: FutureWarning: adjacency_matrix will return a scipy.sparse array instead of a matrix in Networkx 3.0.\n",
            "  A = nx.adjacency_matrix(graph, nodelist=range(graph.number_of_nodes()))\n",
            "<class 'networkx.utils.decorators.argmap'> compilation 30:4: FutureWarning: laplacian_matrix will return a scipy.sparse array instead of a matrix in Networkx 3.0.\n",
            "/usr/local/lib/python3.9/dist-packages/karateclub/graph_embedding/waveletcharacteristic.py:49: FutureWarning: adjacency_matrix will return a scipy.sparse array instead of a matrix in Networkx 3.0.\n",
            "  A = nx.adjacency_matrix(graph, nodelist=range(graph.number_of_nodes()))\n",
            "<class 'networkx.utils.decorators.argmap'> compilation 30:4: FutureWarning: laplacian_matrix will return a scipy.sparse array instead of a matrix in Networkx 3.0.\n",
            "/usr/local/lib/python3.9/dist-packages/karateclub/graph_embedding/waveletcharacteristic.py:49: FutureWarning: adjacency_matrix will return a scipy.sparse array instead of a matrix in Networkx 3.0.\n",
            "  A = nx.adjacency_matrix(graph, nodelist=range(graph.number_of_nodes()))\n",
            "<class 'networkx.utils.decorators.argmap'> compilation 30:4: FutureWarning: laplacian_matrix will return a scipy.sparse array instead of a matrix in Networkx 3.0.\n",
            "/usr/local/lib/python3.9/dist-packages/karateclub/graph_embedding/waveletcharacteristic.py:49: FutureWarning: adjacency_matrix will return a scipy.sparse array instead of a matrix in Networkx 3.0.\n",
            "  A = nx.adjacency_matrix(graph, nodelist=range(graph.number_of_nodes()))\n",
            "<class 'networkx.utils.decorators.argmap'> compilation 30:4: FutureWarning: laplacian_matrix will return a scipy.sparse array instead of a matrix in Networkx 3.0.\n",
            "/usr/local/lib/python3.9/dist-packages/karateclub/graph_embedding/waveletcharacteristic.py:49: FutureWarning: adjacency_matrix will return a scipy.sparse array instead of a matrix in Networkx 3.0.\n",
            "  A = nx.adjacency_matrix(graph, nodelist=range(graph.number_of_nodes()))\n",
            "<class 'networkx.utils.decorators.argmap'> compilation 30:4: FutureWarning: laplacian_matrix will return a scipy.sparse array instead of a matrix in Networkx 3.0.\n",
            "/usr/local/lib/python3.9/dist-packages/karateclub/graph_embedding/waveletcharacteristic.py:49: FutureWarning: adjacency_matrix will return a scipy.sparse array instead of a matrix in Networkx 3.0.\n",
            "  A = nx.adjacency_matrix(graph, nodelist=range(graph.number_of_nodes()))\n",
            "<class 'networkx.utils.decorators.argmap'> compilation 30:4: FutureWarning: laplacian_matrix will return a scipy.sparse array instead of a matrix in Networkx 3.0.\n",
            "/usr/local/lib/python3.9/dist-packages/karateclub/graph_embedding/waveletcharacteristic.py:49: FutureWarning: adjacency_matrix will return a scipy.sparse array instead of a matrix in Networkx 3.0.\n",
            "  A = nx.adjacency_matrix(graph, nodelist=range(graph.number_of_nodes()))\n",
            "<class 'networkx.utils.decorators.argmap'> compilation 30:4: FutureWarning: laplacian_matrix will return a scipy.sparse array instead of a matrix in Networkx 3.0.\n",
            "/usr/local/lib/python3.9/dist-packages/karateclub/graph_embedding/waveletcharacteristic.py:49: FutureWarning: adjacency_matrix will return a scipy.sparse array instead of a matrix in Networkx 3.0.\n",
            "  A = nx.adjacency_matrix(graph, nodelist=range(graph.number_of_nodes()))\n",
            "<class 'networkx.utils.decorators.argmap'> compilation 30:4: FutureWarning: laplacian_matrix will return a scipy.sparse array instead of a matrix in Networkx 3.0.\n",
            "/usr/local/lib/python3.9/dist-packages/karateclub/graph_embedding/waveletcharacteristic.py:49: FutureWarning: adjacency_matrix will return a scipy.sparse array instead of a matrix in Networkx 3.0.\n",
            "  A = nx.adjacency_matrix(graph, nodelist=range(graph.number_of_nodes()))\n",
            "<class 'networkx.utils.decorators.argmap'> compilation 30:4: FutureWarning: laplacian_matrix will return a scipy.sparse array instead of a matrix in Networkx 3.0.\n",
            "/usr/local/lib/python3.9/dist-packages/karateclub/graph_embedding/waveletcharacteristic.py:49: FutureWarning: adjacency_matrix will return a scipy.sparse array instead of a matrix in Networkx 3.0.\n",
            "  A = nx.adjacency_matrix(graph, nodelist=range(graph.number_of_nodes()))\n",
            "<class 'networkx.utils.decorators.argmap'> compilation 30:4: FutureWarning: laplacian_matrix will return a scipy.sparse array instead of a matrix in Networkx 3.0.\n",
            "/usr/local/lib/python3.9/dist-packages/karateclub/graph_embedding/waveletcharacteristic.py:49: FutureWarning: adjacency_matrix will return a scipy.sparse array instead of a matrix in Networkx 3.0.\n",
            "  A = nx.adjacency_matrix(graph, nodelist=range(graph.number_of_nodes()))\n",
            "<class 'networkx.utils.decorators.argmap'> compilation 30:4: FutureWarning: laplacian_matrix will return a scipy.sparse array instead of a matrix in Networkx 3.0.\n",
            "/usr/local/lib/python3.9/dist-packages/karateclub/graph_embedding/waveletcharacteristic.py:49: FutureWarning: adjacency_matrix will return a scipy.sparse array instead of a matrix in Networkx 3.0.\n",
            "  A = nx.adjacency_matrix(graph, nodelist=range(graph.number_of_nodes()))\n",
            "<class 'networkx.utils.decorators.argmap'> compilation 30:4: FutureWarning: laplacian_matrix will return a scipy.sparse array instead of a matrix in Networkx 3.0.\n",
            "/usr/local/lib/python3.9/dist-packages/karateclub/graph_embedding/waveletcharacteristic.py:49: FutureWarning: adjacency_matrix will return a scipy.sparse array instead of a matrix in Networkx 3.0.\n",
            "  A = nx.adjacency_matrix(graph, nodelist=range(graph.number_of_nodes()))\n",
            "<class 'networkx.utils.decorators.argmap'> compilation 30:4: FutureWarning: laplacian_matrix will return a scipy.sparse array instead of a matrix in Networkx 3.0.\n",
            "/usr/local/lib/python3.9/dist-packages/karateclub/graph_embedding/waveletcharacteristic.py:49: FutureWarning: adjacency_matrix will return a scipy.sparse array instead of a matrix in Networkx 3.0.\n",
            "  A = nx.adjacency_matrix(graph, nodelist=range(graph.number_of_nodes()))\n",
            "<class 'networkx.utils.decorators.argmap'> compilation 30:4: FutureWarning: laplacian_matrix will return a scipy.sparse array instead of a matrix in Networkx 3.0.\n",
            "/usr/local/lib/python3.9/dist-packages/karateclub/graph_embedding/waveletcharacteristic.py:49: FutureWarning: adjacency_matrix will return a scipy.sparse array instead of a matrix in Networkx 3.0.\n",
            "  A = nx.adjacency_matrix(graph, nodelist=range(graph.number_of_nodes()))\n",
            "<class 'networkx.utils.decorators.argmap'> compilation 30:4: FutureWarning: laplacian_matrix will return a scipy.sparse array instead of a matrix in Networkx 3.0.\n",
            "/usr/local/lib/python3.9/dist-packages/karateclub/graph_embedding/waveletcharacteristic.py:49: FutureWarning: adjacency_matrix will return a scipy.sparse array instead of a matrix in Networkx 3.0.\n",
            "  A = nx.adjacency_matrix(graph, nodelist=range(graph.number_of_nodes()))\n",
            "<class 'networkx.utils.decorators.argmap'> compilation 30:4: FutureWarning: laplacian_matrix will return a scipy.sparse array instead of a matrix in Networkx 3.0.\n",
            "/usr/local/lib/python3.9/dist-packages/karateclub/graph_embedding/waveletcharacteristic.py:49: FutureWarning: adjacency_matrix will return a scipy.sparse array instead of a matrix in Networkx 3.0.\n",
            "  A = nx.adjacency_matrix(graph, nodelist=range(graph.number_of_nodes()))\n",
            "<class 'networkx.utils.decorators.argmap'> compilation 30:4: FutureWarning: laplacian_matrix will return a scipy.sparse array instead of a matrix in Networkx 3.0.\n",
            "/usr/local/lib/python3.9/dist-packages/karateclub/graph_embedding/waveletcharacteristic.py:49: FutureWarning: adjacency_matrix will return a scipy.sparse array instead of a matrix in Networkx 3.0.\n",
            "  A = nx.adjacency_matrix(graph, nodelist=range(graph.number_of_nodes()))\n",
            "<class 'networkx.utils.decorators.argmap'> compilation 30:4: FutureWarning: laplacian_matrix will return a scipy.sparse array instead of a matrix in Networkx 3.0.\n",
            "/usr/local/lib/python3.9/dist-packages/karateclub/graph_embedding/waveletcharacteristic.py:49: FutureWarning: adjacency_matrix will return a scipy.sparse array instead of a matrix in Networkx 3.0.\n",
            "  A = nx.adjacency_matrix(graph, nodelist=range(graph.number_of_nodes()))\n",
            "<class 'networkx.utils.decorators.argmap'> compilation 30:4: FutureWarning: laplacian_matrix will return a scipy.sparse array instead of a matrix in Networkx 3.0.\n",
            "/usr/local/lib/python3.9/dist-packages/karateclub/graph_embedding/waveletcharacteristic.py:49: FutureWarning: adjacency_matrix will return a scipy.sparse array instead of a matrix in Networkx 3.0.\n",
            "  A = nx.adjacency_matrix(graph, nodelist=range(graph.number_of_nodes()))\n",
            "<class 'networkx.utils.decorators.argmap'> compilation 30:4: FutureWarning: laplacian_matrix will return a scipy.sparse array instead of a matrix in Networkx 3.0.\n",
            "/usr/local/lib/python3.9/dist-packages/karateclub/graph_embedding/waveletcharacteristic.py:49: FutureWarning: adjacency_matrix will return a scipy.sparse array instead of a matrix in Networkx 3.0.\n",
            "  A = nx.adjacency_matrix(graph, nodelist=range(graph.number_of_nodes()))\n",
            "<class 'networkx.utils.decorators.argmap'> compilation 30:4: FutureWarning: laplacian_matrix will return a scipy.sparse array instead of a matrix in Networkx 3.0.\n",
            "/usr/local/lib/python3.9/dist-packages/karateclub/graph_embedding/waveletcharacteristic.py:49: FutureWarning: adjacency_matrix will return a scipy.sparse array instead of a matrix in Networkx 3.0.\n",
            "  A = nx.adjacency_matrix(graph, nodelist=range(graph.number_of_nodes()))\n",
            "<class 'networkx.utils.decorators.argmap'> compilation 30:4: FutureWarning: laplacian_matrix will return a scipy.sparse array instead of a matrix in Networkx 3.0.\n",
            "/usr/local/lib/python3.9/dist-packages/karateclub/graph_embedding/waveletcharacteristic.py:49: FutureWarning: adjacency_matrix will return a scipy.sparse array instead of a matrix in Networkx 3.0.\n",
            "  A = nx.adjacency_matrix(graph, nodelist=range(graph.number_of_nodes()))\n",
            "<class 'networkx.utils.decorators.argmap'> compilation 30:4: FutureWarning: laplacian_matrix will return a scipy.sparse array instead of a matrix in Networkx 3.0.\n",
            "/usr/local/lib/python3.9/dist-packages/karateclub/graph_embedding/waveletcharacteristic.py:49: FutureWarning: adjacency_matrix will return a scipy.sparse array instead of a matrix in Networkx 3.0.\n",
            "  A = nx.adjacency_matrix(graph, nodelist=range(graph.number_of_nodes()))\n",
            "<class 'networkx.utils.decorators.argmap'> compilation 30:4: FutureWarning: laplacian_matrix will return a scipy.sparse array instead of a matrix in Networkx 3.0.\n",
            "/usr/local/lib/python3.9/dist-packages/karateclub/graph_embedding/waveletcharacteristic.py:49: FutureWarning: adjacency_matrix will return a scipy.sparse array instead of a matrix in Networkx 3.0.\n",
            "  A = nx.adjacency_matrix(graph, nodelist=range(graph.number_of_nodes()))\n",
            "<class 'networkx.utils.decorators.argmap'> compilation 30:4: FutureWarning: laplacian_matrix will return a scipy.sparse array instead of a matrix in Networkx 3.0.\n",
            "/usr/local/lib/python3.9/dist-packages/karateclub/graph_embedding/waveletcharacteristic.py:49: FutureWarning: adjacency_matrix will return a scipy.sparse array instead of a matrix in Networkx 3.0.\n",
            "  A = nx.adjacency_matrix(graph, nodelist=range(graph.number_of_nodes()))\n",
            "<class 'networkx.utils.decorators.argmap'> compilation 30:4: FutureWarning: laplacian_matrix will return a scipy.sparse array instead of a matrix in Networkx 3.0.\n",
            "/usr/local/lib/python3.9/dist-packages/karateclub/graph_embedding/waveletcharacteristic.py:49: FutureWarning: adjacency_matrix will return a scipy.sparse array instead of a matrix in Networkx 3.0.\n",
            "  A = nx.adjacency_matrix(graph, nodelist=range(graph.number_of_nodes()))\n",
            "<class 'networkx.utils.decorators.argmap'> compilation 30:4: FutureWarning: laplacian_matrix will return a scipy.sparse array instead of a matrix in Networkx 3.0.\n",
            "/usr/local/lib/python3.9/dist-packages/karateclub/graph_embedding/waveletcharacteristic.py:49: FutureWarning: adjacency_matrix will return a scipy.sparse array instead of a matrix in Networkx 3.0.\n",
            "  A = nx.adjacency_matrix(graph, nodelist=range(graph.number_of_nodes()))\n",
            "<class 'networkx.utils.decorators.argmap'> compilation 30:4: FutureWarning: laplacian_matrix will return a scipy.sparse array instead of a matrix in Networkx 3.0.\n",
            "/usr/local/lib/python3.9/dist-packages/karateclub/graph_embedding/waveletcharacteristic.py:49: FutureWarning: adjacency_matrix will return a scipy.sparse array instead of a matrix in Networkx 3.0.\n",
            "  A = nx.adjacency_matrix(graph, nodelist=range(graph.number_of_nodes()))\n",
            "<class 'networkx.utils.decorators.argmap'> compilation 30:4: FutureWarning: laplacian_matrix will return a scipy.sparse array instead of a matrix in Networkx 3.0.\n",
            "/usr/local/lib/python3.9/dist-packages/karateclub/graph_embedding/waveletcharacteristic.py:49: FutureWarning: adjacency_matrix will return a scipy.sparse array instead of a matrix in Networkx 3.0.\n",
            "  A = nx.adjacency_matrix(graph, nodelist=range(graph.number_of_nodes()))\n",
            "<class 'networkx.utils.decorators.argmap'> compilation 30:4: FutureWarning: laplacian_matrix will return a scipy.sparse array instead of a matrix in Networkx 3.0.\n",
            "/usr/local/lib/python3.9/dist-packages/karateclub/graph_embedding/waveletcharacteristic.py:49: FutureWarning: adjacency_matrix will return a scipy.sparse array instead of a matrix in Networkx 3.0.\n",
            "  A = nx.adjacency_matrix(graph, nodelist=range(graph.number_of_nodes()))\n",
            "<class 'networkx.utils.decorators.argmap'> compilation 30:4: FutureWarning: laplacian_matrix will return a scipy.sparse array instead of a matrix in Networkx 3.0.\n",
            "/usr/local/lib/python3.9/dist-packages/karateclub/graph_embedding/waveletcharacteristic.py:49: FutureWarning: adjacency_matrix will return a scipy.sparse array instead of a matrix in Networkx 3.0.\n",
            "  A = nx.adjacency_matrix(graph, nodelist=range(graph.number_of_nodes()))\n",
            "<class 'networkx.utils.decorators.argmap'> compilation 30:4: FutureWarning: laplacian_matrix will return a scipy.sparse array instead of a matrix in Networkx 3.0.\n",
            "/usr/local/lib/python3.9/dist-packages/karateclub/graph_embedding/waveletcharacteristic.py:49: FutureWarning: adjacency_matrix will return a scipy.sparse array instead of a matrix in Networkx 3.0.\n",
            "  A = nx.adjacency_matrix(graph, nodelist=range(graph.number_of_nodes()))\n",
            "<class 'networkx.utils.decorators.argmap'> compilation 30:4: FutureWarning: laplacian_matrix will return a scipy.sparse array instead of a matrix in Networkx 3.0.\n",
            "/usr/local/lib/python3.9/dist-packages/karateclub/graph_embedding/waveletcharacteristic.py:49: FutureWarning: adjacency_matrix will return a scipy.sparse array instead of a matrix in Networkx 3.0.\n",
            "  A = nx.adjacency_matrix(graph, nodelist=range(graph.number_of_nodes()))\n",
            "<class 'networkx.utils.decorators.argmap'> compilation 30:4: FutureWarning: laplacian_matrix will return a scipy.sparse array instead of a matrix in Networkx 3.0.\n",
            "/usr/local/lib/python3.9/dist-packages/karateclub/graph_embedding/waveletcharacteristic.py:49: FutureWarning: adjacency_matrix will return a scipy.sparse array instead of a matrix in Networkx 3.0.\n",
            "  A = nx.adjacency_matrix(graph, nodelist=range(graph.number_of_nodes()))\n",
            "<class 'networkx.utils.decorators.argmap'> compilation 30:4: FutureWarning: laplacian_matrix will return a scipy.sparse array instead of a matrix in Networkx 3.0.\n"
          ]
        }
      ]
    },
    {
      "cell_type": "code",
      "source": [
        "X = model.infer(Grafos)\n",
        "X\n",
        "X1 = model1.infer(Grafos)\n",
        "X1\n",
        "X2 = model2.infer(Grafos)\n",
        "X2"
      ],
      "metadata": {
        "id": "vRGYbTPAvl8b",
        "colab": {
          "base_uri": "https://localhost:8080/"
        },
        "outputId": "d9ef39f6-250d-44e0-89a1-709578603acc"
      },
      "execution_count": null,
      "outputs": [
        {
          "output_type": "stream",
          "name": "stderr",
          "text": [
            "/usr/local/lib/python3.9/dist-packages/karateclub/graph_embedding/waveletcharacteristic.py:49: FutureWarning: adjacency_matrix will return a scipy.sparse array instead of a matrix in Networkx 3.0.\n",
            "  A = nx.adjacency_matrix(graph, nodelist=range(graph.number_of_nodes()))\n",
            "<class 'networkx.utils.decorators.argmap'> compilation 30:4: FutureWarning: laplacian_matrix will return a scipy.sparse array instead of a matrix in Networkx 3.0.\n",
            "/usr/local/lib/python3.9/dist-packages/karateclub/graph_embedding/waveletcharacteristic.py:49: FutureWarning: adjacency_matrix will return a scipy.sparse array instead of a matrix in Networkx 3.0.\n",
            "  A = nx.adjacency_matrix(graph, nodelist=range(graph.number_of_nodes()))\n",
            "<class 'networkx.utils.decorators.argmap'> compilation 30:4: FutureWarning: laplacian_matrix will return a scipy.sparse array instead of a matrix in Networkx 3.0.\n",
            "/usr/local/lib/python3.9/dist-packages/karateclub/graph_embedding/waveletcharacteristic.py:49: FutureWarning: adjacency_matrix will return a scipy.sparse array instead of a matrix in Networkx 3.0.\n",
            "  A = nx.adjacency_matrix(graph, nodelist=range(graph.number_of_nodes()))\n",
            "<class 'networkx.utils.decorators.argmap'> compilation 30:4: FutureWarning: laplacian_matrix will return a scipy.sparse array instead of a matrix in Networkx 3.0.\n",
            "/usr/local/lib/python3.9/dist-packages/karateclub/graph_embedding/waveletcharacteristic.py:49: FutureWarning: adjacency_matrix will return a scipy.sparse array instead of a matrix in Networkx 3.0.\n",
            "  A = nx.adjacency_matrix(graph, nodelist=range(graph.number_of_nodes()))\n",
            "<class 'networkx.utils.decorators.argmap'> compilation 30:4: FutureWarning: laplacian_matrix will return a scipy.sparse array instead of a matrix in Networkx 3.0.\n",
            "/usr/local/lib/python3.9/dist-packages/karateclub/graph_embedding/waveletcharacteristic.py:49: FutureWarning: adjacency_matrix will return a scipy.sparse array instead of a matrix in Networkx 3.0.\n",
            "  A = nx.adjacency_matrix(graph, nodelist=range(graph.number_of_nodes()))\n",
            "<class 'networkx.utils.decorators.argmap'> compilation 30:4: FutureWarning: laplacian_matrix will return a scipy.sparse array instead of a matrix in Networkx 3.0.\n",
            "/usr/local/lib/python3.9/dist-packages/karateclub/graph_embedding/waveletcharacteristic.py:49: FutureWarning: adjacency_matrix will return a scipy.sparse array instead of a matrix in Networkx 3.0.\n",
            "  A = nx.adjacency_matrix(graph, nodelist=range(graph.number_of_nodes()))\n",
            "<class 'networkx.utils.decorators.argmap'> compilation 30:4: FutureWarning: laplacian_matrix will return a scipy.sparse array instead of a matrix in Networkx 3.0.\n",
            "/usr/local/lib/python3.9/dist-packages/karateclub/graph_embedding/waveletcharacteristic.py:49: FutureWarning: adjacency_matrix will return a scipy.sparse array instead of a matrix in Networkx 3.0.\n",
            "  A = nx.adjacency_matrix(graph, nodelist=range(graph.number_of_nodes()))\n",
            "<class 'networkx.utils.decorators.argmap'> compilation 30:4: FutureWarning: laplacian_matrix will return a scipy.sparse array instead of a matrix in Networkx 3.0.\n",
            "/usr/local/lib/python3.9/dist-packages/karateclub/graph_embedding/waveletcharacteristic.py:49: FutureWarning: adjacency_matrix will return a scipy.sparse array instead of a matrix in Networkx 3.0.\n",
            "  A = nx.adjacency_matrix(graph, nodelist=range(graph.number_of_nodes()))\n",
            "<class 'networkx.utils.decorators.argmap'> compilation 30:4: FutureWarning: laplacian_matrix will return a scipy.sparse array instead of a matrix in Networkx 3.0.\n",
            "/usr/local/lib/python3.9/dist-packages/karateclub/graph_embedding/waveletcharacteristic.py:49: FutureWarning: adjacency_matrix will return a scipy.sparse array instead of a matrix in Networkx 3.0.\n",
            "  A = nx.adjacency_matrix(graph, nodelist=range(graph.number_of_nodes()))\n",
            "<class 'networkx.utils.decorators.argmap'> compilation 30:4: FutureWarning: laplacian_matrix will return a scipy.sparse array instead of a matrix in Networkx 3.0.\n",
            "/usr/local/lib/python3.9/dist-packages/karateclub/graph_embedding/waveletcharacteristic.py:49: FutureWarning: adjacency_matrix will return a scipy.sparse array instead of a matrix in Networkx 3.0.\n",
            "  A = nx.adjacency_matrix(graph, nodelist=range(graph.number_of_nodes()))\n",
            "<class 'networkx.utils.decorators.argmap'> compilation 30:4: FutureWarning: laplacian_matrix will return a scipy.sparse array instead of a matrix in Networkx 3.0.\n",
            "/usr/local/lib/python3.9/dist-packages/karateclub/graph_embedding/waveletcharacteristic.py:49: FutureWarning: adjacency_matrix will return a scipy.sparse array instead of a matrix in Networkx 3.0.\n",
            "  A = nx.adjacency_matrix(graph, nodelist=range(graph.number_of_nodes()))\n",
            "<class 'networkx.utils.decorators.argmap'> compilation 30:4: FutureWarning: laplacian_matrix will return a scipy.sparse array instead of a matrix in Networkx 3.0.\n",
            "/usr/local/lib/python3.9/dist-packages/karateclub/graph_embedding/waveletcharacteristic.py:49: FutureWarning: adjacency_matrix will return a scipy.sparse array instead of a matrix in Networkx 3.0.\n",
            "  A = nx.adjacency_matrix(graph, nodelist=range(graph.number_of_nodes()))\n",
            "<class 'networkx.utils.decorators.argmap'> compilation 30:4: FutureWarning: laplacian_matrix will return a scipy.sparse array instead of a matrix in Networkx 3.0.\n",
            "/usr/local/lib/python3.9/dist-packages/karateclub/graph_embedding/waveletcharacteristic.py:49: FutureWarning: adjacency_matrix will return a scipy.sparse array instead of a matrix in Networkx 3.0.\n",
            "  A = nx.adjacency_matrix(graph, nodelist=range(graph.number_of_nodes()))\n",
            "<class 'networkx.utils.decorators.argmap'> compilation 30:4: FutureWarning: laplacian_matrix will return a scipy.sparse array instead of a matrix in Networkx 3.0.\n",
            "/usr/local/lib/python3.9/dist-packages/karateclub/graph_embedding/waveletcharacteristic.py:49: FutureWarning: adjacency_matrix will return a scipy.sparse array instead of a matrix in Networkx 3.0.\n",
            "  A = nx.adjacency_matrix(graph, nodelist=range(graph.number_of_nodes()))\n",
            "<class 'networkx.utils.decorators.argmap'> compilation 30:4: FutureWarning: laplacian_matrix will return a scipy.sparse array instead of a matrix in Networkx 3.0.\n",
            "/usr/local/lib/python3.9/dist-packages/karateclub/graph_embedding/waveletcharacteristic.py:49: FutureWarning: adjacency_matrix will return a scipy.sparse array instead of a matrix in Networkx 3.0.\n",
            "  A = nx.adjacency_matrix(graph, nodelist=range(graph.number_of_nodes()))\n",
            "<class 'networkx.utils.decorators.argmap'> compilation 30:4: FutureWarning: laplacian_matrix will return a scipy.sparse array instead of a matrix in Networkx 3.0.\n",
            "/usr/local/lib/python3.9/dist-packages/karateclub/graph_embedding/waveletcharacteristic.py:49: FutureWarning: adjacency_matrix will return a scipy.sparse array instead of a matrix in Networkx 3.0.\n",
            "  A = nx.adjacency_matrix(graph, nodelist=range(graph.number_of_nodes()))\n",
            "<class 'networkx.utils.decorators.argmap'> compilation 30:4: FutureWarning: laplacian_matrix will return a scipy.sparse array instead of a matrix in Networkx 3.0.\n",
            "/usr/local/lib/python3.9/dist-packages/karateclub/graph_embedding/waveletcharacteristic.py:49: FutureWarning: adjacency_matrix will return a scipy.sparse array instead of a matrix in Networkx 3.0.\n",
            "  A = nx.adjacency_matrix(graph, nodelist=range(graph.number_of_nodes()))\n",
            "<class 'networkx.utils.decorators.argmap'> compilation 30:4: FutureWarning: laplacian_matrix will return a scipy.sparse array instead of a matrix in Networkx 3.0.\n",
            "/usr/local/lib/python3.9/dist-packages/karateclub/graph_embedding/waveletcharacteristic.py:49: FutureWarning: adjacency_matrix will return a scipy.sparse array instead of a matrix in Networkx 3.0.\n",
            "  A = nx.adjacency_matrix(graph, nodelist=range(graph.number_of_nodes()))\n",
            "<class 'networkx.utils.decorators.argmap'> compilation 30:4: FutureWarning: laplacian_matrix will return a scipy.sparse array instead of a matrix in Networkx 3.0.\n",
            "/usr/local/lib/python3.9/dist-packages/karateclub/graph_embedding/waveletcharacteristic.py:49: FutureWarning: adjacency_matrix will return a scipy.sparse array instead of a matrix in Networkx 3.0.\n",
            "  A = nx.adjacency_matrix(graph, nodelist=range(graph.number_of_nodes()))\n",
            "<class 'networkx.utils.decorators.argmap'> compilation 30:4: FutureWarning: laplacian_matrix will return a scipy.sparse array instead of a matrix in Networkx 3.0.\n",
            "/usr/local/lib/python3.9/dist-packages/karateclub/graph_embedding/waveletcharacteristic.py:49: FutureWarning: adjacency_matrix will return a scipy.sparse array instead of a matrix in Networkx 3.0.\n",
            "  A = nx.adjacency_matrix(graph, nodelist=range(graph.number_of_nodes()))\n",
            "<class 'networkx.utils.decorators.argmap'> compilation 30:4: FutureWarning: laplacian_matrix will return a scipy.sparse array instead of a matrix in Networkx 3.0.\n",
            "/usr/local/lib/python3.9/dist-packages/karateclub/graph_embedding/waveletcharacteristic.py:49: FutureWarning: adjacency_matrix will return a scipy.sparse array instead of a matrix in Networkx 3.0.\n",
            "  A = nx.adjacency_matrix(graph, nodelist=range(graph.number_of_nodes()))\n",
            "<class 'networkx.utils.decorators.argmap'> compilation 30:4: FutureWarning: laplacian_matrix will return a scipy.sparse array instead of a matrix in Networkx 3.0.\n",
            "/usr/local/lib/python3.9/dist-packages/karateclub/graph_embedding/waveletcharacteristic.py:49: FutureWarning: adjacency_matrix will return a scipy.sparse array instead of a matrix in Networkx 3.0.\n",
            "  A = nx.adjacency_matrix(graph, nodelist=range(graph.number_of_nodes()))\n",
            "<class 'networkx.utils.decorators.argmap'> compilation 30:4: FutureWarning: laplacian_matrix will return a scipy.sparse array instead of a matrix in Networkx 3.0.\n",
            "/usr/local/lib/python3.9/dist-packages/karateclub/graph_embedding/waveletcharacteristic.py:49: FutureWarning: adjacency_matrix will return a scipy.sparse array instead of a matrix in Networkx 3.0.\n",
            "  A = nx.adjacency_matrix(graph, nodelist=range(graph.number_of_nodes()))\n",
            "<class 'networkx.utils.decorators.argmap'> compilation 30:4: FutureWarning: laplacian_matrix will return a scipy.sparse array instead of a matrix in Networkx 3.0.\n",
            "/usr/local/lib/python3.9/dist-packages/karateclub/graph_embedding/waveletcharacteristic.py:49: FutureWarning: adjacency_matrix will return a scipy.sparse array instead of a matrix in Networkx 3.0.\n",
            "  A = nx.adjacency_matrix(graph, nodelist=range(graph.number_of_nodes()))\n",
            "<class 'networkx.utils.decorators.argmap'> compilation 30:4: FutureWarning: laplacian_matrix will return a scipy.sparse array instead of a matrix in Networkx 3.0.\n",
            "/usr/local/lib/python3.9/dist-packages/karateclub/graph_embedding/waveletcharacteristic.py:49: FutureWarning: adjacency_matrix will return a scipy.sparse array instead of a matrix in Networkx 3.0.\n",
            "  A = nx.adjacency_matrix(graph, nodelist=range(graph.number_of_nodes()))\n",
            "<class 'networkx.utils.decorators.argmap'> compilation 30:4: FutureWarning: laplacian_matrix will return a scipy.sparse array instead of a matrix in Networkx 3.0.\n",
            "/usr/local/lib/python3.9/dist-packages/karateclub/graph_embedding/waveletcharacteristic.py:49: FutureWarning: adjacency_matrix will return a scipy.sparse array instead of a matrix in Networkx 3.0.\n",
            "  A = nx.adjacency_matrix(graph, nodelist=range(graph.number_of_nodes()))\n",
            "<class 'networkx.utils.decorators.argmap'> compilation 30:4: FutureWarning: laplacian_matrix will return a scipy.sparse array instead of a matrix in Networkx 3.0.\n",
            "/usr/local/lib/python3.9/dist-packages/karateclub/graph_embedding/waveletcharacteristic.py:49: FutureWarning: adjacency_matrix will return a scipy.sparse array instead of a matrix in Networkx 3.0.\n",
            "  A = nx.adjacency_matrix(graph, nodelist=range(graph.number_of_nodes()))\n",
            "<class 'networkx.utils.decorators.argmap'> compilation 30:4: FutureWarning: laplacian_matrix will return a scipy.sparse array instead of a matrix in Networkx 3.0.\n",
            "/usr/local/lib/python3.9/dist-packages/karateclub/graph_embedding/waveletcharacteristic.py:49: FutureWarning: adjacency_matrix will return a scipy.sparse array instead of a matrix in Networkx 3.0.\n",
            "  A = nx.adjacency_matrix(graph, nodelist=range(graph.number_of_nodes()))\n",
            "<class 'networkx.utils.decorators.argmap'> compilation 30:4: FutureWarning: laplacian_matrix will return a scipy.sparse array instead of a matrix in Networkx 3.0.\n",
            "/usr/local/lib/python3.9/dist-packages/karateclub/graph_embedding/waveletcharacteristic.py:49: FutureWarning: adjacency_matrix will return a scipy.sparse array instead of a matrix in Networkx 3.0.\n",
            "  A = nx.adjacency_matrix(graph, nodelist=range(graph.number_of_nodes()))\n",
            "<class 'networkx.utils.decorators.argmap'> compilation 30:4: FutureWarning: laplacian_matrix will return a scipy.sparse array instead of a matrix in Networkx 3.0.\n",
            "/usr/local/lib/python3.9/dist-packages/karateclub/graph_embedding/waveletcharacteristic.py:49: FutureWarning: adjacency_matrix will return a scipy.sparse array instead of a matrix in Networkx 3.0.\n",
            "  A = nx.adjacency_matrix(graph, nodelist=range(graph.number_of_nodes()))\n",
            "<class 'networkx.utils.decorators.argmap'> compilation 30:4: FutureWarning: laplacian_matrix will return a scipy.sparse array instead of a matrix in Networkx 3.0.\n",
            "/usr/local/lib/python3.9/dist-packages/karateclub/graph_embedding/waveletcharacteristic.py:49: FutureWarning: adjacency_matrix will return a scipy.sparse array instead of a matrix in Networkx 3.0.\n",
            "  A = nx.adjacency_matrix(graph, nodelist=range(graph.number_of_nodes()))\n",
            "<class 'networkx.utils.decorators.argmap'> compilation 30:4: FutureWarning: laplacian_matrix will return a scipy.sparse array instead of a matrix in Networkx 3.0.\n",
            "/usr/local/lib/python3.9/dist-packages/karateclub/graph_embedding/waveletcharacteristic.py:49: FutureWarning: adjacency_matrix will return a scipy.sparse array instead of a matrix in Networkx 3.0.\n",
            "  A = nx.adjacency_matrix(graph, nodelist=range(graph.number_of_nodes()))\n",
            "<class 'networkx.utils.decorators.argmap'> compilation 30:4: FutureWarning: laplacian_matrix will return a scipy.sparse array instead of a matrix in Networkx 3.0.\n",
            "/usr/local/lib/python3.9/dist-packages/karateclub/graph_embedding/waveletcharacteristic.py:49: FutureWarning: adjacency_matrix will return a scipy.sparse array instead of a matrix in Networkx 3.0.\n",
            "  A = nx.adjacency_matrix(graph, nodelist=range(graph.number_of_nodes()))\n",
            "<class 'networkx.utils.decorators.argmap'> compilation 30:4: FutureWarning: laplacian_matrix will return a scipy.sparse array instead of a matrix in Networkx 3.0.\n",
            "/usr/local/lib/python3.9/dist-packages/karateclub/graph_embedding/waveletcharacteristic.py:49: FutureWarning: adjacency_matrix will return a scipy.sparse array instead of a matrix in Networkx 3.0.\n",
            "  A = nx.adjacency_matrix(graph, nodelist=range(graph.number_of_nodes()))\n",
            "<class 'networkx.utils.decorators.argmap'> compilation 30:4: FutureWarning: laplacian_matrix will return a scipy.sparse array instead of a matrix in Networkx 3.0.\n",
            "/usr/local/lib/python3.9/dist-packages/karateclub/graph_embedding/waveletcharacteristic.py:49: FutureWarning: adjacency_matrix will return a scipy.sparse array instead of a matrix in Networkx 3.0.\n",
            "  A = nx.adjacency_matrix(graph, nodelist=range(graph.number_of_nodes()))\n",
            "<class 'networkx.utils.decorators.argmap'> compilation 30:4: FutureWarning: laplacian_matrix will return a scipy.sparse array instead of a matrix in Networkx 3.0.\n",
            "/usr/local/lib/python3.9/dist-packages/karateclub/graph_embedding/waveletcharacteristic.py:49: FutureWarning: adjacency_matrix will return a scipy.sparse array instead of a matrix in Networkx 3.0.\n",
            "  A = nx.adjacency_matrix(graph, nodelist=range(graph.number_of_nodes()))\n",
            "<class 'networkx.utils.decorators.argmap'> compilation 30:4: FutureWarning: laplacian_matrix will return a scipy.sparse array instead of a matrix in Networkx 3.0.\n",
            "/usr/local/lib/python3.9/dist-packages/karateclub/graph_embedding/waveletcharacteristic.py:49: FutureWarning: adjacency_matrix will return a scipy.sparse array instead of a matrix in Networkx 3.0.\n",
            "  A = nx.adjacency_matrix(graph, nodelist=range(graph.number_of_nodes()))\n",
            "<class 'networkx.utils.decorators.argmap'> compilation 30:4: FutureWarning: laplacian_matrix will return a scipy.sparse array instead of a matrix in Networkx 3.0.\n",
            "/usr/local/lib/python3.9/dist-packages/karateclub/graph_embedding/waveletcharacteristic.py:49: FutureWarning: adjacency_matrix will return a scipy.sparse array instead of a matrix in Networkx 3.0.\n",
            "  A = nx.adjacency_matrix(graph, nodelist=range(graph.number_of_nodes()))\n",
            "<class 'networkx.utils.decorators.argmap'> compilation 30:4: FutureWarning: laplacian_matrix will return a scipy.sparse array instead of a matrix in Networkx 3.0.\n",
            "/usr/local/lib/python3.9/dist-packages/karateclub/graph_embedding/waveletcharacteristic.py:49: FutureWarning: adjacency_matrix will return a scipy.sparse array instead of a matrix in Networkx 3.0.\n",
            "  A = nx.adjacency_matrix(graph, nodelist=range(graph.number_of_nodes()))\n",
            "<class 'networkx.utils.decorators.argmap'> compilation 30:4: FutureWarning: laplacian_matrix will return a scipy.sparse array instead of a matrix in Networkx 3.0.\n",
            "/usr/local/lib/python3.9/dist-packages/karateclub/graph_embedding/waveletcharacteristic.py:49: FutureWarning: adjacency_matrix will return a scipy.sparse array instead of a matrix in Networkx 3.0.\n",
            "  A = nx.adjacency_matrix(graph, nodelist=range(graph.number_of_nodes()))\n",
            "<class 'networkx.utils.decorators.argmap'> compilation 30:4: FutureWarning: laplacian_matrix will return a scipy.sparse array instead of a matrix in Networkx 3.0.\n"
          ]
        },
        {
          "output_type": "execute_result",
          "data": {
            "text/plain": [
              "array([[0.99969128, 0.97176231, 0.89976418, ..., 0.72657011, 0.6649708 ,\n",
              "        0.59847214],\n",
              "       [0.99977586, 0.9794821 , 0.92700811, ..., 0.58125609, 0.53197664,\n",
              "        0.47877772],\n",
              "       [0.99984614, 0.98590233, 0.94972316, ..., 0.43594207, 0.39898248,\n",
              "        0.35908329],\n",
              "       ...,\n",
              "       [0.99984614, 0.98590233, 0.94972316, ..., 0.43594207, 0.39898248,\n",
              "        0.35908329],\n",
              "       [0.99989959, 0.99078975, 0.96706513, ..., 0.29062804, 0.26598832,\n",
              "        0.23938886],\n",
              "       [0.9999189 , 0.99255817, 0.97335609, ..., 0.21797103, 0.19949124,\n",
              "        0.17954164]])"
            ]
          },
          "metadata": {},
          "execution_count": 63
        }
      ]
    },
    {
      "cell_type": "code",
      "source": [
        "from scipy.spatial import distance\n",
        "\n",
        "Y = distance.pdist(X, 'euclidean')\n",
        "Y1 = distance.pdist(X1, 'euclidean')\n",
        "Y2 = distance.pdist(X2, 'euclidean')"
      ],
      "metadata": {
        "id": "03FyOTDKvlcd"
      },
      "execution_count": null,
      "outputs": []
    },
    {
      "cell_type": "code",
      "source": [
        "#Y.max()\n",
        "#Y.min()\n",
        "#Y.size"
      ],
      "metadata": {
        "id": "Waie9WZvFWEA"
      },
      "execution_count": null,
      "outputs": []
    },
    {
      "cell_type": "code",
      "source": [
        "import matplotlib.pyplot as plot\n",
        "\n",
        "Z=Y\n",
        "\n",
        "intervalos = range(round(min(Z)), round(max(Z)) + 2) #calculamos los extremos de los intervalos\n",
        "\n",
        "#plot.hist(x=Z, bins=intervalos, color='#F2AB6D', rwidth=0.85)\n",
        "plt.hist(Z, bins=8, color='#F2AB6D', alpha=1, edgecolor = 'black',  linewidth=1)\n",
        "\n",
        "plot.title('Histograma de Distancias entre embeddings')\n",
        "plot.xlabel('Distancias')\n",
        "plot.ylabel('Frecuencia')\n",
        "plot.xticks(intervalos)\n",
        "\n",
        "plot.show() #dibujamos el histograma"
      ],
      "metadata": {
        "colab": {
          "base_uri": "https://localhost:8080/",
          "height": 465
        },
        "id": "Cne2Qe8bG0Hx",
        "outputId": "10e88ed6-4556-4275-b2ad-a76e0ae2f96f"
      },
      "execution_count": null,
      "outputs": [
        {
          "output_type": "display_data",
          "data": {
            "text/plain": [
              "<Figure size 640x480 with 1 Axes>"
            ],
            "image/png": "[encoded data removed]"
          },
          "metadata": {}
        }
      ]
    },
    {
      "cell_type": "code",
      "source": [
        "import matplotlib.pyplot as plot\n",
        "\n",
        "Z=Y2 #*100\n",
        "\n",
        "intervalos = range(round(min(Z)), round(max(Z)) + 2) #calculamos los extremos de los intervalos\n",
        "\n",
        "#plot.hist(x=Z, bins=intervalos, color='#F2AB6D', rwidth=0.85)\n",
        "plt.hist(Z, bins=8, color='#F2AB6D', alpha=1, edgecolor = 'black',  linewidth=1)\n",
        "\n",
        "plot.title('Histograma de Distancias entre embeddings')\n",
        "plot.xlabel('Distancias')\n",
        "plot.ylabel('Frecuencia')\n",
        "plot.xticks(intervalos)\n",
        "\n",
        "plot.show() #dibujamos el histograma"
      ],
      "metadata": {
        "colab": {
          "base_uri": "https://localhost:8080/",
          "height": 465
        },
        "id": "PdYdz-0ANVw-",
        "outputId": "0e85023c-f761-4c4b-eadb-1b0b63c6c22e"
      },
      "execution_count": null,
      "outputs": [
        {
          "output_type": "display_data",
          "data": {
            "text/plain": [
              "<Figure size 640x480 with 1 Axes>"
            ],
            "image/png": "[encoded data removed]"
          },
          "metadata": {}
        }
      ]
    },
    {
      "cell_type": "markdown",
      "source": [
        "# **Spektral**"
      ],
      "metadata": {
        "id": "e9s1Y4L6SrgB"
      }
    },
    {
      "cell_type": "code",
      "source": [
        "! pip install spektral"
      ],
      "metadata": {
        "colab": {
          "base_uri": "https://localhost:8080/"
        },
        "id": "ncqZZomPjCl0",
        "outputId": "d8f80376-62db-40d2-9581-78cfabd3626a"
      },
      "execution_count": null,
      "outputs": [
        {
          "output_type": "stream",
          "name": "stdout",
          "text": [
            "Looking in indexes: https://pypi.org/simple, https://us-python.pkg.dev/colab-wheels/public/simple/\n",
            "Collecting spektral\n",
            "  Downloading spektral-1.2.0-py3-none-any.whl (140 kB)\n",
            "\u001b[2K     \u001b[90m━━━━━━━━━━━━━━━━━━━━━━━━━━━━━━━━━━━━━━\u001b[0m \u001b[32m140.1/140.1 kB\u001b[0m \u001b[31m11.5 MB/s\u001b[0m eta \u001b[36m0:00:00\u001b[0m\n",
            "\u001b[?25hRequirement already satisfied: requests in /usr/local/lib/python3.9/dist-packages (from spektral) (2.27.1)\n",
            "Requirement already satisfied: pandas in /usr/local/lib/python3.9/dist-packages (from spektral) (1.3.5)\n",
            "Requirement already satisfied: scipy in /usr/local/lib/python3.9/dist-packages (from spektral) (1.10.1)\n",
            "Requirement already satisfied: lxml in /usr/local/lib/python3.9/dist-packages (from spektral) (4.9.2)\n",
            "Requirement already satisfied: numpy in /usr/local/lib/python3.9/dist-packages (from spektral) (1.22.4)\n",
            "Requirement already satisfied: tqdm in /usr/local/lib/python3.9/dist-packages (from spektral) (4.65.0)\n",
            "Requirement already satisfied: joblib in /usr/local/lib/python3.9/dist-packages (from spektral) (1.2.0)\n",
            "Requirement already satisfied: scikit-learn in /usr/local/lib/python3.9/dist-packages (from spektral) (1.2.2)\n",
            "Requirement already satisfied: networkx in /usr/local/lib/python3.9/dist-packages (from spektral) (3.1)\n",
            "Requirement already satisfied: tensorflow>=2.2.0 in /usr/local/lib/python3.9/dist-packages (from spektral) (2.12.0)\n",
            "Requirement already satisfied: tensorflow-io-gcs-filesystem>=0.23.1 in /usr/local/lib/python3.9/dist-packages (from tensorflow>=2.2.0->spektral) (0.32.0)\n",
            "Requirement already satisfied: tensorboard<2.13,>=2.12 in /usr/local/lib/python3.9/dist-packages (from tensorflow>=2.2.0->spektral) (2.12.1)\n",
            "Requirement already satisfied: tensorflow-estimator<2.13,>=2.12.0 in /usr/local/lib/python3.9/dist-packages (from tensorflow>=2.2.0->spektral) (2.12.0)\n",
            "Requirement already satisfied: absl-py>=1.0.0 in /usr/local/lib/python3.9/dist-packages (from tensorflow>=2.2.0->spektral) (1.4.0)\n",
            "Requirement already satisfied: setuptools in /usr/local/lib/python3.9/dist-packages (from tensorflow>=2.2.0->spektral) (67.6.1)\n",
            "Requirement already satisfied: jax>=0.3.15 in /usr/local/lib/python3.9/dist-packages (from tensorflow>=2.2.0->spektral) (0.4.8)\n",
            "Requirement already satisfied: termcolor>=1.1.0 in /usr/local/lib/python3.9/dist-packages (from tensorflow>=2.2.0->spektral) (2.2.0)\n",
            "Requirement already satisfied: packaging in /usr/local/lib/python3.9/dist-packages (from tensorflow>=2.2.0->spektral) (23.0)\n",
            "Requirement already satisfied: protobuf!=4.21.0,!=4.21.1,!=4.21.2,!=4.21.3,!=4.21.4,!=4.21.5,<5.0.0dev,>=3.20.3 in /usr/local/lib/python3.9/dist-packages (from tensorflow>=2.2.0->spektral) (3.20.3)\n",
            "Requirement already satisfied: h5py>=2.9.0 in /usr/local/lib/python3.9/dist-packages (from tensorflow>=2.2.0->spektral) (3.8.0)\n",
            "Requirement already satisfied: flatbuffers>=2.0 in /usr/local/lib/python3.9/dist-packages (from tensorflow>=2.2.0->spektral) (23.3.3)\n",
            "Requirement already satisfied: libclang>=13.0.0 in /usr/local/lib/python3.9/dist-packages (from tensorflow>=2.2.0->spektral) (16.0.0)\n",
            "Requirement already satisfied: six>=1.12.0 in /usr/local/lib/python3.9/dist-packages (from tensorflow>=2.2.0->spektral) (1.16.0)\n",
            "Requirement already satisfied: gast<=0.4.0,>=0.2.1 in /usr/local/lib/python3.9/dist-packages (from tensorflow>=2.2.0->spektral) (0.4.0)\n",
            "Requirement already satisfied: grpcio<2.0,>=1.24.3 in /usr/local/lib/python3.9/dist-packages (from tensorflow>=2.2.0->spektral) (1.53.0)\n",
            "Requirement already satisfied: keras<2.13,>=2.12.0 in /usr/local/lib/python3.9/dist-packages (from tensorflow>=2.2.0->spektral) (2.12.0)\n",
            "Requirement already satisfied: google-pasta>=0.1.1 in /usr/local/lib/python3.9/dist-packages (from tensorflow>=2.2.0->spektral) (0.2.0)\n",
            "Requirement already satisfied: typing-extensions>=3.6.6 in /usr/local/lib/python3.9/dist-packages (from tensorflow>=2.2.0->spektral) (4.5.0)\n",
            "Requirement already satisfied: wrapt<1.15,>=1.11.0 in /usr/local/lib/python3.9/dist-packages (from tensorflow>=2.2.0->spektral) (1.14.1)\n",
            "Requirement already satisfied: astunparse>=1.6.0 in /usr/local/lib/python3.9/dist-packages (from tensorflow>=2.2.0->spektral) (1.6.3)\n",
            "Requirement already satisfied: opt-einsum>=2.3.2 in /usr/local/lib/python3.9/dist-packages (from tensorflow>=2.2.0->spektral) (3.3.0)\n",
            "Requirement already satisfied: pytz>=2017.3 in /usr/local/lib/python3.9/dist-packages (from pandas->spektral) (2022.7.1)\n",
            "Requirement already satisfied: python-dateutil>=2.7.3 in /usr/local/lib/python3.9/dist-packages (from pandas->spektral) (2.8.2)\n",
            "Requirement already satisfied: urllib3<1.27,>=1.21.1 in /usr/local/lib/python3.9/dist-packages (from requests->spektral) (1.26.15)\n",
            "Requirement already satisfied: certifi>=2017.4.17 in /usr/local/lib/python3.9/dist-packages (from requests->spektral) (2022.12.7)\n",
            "Requirement already satisfied: charset-normalizer~=2.0.0 in /usr/local/lib/python3.9/dist-packages (from requests->spektral) (2.0.12)\n",
            "Requirement already satisfied: idna<4,>=2.5 in /usr/local/lib/python3.9/dist-packages (from requests->spektral) (3.4)\n",
            "Requirement already satisfied: threadpoolctl>=2.0.0 in /usr/local/lib/python3.9/dist-packages (from scikit-learn->spektral) (3.1.0)\n",
            "Requirement already satisfied: wheel<1.0,>=0.23.0 in /usr/local/lib/python3.9/dist-packages (from astunparse>=1.6.0->tensorflow>=2.2.0->spektral) (0.40.0)\n",
            "Requirement already satisfied: ml-dtypes>=0.0.3 in /usr/local/lib/python3.9/dist-packages (from jax>=0.3.15->tensorflow>=2.2.0->spektral) (0.0.4)\n",
            "Requirement already satisfied: google-auth<3,>=1.6.3 in /usr/local/lib/python3.9/dist-packages (from tensorboard<2.13,>=2.12->tensorflow>=2.2.0->spektral) (2.17.2)\n",
            "Requirement already satisfied: tensorboard-data-server<0.8.0,>=0.7.0 in /usr/local/lib/python3.9/dist-packages (from tensorboard<2.13,>=2.12->tensorflow>=2.2.0->spektral) (0.7.0)\n",
            "Requirement already satisfied: google-auth-oauthlib<1.1,>=0.5 in /usr/local/lib/python3.9/dist-packages (from tensorboard<2.13,>=2.12->tensorflow>=2.2.0->spektral) (1.0.0)\n",
            "Requirement already satisfied: tensorboard-plugin-wit>=1.6.0 in /usr/local/lib/python3.9/dist-packages (from tensorboard<2.13,>=2.12->tensorflow>=2.2.0->spektral) (1.8.1)\n",
            "Requirement already satisfied: markdown>=2.6.8 in /usr/local/lib/python3.9/dist-packages (from tensorboard<2.13,>=2.12->tensorflow>=2.2.0->spektral) (3.4.3)\n",
            "Requirement already satisfied: werkzeug>=1.0.1 in /usr/local/lib/python3.9/dist-packages (from tensorboard<2.13,>=2.12->tensorflow>=2.2.0->spektral) (2.2.3)\n",
            "Requirement already satisfied: rsa<5,>=3.1.4 in /usr/local/lib/python3.9/dist-packages (from google-auth<3,>=1.6.3->tensorboard<2.13,>=2.12->tensorflow>=2.2.0->spektral) (4.9)\n",
            "Requirement already satisfied: pyasn1-modules>=0.2.1 in /usr/local/lib/python3.9/dist-packages (from google-auth<3,>=1.6.3->tensorboard<2.13,>=2.12->tensorflow>=2.2.0->spektral) (0.2.8)\n",
            "Requirement already satisfied: cachetools<6.0,>=2.0.0 in /usr/local/lib/python3.9/dist-packages (from google-auth<3,>=1.6.3->tensorboard<2.13,>=2.12->tensorflow>=2.2.0->spektral) (5.3.0)\n",
            "Requirement already satisfied: requests-oauthlib>=0.7.0 in /usr/local/lib/python3.9/dist-packages (from google-auth-oauthlib<1.1,>=0.5->tensorboard<2.13,>=2.12->tensorflow>=2.2.0->spektral) (1.3.1)\n",
            "Requirement already satisfied: importlib-metadata>=4.4 in /usr/local/lib/python3.9/dist-packages (from markdown>=2.6.8->tensorboard<2.13,>=2.12->tensorflow>=2.2.0->spektral) (6.3.0)\n",
            "Requirement already satisfied: MarkupSafe>=2.1.1 in /usr/local/lib/python3.9/dist-packages (from werkzeug>=1.0.1->tensorboard<2.13,>=2.12->tensorflow>=2.2.0->spektral) (2.1.2)\n",
            "Requirement already satisfied: zipp>=0.5 in /usr/local/lib/python3.9/dist-packages (from importlib-metadata>=4.4->markdown>=2.6.8->tensorboard<2.13,>=2.12->tensorflow>=2.2.0->spektral) (3.15.0)\n",
            "Requirement already satisfied: pyasn1<0.5.0,>=0.4.6 in /usr/local/lib/python3.9/dist-packages (from pyasn1-modules>=0.2.1->google-auth<3,>=1.6.3->tensorboard<2.13,>=2.12->tensorflow>=2.2.0->spektral) (0.4.8)\n",
            "Requirement already satisfied: oauthlib>=3.0.0 in /usr/local/lib/python3.9/dist-packages (from requests-oauthlib>=0.7.0->google-auth-oauthlib<1.1,>=0.5->tensorboard<2.13,>=2.12->tensorflow>=2.2.0->spektral) (3.2.2)\n",
            "Installing collected packages: spektral\n",
            "Successfully installed spektral-1.2.0\n"
          ]
        }
      ]
    },
    {
      "cell_type": "code",
      "source": [
        "Grafos"
      ],
      "metadata": {
        "colab": {
          "base_uri": "https://localhost:8080/"
        },
        "id": "zcXopDCDLRPC",
        "outputId": "264ac27a-cd58-4dec-b376-6198300c61c1"
      },
      "execution_count": null,
      "outputs": [
        {
          "output_type": "execute_result",
          "data": {
            "text/plain": [
              "[<networkx.classes.graph.Graph at 0x7fd03924f1f0>,\n",
              " <networkx.classes.graph.Graph at 0x7fd0400a6af0>,\n",
              " <networkx.classes.graph.Graph at 0x7fd03924f610>,\n",
              " <networkx.classes.graph.Graph at 0x7fd03924f850>,\n",
              " <networkx.classes.graph.Graph at 0x7fd03924f970>,\n",
              " <networkx.classes.graph.Graph at 0x7fd039202c70>,\n",
              " <networkx.classes.graph.Graph at 0x7fd03924faf0>,\n",
              " <networkx.classes.graph.Graph at 0x7fd039202f70>,\n",
              " <networkx.classes.graph.Graph at 0x7fd039202550>,\n",
              " <networkx.classes.graph.Graph at 0x7fd039202d00>,\n",
              " <networkx.classes.graph.Graph at 0x7fd039207fa0>,\n",
              " <networkx.classes.graph.Graph at 0x7fd0392027f0>,\n",
              " <networkx.classes.graph.Graph at 0x7fd0392029a0>,\n",
              " <networkx.classes.graph.Graph at 0x7fd039207760>,\n",
              " <networkx.classes.graph.Graph at 0x7fd0392070d0>,\n",
              " <networkx.classes.graph.Graph at 0x7fd039207b50>,\n",
              " <networkx.classes.graph.Graph at 0x7fd039207220>,\n",
              " <networkx.classes.graph.Graph at 0x7fd0392070a0>,\n",
              " <networkx.classes.graph.Graph at 0x7fd039207100>,\n",
              " <networkx.classes.graph.Graph at 0x7fd039207340>,\n",
              " <networkx.classes.graph.Graph at 0x7fd0393b5910>,\n",
              " <networkx.classes.graph.Graph at 0x7fd0392266a0>,\n",
              " <networkx.classes.graph.Graph at 0x7fd0394aa850>,\n",
              " <networkx.classes.graph.Graph at 0x7fd0393b5850>,\n",
              " <networkx.classes.graph.Graph at 0x7fd039226520>,\n",
              " <networkx.classes.graph.Graph at 0x7fd03927be50>,\n",
              " <networkx.classes.graph.Graph at 0x7fd0392265b0>,\n",
              " <networkx.classes.graph.Graph at 0x7fd03927b610>,\n",
              " <networkx.classes.graph.Graph at 0x7fd03927b580>,\n",
              " <networkx.classes.graph.Graph at 0x7fd03927bd60>,\n",
              " <networkx.classes.graph.Graph at 0x7fd0400a10d0>,\n",
              " <networkx.classes.graph.Graph at 0x7fd03927b4f0>,\n",
              " <networkx.classes.graph.Graph at 0x7fd03927b0a0>,\n",
              " <networkx.classes.graph.Graph at 0x7fd0400b3ee0>,\n",
              " <networkx.classes.graph.Graph at 0x7fd0400b3ca0>,\n",
              " <networkx.classes.graph.Graph at 0x7fd0400b3f40>,\n",
              " <networkx.classes.graph.Graph at 0x7fd0400a1a60>,\n",
              " <networkx.classes.graph.Graph at 0x7fd0400b30a0>,\n",
              " <networkx.classes.graph.Graph at 0x7fd0400b32e0>,\n",
              " <networkx.classes.graph.Graph at 0x7fd0400c4100>]"
            ]
          },
          "metadata": {},
          "execution_count": 88
        }
      ]
    },
    {
      "cell_type": "code",
      "source": [
        "adj = Grafos[1].adj"
      ],
      "metadata": {
        "id": "KVfkVsUQLQ_6"
      },
      "execution_count": null,
      "outputs": []
    },
    {
      "cell_type": "code",
      "source": [
        "G1 =Grafos[1]\n",
        "#print(nx.adjacency_matrix(G1))\n",
        "array_adjacency = nx.adjacency_matrix(G1).toarray()\n",
        "array_adjacency\n",
        "#G1.edges.data()"
      ],
      "metadata": {
        "colab": {
          "base_uri": "https://localhost:8080/"
        },
        "id": "WNNqCey-Nz8g",
        "outputId": "a36d3482-c49b-47fe-f87f-cdac86203053"
      },
      "execution_count": null,
      "outputs": [
        {
          "output_type": "stream",
          "name": "stderr",
          "text": [
            "<ipython-input-90-6ca4db8b2a12>:3: FutureWarning: adjacency_matrix will return a scipy.sparse array instead of a matrix in Networkx 3.0.\n",
            "  array_adjacency = nx.adjacency_matrix(G1).toarray()\n"
          ]
        },
        {
          "output_type": "execute_result",
          "data": {
            "text/plain": [
              "array([[ 0,  8,  6,  0,  5,  7,  8,  9,  0,  9],\n",
              "       [ 8,  0,  6,  0,  9,  9,  9, 12,  0,  9],\n",
              "       [ 6,  6,  0,  0,  6,  6,  5,  9,  0,  6],\n",
              "       [ 0,  0,  0,  0,  0,  0,  0,  0,  0,  0],\n",
              "       [ 5,  9,  6,  0,  0,  5,  5,  6,  0,  6],\n",
              "       [ 7,  9,  6,  0,  5,  0,  2,  5,  0,  5],\n",
              "       [ 8,  9,  5,  0,  5,  2,  0,  6,  0,  3],\n",
              "       [ 9, 12,  9,  0,  6,  5,  6,  0,  0,  7],\n",
              "       [ 0,  0,  0,  0,  0,  0,  0,  0,  0,  0],\n",
              "       [ 9,  9,  6,  0,  6,  5,  3,  7,  0,  0]])"
            ]
          },
          "metadata": {},
          "execution_count": 90
        }
      ]
    },
    {
      "cell_type": "code",
      "source": [
        "#G1.nodes.data()\n",
        "node_atributes = np.array(list(nx.get_node_attributes(G1, \"demanda_estimada\").items()))\n",
        "node_atributes = np.delete(node_atributes, 0, 1)\n",
        "node_atributes"
      ],
      "metadata": {
        "colab": {
          "base_uri": "https://localhost:8080/"
        },
        "id": "z21kEQhKe6Un",
        "outputId": "f0480f3c-a41b-4b4c-9dd7-be4314f41990"
      },
      "execution_count": null,
      "outputs": [
        {
          "output_type": "execute_result",
          "data": {
            "text/plain": [
              "array([[ 0],\n",
              "       [34],\n",
              "       [21],\n",
              "       [28],\n",
              "       [27],\n",
              "       [36],\n",
              "       [35],\n",
              "       [39],\n",
              "       [23],\n",
              "       [30]])"
            ]
          },
          "metadata": {},
          "execution_count": 91
        }
      ]
    },
    {
      "cell_type": "code",
      "source": [
        "\"\"\"spektral.data.graph.Graph(x=None, a=None, e=None, y=None)\n",
        "Arguments\n",
        "    x: np.array, the node features (shape (n_nodes, n_node_features));\n",
        "    a: np.array or scipy.sparse matrix, the adjacency matrix (shape (n_nodes, n_nodes));\n",
        "    e: np.array, the edge features (shape (n_nodes, n_nodes, n_edge_features) or (n_edges, n_edge_features));\n",
        "    y: np.array, the node or graph labels (shape (n_nodes, n_labels) or (n_labels, ));\n",
        "\n",
        "\"\"\"\n",
        "import spektral\n",
        "\n",
        "SG = spektral.data.graph.Graph(x= node_atributes, a= array_adjacency)\n",
        "SG.a"
      ],
      "metadata": {
        "colab": {
          "base_uri": "https://localhost:8080/"
        },
        "id": "15IB161Cn7d3",
        "outputId": "c20c6bd7-a5d4-441b-dfb8-efb8d9c3964f"
      },
      "execution_count": null,
      "outputs": [
        {
          "output_type": "execute_result",
          "data": {
            "text/plain": [
              "array([[ 0,  8,  6,  0,  5,  7,  8,  9,  0,  9],\n",
              "       [ 8,  0,  6,  0,  9,  9,  9, 12,  0,  9],\n",
              "       [ 6,  6,  0,  0,  6,  6,  5,  9,  0,  6],\n",
              "       [ 0,  0,  0,  0,  0,  0,  0,  0,  0,  0],\n",
              "       [ 5,  9,  6,  0,  0,  5,  5,  6,  0,  6],\n",
              "       [ 7,  9,  6,  0,  5,  0,  2,  5,  0,  5],\n",
              "       [ 8,  9,  5,  0,  5,  2,  0,  6,  0,  3],\n",
              "       [ 9, 12,  9,  0,  6,  5,  6,  0,  0,  7],\n",
              "       [ 0,  0,  0,  0,  0,  0,  0,  0,  0,  0],\n",
              "       [ 9,  9,  6,  0,  6,  5,  3,  7,  0,  0]])"
            ]
          },
          "metadata": {},
          "execution_count": 92
        }
      ]
    },
    {
      "cell_type": "code",
      "source": [
        "Grafos\n",
        "adjs=[]\n",
        "nods=[]\n",
        "\n",
        "for g in Grafos:\n",
        "  adjs.append((nx.adjacency_matrix(g).toarray()).astype(float))\n",
        "  nods.append((np.delete(np.array(list(nx.get_node_attributes(g, \"demanda_estimada\").items())), 0, 1)).astype(float))\n"
      ],
      "metadata": {
        "id": "muNUiF6Vn7Vz",
        "colab": {
          "base_uri": "https://localhost:8080/"
        },
        "outputId": "dbbdae06-ab19-4ae6-a6ae-0f2ae53d982e"
      },
      "execution_count": null,
      "outputs": [
        {
          "output_type": "stream",
          "name": "stderr",
          "text": [
            "<ipython-input-93-1555d82399ed>:6: FutureWarning: adjacency_matrix will return a scipy.sparse array instead of a matrix in Networkx 3.0.\n",
            "  adjs.append((nx.adjacency_matrix(g).toarray()).astype(float))\n"
          ]
        }
      ]
    },
    {
      "cell_type": "code",
      "source": [
        "len(nods)\n",
        "len(Grafos)\n",
        "len(adjs)"
      ],
      "metadata": {
        "id": "MNga2NLAn7Jq",
        "colab": {
          "base_uri": "https://localhost:8080/"
        },
        "outputId": "497804ed-1e92-4298-d0ee-0cfdbe50c13b"
      },
      "execution_count": null,
      "outputs": [
        {
          "output_type": "execute_result",
          "data": {
            "text/plain": [
              "40"
            ]
          },
          "metadata": {},
          "execution_count": 94
        }
      ]
    },
    {
      "cell_type": "code",
      "source": [
        "nods[0]"
      ],
      "metadata": {
        "colab": {
          "base_uri": "https://localhost:8080/"
        },
        "id": "M6Ocw8cbqzEh",
        "outputId": "5191dcfa-a6e9-404b-e9f8-636c2be282cb"
      },
      "execution_count": null,
      "outputs": [
        {
          "output_type": "execute_result",
          "data": {
            "text/plain": [
              "array([[ 0.],\n",
              "       [34.],\n",
              "       [21.],\n",
              "       [28.],\n",
              "       [27.],\n",
              "       [36.],\n",
              "       [35.],\n",
              "       [39.],\n",
              "       [23.],\n",
              "       [30.]])"
            ]
          },
          "metadata": {},
          "execution_count": 95
        }
      ]
    },
    {
      "cell_type": "code",
      "source": [
        "\"\"\" spektral.data.utils.to_batch(x_list=None, a_list=None, e_list=None, mask=False)\n",
        "Arguments\n",
        "  x_list: a list of np.arrays of shape (n_nodes, n_node_features) -- note that n_nodes can change between graphs;\n",
        "  a_list: a list of np.arrays or scipy.sparse matrices of shape (n_nodes, n_nodes);\n",
        "  e_list: a list of np.arrays of shape (n_nodes, n_nodes, n_edge_features) or (n_edges, n_edge_features);\n",
        "  mask: bool, if True, node attributes will be extended with a binary mask that indicates valid nodes \n",
        "        (the last feature of each node will be 1 if the node is valid and 0 otherwise). Use this flag in conjunction \n",
        "        with layers.base.GraphMasking to start the propagation of masks in a model.\n",
        "\"\"\"\n",
        "x_list, a_list = spektral.data.utils.to_batch(x_list=nods, a_list=adjs, e_list=None, mask=False)\n"
      ],
      "metadata": {
        "id": "odnICF3IaVzW"
      },
      "execution_count": null,
      "outputs": []
    },
    {
      "cell_type": "code",
      "source": [
        "x_list\n",
        "#len(a_list)"
      ],
      "metadata": {
        "id": "yBLl8QU1aVkU",
        "colab": {
          "base_uri": "https://localhost:8080/"
        },
        "outputId": "5195eb5b-2995-4d92-8561-74eac9f0efa8"
      },
      "execution_count": null,
      "outputs": [
        {
          "output_type": "execute_result",
          "data": {
            "text/plain": [
              "array([[[ 0.],\n",
              "        [34.],\n",
              "        [21.],\n",
              "        [28.],\n",
              "        [27.],\n",
              "        [36.],\n",
              "        [35.],\n",
              "        [39.],\n",
              "        [23.],\n",
              "        [30.]],\n",
              "\n",
              "       [[ 0.],\n",
              "        [34.],\n",
              "        [21.],\n",
              "        [28.],\n",
              "        [27.],\n",
              "        [36.],\n",
              "        [35.],\n",
              "        [39.],\n",
              "        [23.],\n",
              "        [30.]],\n",
              "\n",
              "       [[ 0.],\n",
              "        [34.],\n",
              "        [21.],\n",
              "        [28.],\n",
              "        [27.],\n",
              "        [36.],\n",
              "        [35.],\n",
              "        [39.],\n",
              "        [23.],\n",
              "        [30.]],\n",
              "\n",
              "       [[ 0.],\n",
              "        [34.],\n",
              "        [21.],\n",
              "        [28.],\n",
              "        [27.],\n",
              "        [36.],\n",
              "        [35.],\n",
              "        [39.],\n",
              "        [23.],\n",
              "        [30.]],\n",
              "\n",
              "       [[ 0.],\n",
              "        [34.],\n",
              "        [21.],\n",
              "        [28.],\n",
              "        [27.],\n",
              "        [36.],\n",
              "        [35.],\n",
              "        [39.],\n",
              "        [23.],\n",
              "        [30.]],\n",
              "\n",
              "       [[ 0.],\n",
              "        [32.],\n",
              "        [40.],\n",
              "        [48.],\n",
              "        [32.],\n",
              "        [40.],\n",
              "        [52.],\n",
              "        [49.],\n",
              "        [41.],\n",
              "        [51.]],\n",
              "\n",
              "       [[ 0.],\n",
              "        [32.],\n",
              "        [40.],\n",
              "        [48.],\n",
              "        [32.],\n",
              "        [40.],\n",
              "        [52.],\n",
              "        [49.],\n",
              "        [41.],\n",
              "        [51.]],\n",
              "\n",
              "       [[ 0.],\n",
              "        [32.],\n",
              "        [40.],\n",
              "        [48.],\n",
              "        [32.],\n",
              "        [40.],\n",
              "        [52.],\n",
              "        [49.],\n",
              "        [41.],\n",
              "        [51.]],\n",
              "\n",
              "       [[ 0.],\n",
              "        [32.],\n",
              "        [40.],\n",
              "        [48.],\n",
              "        [32.],\n",
              "        [40.],\n",
              "        [52.],\n",
              "        [49.],\n",
              "        [41.],\n",
              "        [51.]],\n",
              "\n",
              "       [[ 0.],\n",
              "        [32.],\n",
              "        [40.],\n",
              "        [48.],\n",
              "        [32.],\n",
              "        [40.],\n",
              "        [52.],\n",
              "        [49.],\n",
              "        [41.],\n",
              "        [51.]],\n",
              "\n",
              "       [[ 0.],\n",
              "        [37.],\n",
              "        [19.],\n",
              "        [37.],\n",
              "        [35.],\n",
              "        [29.],\n",
              "        [25.],\n",
              "        [41.],\n",
              "        [29.],\n",
              "        [23.]],\n",
              "\n",
              "       [[ 0.],\n",
              "        [37.],\n",
              "        [19.],\n",
              "        [37.],\n",
              "        [35.],\n",
              "        [29.],\n",
              "        [25.],\n",
              "        [41.],\n",
              "        [29.],\n",
              "        [23.]],\n",
              "\n",
              "       [[ 0.],\n",
              "        [37.],\n",
              "        [19.],\n",
              "        [37.],\n",
              "        [35.],\n",
              "        [29.],\n",
              "        [25.],\n",
              "        [41.],\n",
              "        [29.],\n",
              "        [23.]],\n",
              "\n",
              "       [[ 0.],\n",
              "        [37.],\n",
              "        [19.],\n",
              "        [37.],\n",
              "        [35.],\n",
              "        [29.],\n",
              "        [25.],\n",
              "        [41.],\n",
              "        [29.],\n",
              "        [23.]],\n",
              "\n",
              "       [[ 0.],\n",
              "        [37.],\n",
              "        [19.],\n",
              "        [37.],\n",
              "        [35.],\n",
              "        [29.],\n",
              "        [25.],\n",
              "        [41.],\n",
              "        [29.],\n",
              "        [23.]],\n",
              "\n",
              "       [[ 0.],\n",
              "        [36.],\n",
              "        [59.],\n",
              "        [51.],\n",
              "        [58.],\n",
              "        [55.],\n",
              "        [49.],\n",
              "        [67.],\n",
              "        [45.],\n",
              "        [50.]],\n",
              "\n",
              "       [[ 0.],\n",
              "        [36.],\n",
              "        [59.],\n",
              "        [51.],\n",
              "        [58.],\n",
              "        [55.],\n",
              "        [49.],\n",
              "        [67.],\n",
              "        [45.],\n",
              "        [50.]],\n",
              "\n",
              "       [[ 0.],\n",
              "        [36.],\n",
              "        [59.],\n",
              "        [51.],\n",
              "        [58.],\n",
              "        [55.],\n",
              "        [49.],\n",
              "        [67.],\n",
              "        [45.],\n",
              "        [50.]],\n",
              "\n",
              "       [[ 0.],\n",
              "        [36.],\n",
              "        [59.],\n",
              "        [51.],\n",
              "        [58.],\n",
              "        [55.],\n",
              "        [49.],\n",
              "        [67.],\n",
              "        [45.],\n",
              "        [50.]],\n",
              "\n",
              "       [[ 0.],\n",
              "        [32.],\n",
              "        [40.],\n",
              "        [48.],\n",
              "        [32.],\n",
              "        [40.],\n",
              "        [52.],\n",
              "        [49.],\n",
              "        [41.],\n",
              "        [51.]],\n",
              "\n",
              "       [[ 0.],\n",
              "        [38.],\n",
              "        [34.],\n",
              "        [39.],\n",
              "        [33.],\n",
              "        [36.],\n",
              "        [22.],\n",
              "        [27.],\n",
              "        [28.],\n",
              "        [23.]],\n",
              "\n",
              "       [[ 0.],\n",
              "        [38.],\n",
              "        [34.],\n",
              "        [39.],\n",
              "        [33.],\n",
              "        [36.],\n",
              "        [22.],\n",
              "        [27.],\n",
              "        [28.],\n",
              "        [23.]],\n",
              "\n",
              "       [[ 0.],\n",
              "        [38.],\n",
              "        [34.],\n",
              "        [39.],\n",
              "        [33.],\n",
              "        [36.],\n",
              "        [22.],\n",
              "        [27.],\n",
              "        [28.],\n",
              "        [23.]],\n",
              "\n",
              "       [[ 0.],\n",
              "        [38.],\n",
              "        [34.],\n",
              "        [39.],\n",
              "        [33.],\n",
              "        [36.],\n",
              "        [22.],\n",
              "        [27.],\n",
              "        [28.],\n",
              "        [23.]],\n",
              "\n",
              "       [[ 0.],\n",
              "        [38.],\n",
              "        [34.],\n",
              "        [39.],\n",
              "        [33.],\n",
              "        [36.],\n",
              "        [22.],\n",
              "        [27.],\n",
              "        [28.],\n",
              "        [23.]],\n",
              "\n",
              "       [[ 0.],\n",
              "        [41.],\n",
              "        [36.],\n",
              "        [42.],\n",
              "        [52.],\n",
              "        [45.],\n",
              "        [45.],\n",
              "        [40.],\n",
              "        [42.],\n",
              "        [64.]],\n",
              "\n",
              "       [[ 0.],\n",
              "        [41.],\n",
              "        [36.],\n",
              "        [42.],\n",
              "        [52.],\n",
              "        [45.],\n",
              "        [45.],\n",
              "        [40.],\n",
              "        [42.],\n",
              "        [64.]],\n",
              "\n",
              "       [[ 0.],\n",
              "        [41.],\n",
              "        [36.],\n",
              "        [42.],\n",
              "        [52.],\n",
              "        [45.],\n",
              "        [45.],\n",
              "        [40.],\n",
              "        [42.],\n",
              "        [64.]],\n",
              "\n",
              "       [[ 0.],\n",
              "        [41.],\n",
              "        [36.],\n",
              "        [42.],\n",
              "        [52.],\n",
              "        [45.],\n",
              "        [45.],\n",
              "        [40.],\n",
              "        [42.],\n",
              "        [64.]],\n",
              "\n",
              "       [[ 0.],\n",
              "        [41.],\n",
              "        [36.],\n",
              "        [42.],\n",
              "        [52.],\n",
              "        [45.],\n",
              "        [45.],\n",
              "        [40.],\n",
              "        [42.],\n",
              "        [64.]],\n",
              "\n",
              "       [[ 0.],\n",
              "        [34.],\n",
              "        [34.],\n",
              "        [25.],\n",
              "        [36.],\n",
              "        [25.],\n",
              "        [30.],\n",
              "        [43.],\n",
              "        [34.],\n",
              "        [33.]],\n",
              "\n",
              "       [[ 0.],\n",
              "        [34.],\n",
              "        [34.],\n",
              "        [25.],\n",
              "        [36.],\n",
              "        [25.],\n",
              "        [30.],\n",
              "        [43.],\n",
              "        [34.],\n",
              "        [33.]],\n",
              "\n",
              "       [[ 0.],\n",
              "        [34.],\n",
              "        [34.],\n",
              "        [25.],\n",
              "        [36.],\n",
              "        [25.],\n",
              "        [30.],\n",
              "        [43.],\n",
              "        [34.],\n",
              "        [33.]],\n",
              "\n",
              "       [[ 0.],\n",
              "        [34.],\n",
              "        [34.],\n",
              "        [25.],\n",
              "        [36.],\n",
              "        [25.],\n",
              "        [30.],\n",
              "        [43.],\n",
              "        [34.],\n",
              "        [33.]],\n",
              "\n",
              "       [[ 0.],\n",
              "        [34.],\n",
              "        [34.],\n",
              "        [25.],\n",
              "        [36.],\n",
              "        [25.],\n",
              "        [30.],\n",
              "        [43.],\n",
              "        [34.],\n",
              "        [33.]],\n",
              "\n",
              "       [[ 0.],\n",
              "        [53.],\n",
              "        [59.],\n",
              "        [56.],\n",
              "        [41.],\n",
              "        [32.],\n",
              "        [43.],\n",
              "        [42.],\n",
              "        [40.],\n",
              "        [64.]],\n",
              "\n",
              "       [[ 0.],\n",
              "        [53.],\n",
              "        [59.],\n",
              "        [56.],\n",
              "        [41.],\n",
              "        [32.],\n",
              "        [43.],\n",
              "        [42.],\n",
              "        [40.],\n",
              "        [64.]],\n",
              "\n",
              "       [[ 0.],\n",
              "        [53.],\n",
              "        [59.],\n",
              "        [56.],\n",
              "        [41.],\n",
              "        [32.],\n",
              "        [43.],\n",
              "        [42.],\n",
              "        [40.],\n",
              "        [64.]],\n",
              "\n",
              "       [[ 0.],\n",
              "        [53.],\n",
              "        [59.],\n",
              "        [56.],\n",
              "        [41.],\n",
              "        [32.],\n",
              "        [43.],\n",
              "        [42.],\n",
              "        [40.],\n",
              "        [64.]],\n",
              "\n",
              "       [[ 0.],\n",
              "        [41.],\n",
              "        [36.],\n",
              "        [42.],\n",
              "        [52.],\n",
              "        [45.],\n",
              "        [45.],\n",
              "        [40.],\n",
              "        [42.],\n",
              "        [64.]]])"
            ]
          },
          "metadata": {},
          "execution_count": 97
        }
      ]
    },
    {
      "cell_type": "code",
      "source": [
        "!python3 -c 'import tensorflow as tf; print(tf.__version__)'"
      ],
      "metadata": {
        "colab": {
          "base_uri": "https://localhost:8080/"
        },
        "id": "Sng-oEdwRCWS",
        "outputId": "25ec078c-8ab5-4a28-b1d0-4fe74e4dbeb1"
      },
      "execution_count": null,
      "outputs": [
        {
          "output_type": "stream",
          "name": "stdout",
          "text": [
            "2023-04-14 14:50:28.545779: W tensorflow/compiler/tf2tensorrt/utils/py_utils.cc:38] TF-TRT Warning: Could not find TensorRT\n",
            "2.12.0\n"
          ]
        }
      ]
    },
    {
      "cell_type": "code",
      "source": [
        "import numpy as np\n",
        "import scipy.sparse as sp\n",
        "import tensorflow as tf\n",
        "from tensorflow.keras.layers import Dense\n",
        "from tensorflow.keras.losses import CategoricalCrossentropy\n",
        "from tensorflow.keras.metrics import categorical_accuracy\n",
        "from tensorflow.keras.models import Model\n",
        "from tensorflow.keras.optimizers import Adam\n",
        "\n",
        "from spektral.data import Dataset, DisjointLoader, Graph, BatchLoader\n",
        "from spektral.layers import GCSConv, GlobalAvgPool\n",
        "from spektral.transforms.normalize_adj import NormalizeAdj\n",
        "\n",
        "from spektral.layers import ECCConv, GlobalSumPool, GraphMasking\n",
        "\n",
        "################################################################################\n",
        "# Load data\n",
        "################################################################################\n",
        "class MyDatasetInfer(Dataset):\n",
        "    \"\"\"\n",
        "    A dataset of VRP graphs.\n",
        "\n",
        "    \"\"\"\n",
        "\n",
        "    def __init__(self, x_list, a_list , **kwargs):\n",
        "        self.x_list, self.a_list = spektral.data.utils.to_batch(x_list=nods, a_list=adjs, e_list=None, mask=False)\n",
        "\n",
        "        super().__init__(**kwargs)\n",
        "\n",
        "    def read(self):  \n",
        "        # We must return a list of Graph objects\n",
        "        return [Graph(x=self.x_list[i], a=self.a_list[i]) for i in range(len(self.x_list))]\n",
        "\n",
        "\n",
        "data_infer = MyDatasetInfer(nods,adjs)\n",
        "\n",
        "################################################################################################################################################################\n",
        "################################################################################################################################################################\n",
        "\n",
        "# Data loader\n",
        "loader_infer = BatchLoader(data_infer, batch_size=1, mask=True)#, epochs=epochs)\n",
        "\n",
        "################################################################################################################################################################\n",
        "################################################################################################################################################################"
      ],
      "metadata": {
        "id": "2hg1D6Amd0DM"
      },
      "execution_count": null,
      "outputs": []
    },
    {
      "cell_type": "code",
      "source": [
        "import numpy as np\n",
        "import scipy.sparse as sp\n",
        "import tensorflow as tf\n",
        "from tensorflow.keras.layers import Dense\n",
        "from tensorflow.keras.losses import CategoricalCrossentropy\n",
        "from tensorflow.keras.metrics import categorical_accuracy\n",
        "from tensorflow.keras.models import Model\n",
        "from tensorflow.keras.optimizers import Adam\n",
        "\n",
        "from spektral.data import Dataset, DisjointLoader, Graph, BatchLoader\n",
        "from spektral.layers import GCSConv, GlobalAvgPool\n",
        "from spektral.transforms.normalize_adj import NormalizeAdj\n",
        "\n",
        "from spektral.layers import ECCConv, GlobalSumPool, GraphMasking\n",
        "\n",
        "################################################################################\n",
        "# Config\n",
        "################################################################################\n",
        "learning_rate = 1e-2  # Learning rate\n",
        "epochs = 400  # Number of training epochs\n",
        "es_patience = 10  # Patience for early stopping\n",
        "batch_size = 32  # Batch size\n",
        "\n",
        "x_list = []\n",
        "a_list = []\n",
        "\n",
        "n_out = 128\n",
        "\n",
        "################################################################################\n",
        "# Load data\n",
        "################################################################################\n",
        "class MyDataset(Dataset):\n",
        "    \"\"\"\n",
        "    A dataset of VRP graphs.\n",
        "\n",
        "    \"\"\"\n",
        "\n",
        "    def __init__(self, x_list, a_list , **kwargs):\n",
        "        self.x_list, self.a_list = spektral.data.utils.to_batch(x_list=nods, a_list=adjs, e_list=None, mask=False)\n",
        "\n",
        "        super().__init__(**kwargs)\n",
        "\n",
        "    def read(self):  \n",
        "        # We must return a list of Graph objects\n",
        "        return [Graph(x=self.x_list[i], a=self.a_list[i], y=1) for i in range(len(self.x_list))]\n",
        "\n",
        "\n",
        "data = MyDataset(nods,adjs)\n",
        "\n",
        "################################################################################################################################################################\n",
        "\n",
        "# Train/valid/test split\n",
        "idxs = np.random.permutation(len(data))\n",
        "split_va, split_te = int(0.7 * len(data)), int(0.9 * len(data))\n",
        "idx_tr, idx_va, idx_te = np.split(idxs, [split_va, split_te])\n",
        "data_tr = data[idx_tr]\n",
        "data_va = data[idx_va]\n",
        "data_te = data[idx_te]\n",
        "\n",
        "\n",
        "# Data loaders\n",
        "loader_tr = BatchLoader(data_tr, batch_size=batch_size, epochs=epochs)\n",
        "loader_va = BatchLoader(data_va, batch_size=batch_size)\n",
        "loader_te = BatchLoader(data_te, batch_size=batch_size)\n",
        "\n"
      ],
      "metadata": {
        "id": "p59nbsDA5na0"
      },
      "execution_count": null,
      "outputs": []
    },
    {
      "cell_type": "code",
      "source": [
        "################################################################################\n",
        "# PRUEBAS MINCUT SOLO\n",
        "################################################################################\n",
        "\n",
        "import numpy as np\n",
        "\n",
        "from spektral.data import BatchLoader\n",
        "from spektral.layers import GCSConv, GlobalSumPool, GraphMasking, MinCutPool, GlobalAttentionPool, DiffPool, LaPool\n",
        "\n",
        "################################################################################\n",
        "# Config\n",
        "################################################################################\n",
        "learning_rate = 1e-3  # Learning rate\n",
        "epochs = 10  # Number of training epochs\n",
        "batch_size = 1 #32  # Batch size\n",
        "\n",
        "################################################################################\n",
        "# Load data\n",
        "################################################################################\n",
        "dataset = MyDataset(nods,adjs)\n",
        "\n",
        "\n",
        "# Parameters\n",
        "N = max(g.n_nodes for g in dataset)\n",
        "F = dataset.n_node_features  # Dimension of node features\n",
        "S = dataset.n_edge_features  # Dimension of edge features\n",
        "n_out = 10 #dataset.n_labels  # Dimension of the target # 128 #\n",
        "\n",
        "# Train/test split\n",
        "idxs = np.random.permutation(len(dataset))\n",
        "split_va, split_te = int(0.8 * len(dataset)), int(0.9 * len(dataset))\n",
        "idx_tr, idx_va, idx_te = np.split(idxs, [split_va, split_te])\n",
        "dataset_tr = dataset[idx_tr]\n",
        "dataset_va = dataset[idx_va]\n",
        "dataset_te = dataset[idx_te]\n",
        "\n",
        "loader_tr = BatchLoader(dataset_tr, batch_size=batch_size, mask=True)\n",
        "loader_va = BatchLoader(dataset_va, batch_size=batch_size, mask=True)\n",
        "loader_te = BatchLoader(dataset_te, batch_size=batch_size, mask=True)\n",
        "\n",
        "\n",
        "################################################################################\n",
        "# Build model\n",
        "################################################################################\n",
        "\n",
        "mask = GraphMasking()\n",
        "conv1 = GCSConv(1, activation=\"relu\")\n",
        "pool = DiffPool(4) #N//2) # MinCutPool(N // 2) #\n",
        "diff_pool = DiffPool(4) \n",
        "mincut_pool = MinCutPool(N // 2)\n",
        "la_pool = LaPool(shortest_path_reg=False)\n",
        "\n",
        "\"\"\"\n",
        "x, a = inputs\n",
        "x = mask(x)\n",
        "x = conv1([x, a])\n",
        "x_pool, a_pool = pool([x, a])\n",
        "\n",
        "\"\"\""
      ],
      "metadata": {
        "colab": {
          "base_uri": "https://localhost:8080/",
          "height": 35
        },
        "id": "F_GQKJY0m31w",
        "outputId": "9cad937a-da46-4c25-8e55-67b586b326c5"
      },
      "execution_count": null,
      "outputs": [
        {
          "output_type": "execute_result",
          "data": {
            "text/plain": [
              "'\\nx, a = inputs\\nx = mask(x)\\nx = conv1([x, a])\\nx_pool, a_pool = pool([x, a])\\n\\n'"
            ],
            "application/vnd.google.colaboratory.intrinsic+json": {
              "type": "string"
            }
          },
          "metadata": {},
          "execution_count": 101
        }
      ]
    },
    {
      "cell_type": "code",
      "source": [
        "loader=loader_tr.load()\n",
        "\n",
        "inputs,label = loader.__next__()\n",
        "inputs,label = loader.__next__()\n",
        "#inputs,label = loader.__next__()\n",
        "\n",
        "######\n",
        "x, a = inputs\n",
        "x = mask(x)\n",
        "#print(x)\n",
        "#x = conv1([x, a])\n",
        "#print(x)\n",
        "x_pool, a_pool = pool([x, a])\n",
        "\n",
        "x_pool = conv1([x_pool, a_pool])\n",
        "\n",
        "A = a_pool[0]\n",
        "A = A.numpy()\n",
        "np.fill_diagonal(A, 0)\n",
        "X = x_pool[0]\n",
        "\n",
        "\n",
        "G_pool_1 = nx.from_numpy_matrix(A)\n",
        "\n",
        "\n",
        "for i in range(len(X)):\n",
        "  G_pool_1.nodes[i]['demanda_estimada'] = X[i]\n",
        "\n",
        "\n",
        "nx.draw(G_pool_1, with_labels=True, font_weight='bold')\n",
        "\n",
        "\n",
        "\n",
        "distancias = nx.get_edge_attributes(G_pool_1,'weight')\n",
        "demandas = nx.get_node_attributes(G_pool_1, 'demanda_estimada')\n",
        "\n",
        "distancias"
      ],
      "metadata": {
        "colab": {
          "base_uri": "https://localhost:8080/",
          "height": 710
        },
        "id": "KPWF2VUhpHQ6",
        "outputId": "4380562e-9828-40a8-821f-7f41fbbd9378"
      },
      "execution_count": null,
      "outputs": [
        {
          "output_type": "stream",
          "name": "stderr",
          "text": [
            "/usr/local/lib/python3.9/dist-packages/spektral/data/utils.py:221: UserWarning: you are shuffling a 'MyDataset' object which is not a subclass of 'Sequence'; `shuffle` is not guaranteed to behave correctly. E.g., non-numpy array/tensor objects with view semantics may contain duplicates after shuffling.\n",
            "  np.random.shuffle(a)\n",
            "/usr/local/lib/python3.9/dist-packages/keras/initializers/initializers.py:120: UserWarning: The initializer GlorotUniform is unseeded and being called multiple times, which will return identical values each time (even if the initializer is unseeded). Please update your code to provide a seed to the initializer, or avoid using the same initalizer instance more than once.\n",
            "  warnings.warn(\n"
          ]
        },
        {
          "output_type": "execute_result",
          "data": {
            "text/plain": [
              "{(0, 1): 2.299891320781213e-18,\n",
              " (0, 2): 8.521613054934157e-21,\n",
              " (0, 3): 2.177902302946677e-11,\n",
              " (1, 2): 6.562281371514517e-14,\n",
              " (1, 3): 0.00013715594832319766,\n",
              " (2, 3): 5.74575892642315e-07}"
            ]
          },
          "metadata": {},
          "execution_count": 102
        },
        {
          "output_type": "display_data",
          "data": {
            "text/plain": [
              "<Figure size 640x480 with 1 Axes>"
            ],
            "image/png": "[encoded data removed]"
          },
          "metadata": {}
        }
      ]
    },
    {
      "cell_type": "code",
      "source": [
        "Pooled_Graphs = []\n",
        "loader=loader_infer.load()\n",
        "\n",
        "for i in range(loader.dataset.n_graphs):  \n",
        "  #inputs,label = loader.__next__()\n",
        "  #x, a = inputs\n",
        "  x, a = loader.__next__()\n",
        "  x = mask(x)\n",
        "  #x = conv1([x, a])\n",
        "  x_pool, a_pool = pool([x, a])\n",
        "  \n",
        "  #x_pool = conv1([x_pool, a_pool])\n",
        "\n",
        "  A = a_pool[0]\n",
        "  A = A.numpy()\n",
        "  np.fill_diagonal(A, 0)\n",
        "  X = x_pool[0]\n",
        "  G_pool = nx.from_numpy_matrix(A)\n",
        "  for j in range(len(X)):\n",
        "    G_pool.nodes[j]['demanda_estimada'] = X[j]\n",
        "  Pooled_Graphs.append(G_pool)\n"
      ],
      "metadata": {
        "id": "pAUZKhr-XfK6",
        "colab": {
          "base_uri": "https://localhost:8080/"
        },
        "outputId": "8fac3e68-b0e2-4a6e-94a1-4d566c3e5dc9"
      },
      "execution_count": null,
      "outputs": [
        {
          "output_type": "stream",
          "name": "stderr",
          "text": [
            "/usr/local/lib/python3.9/dist-packages/spektral/data/utils.py:221: UserWarning: you are shuffling a 'MyDatasetInfer' object which is not a subclass of 'Sequence'; `shuffle` is not guaranteed to behave correctly. E.g., non-numpy array/tensor objects with view semantics may contain duplicates after shuffling.\n",
            "  np.random.shuffle(a)\n"
          ]
        }
      ]
    },
    {
      "cell_type": "code",
      "source": [
        "DiffPool_PooledGraphs = []\n",
        "loader=loader_infer.load()\n",
        "\n",
        "for i in range(loader.dataset.n_graphs):  \n",
        "  #inputs,label = loader.__next__()\n",
        "  #x, a = inputs\n",
        "  x, a = loader.__next__()\n",
        "  x = mask(x)\n",
        "  #x = conv1([x, a])\n",
        "  x_pool, a_pool = diff_pool([x, a])\n",
        "  \n",
        "  #x_pool = conv1([x_pool, a_pool])\n",
        "\n",
        "  A = a_pool[0]\n",
        "  A = A.numpy()\n",
        "  np.fill_diagonal(A, 0)\n",
        "  X = x_pool[0]\n",
        "  G_pool = nx.from_numpy_matrix(A)\n",
        "  for j in range(len(X)):\n",
        "    G_pool.nodes[j]['demanda_estimada'] = X[j]\n",
        "  DiffPool_PooledGraphs.append(G_pool)"
      ],
      "metadata": {
        "id": "MB-B1NLLFb1P"
      },
      "execution_count": null,
      "outputs": []
    },
    {
      "cell_type": "code",
      "source": [
        "MinCut_PooledGraphs = []\n",
        "loader=loader_infer.load()\n",
        "\n",
        "for i in range(loader.dataset.n_graphs):  \n",
        "  #inputs,label = loader.__next__()\n",
        "  #x, a = inputs\n",
        "  x, a = loader.__next__()\n",
        "  x = mask(x)\n",
        "  #x = conv1([x, a])\n",
        "  x_pool, a_pool = mincut_pool([x, a])\n",
        "  \n",
        "  #x_pool = conv1([x_pool, a_pool])\n",
        "\n",
        "  A = a_pool[0]\n",
        "  A = A.numpy()\n",
        "  np.fill_diagonal(A, 0)\n",
        "  X = x_pool[0]\n",
        "  G_pool = nx.from_numpy_matrix(A)\n",
        "  for j in range(len(X)):\n",
        "    G_pool.nodes[j]['demanda_estimada'] = X[j]\n",
        "  MinCut_PooledGraphs.append(G_pool)"
      ],
      "metadata": {
        "id": "pB9IoAWaHPEU"
      },
      "execution_count": null,
      "outputs": []
    },
    {
      "cell_type": "code",
      "source": [
        "x, a = loader.__next__()\n",
        "\n",
        "dfa = pd.DataFrame(a[0])\n",
        "dfa.index[0]"
      ],
      "metadata": {
        "colab": {
          "base_uri": "https://localhost:8080/"
        },
        "id": "DpQ70pQwgALz",
        "outputId": "2064e341-05db-478b-ca31-072e619920fd"
      },
      "execution_count": null,
      "outputs": [
        {
          "output_type": "execute_result",
          "data": {
            "text/plain": [
              "0"
            ]
          },
          "metadata": {},
          "execution_count": 107
        }
      ]
    },
    {
      "cell_type": "code",
      "source": [
        "Pooled_Graphs"
      ],
      "metadata": {
        "id": "MI3dXuwQZcjs",
        "colab": {
          "base_uri": "https://localhost:8080/"
        },
        "outputId": "b1c8331d-54d8-4951-af21-81d9805717b5"
      },
      "execution_count": null,
      "outputs": [
        {
          "output_type": "execute_result",
          "data": {
            "text/plain": [
              "[<networkx.classes.graph.Graph at 0x7fcfca2ebee0>,\n",
              " <networkx.classes.graph.Graph at 0x7fcfca2e61f0>,\n",
              " <networkx.classes.graph.Graph at 0x7fcfca2ebdc0>,\n",
              " <networkx.classes.graph.Graph at 0x7fcfca32ca30>,\n",
              " <networkx.classes.graph.Graph at 0x7fcfca2e05b0>,\n",
              " <networkx.classes.graph.Graph at 0x7fcfca2e60a0>,\n",
              " <networkx.classes.graph.Graph at 0x7fcfca2e62e0>,\n",
              " <networkx.classes.graph.Graph at 0x7fcfcb95f3d0>,\n",
              " <networkx.classes.graph.Graph at 0x7fcfca2f8130>,\n",
              " <networkx.classes.graph.Graph at 0x7fcfca2f8250>,\n",
              " <networkx.classes.graph.Graph at 0x7fcfca2f89a0>,\n",
              " <networkx.classes.graph.Graph at 0x7fcfca2f8070>,\n",
              " <networkx.classes.graph.Graph at 0x7fcfca2f8850>,\n",
              " <networkx.classes.graph.Graph at 0x7fcfca2f8eb0>,\n",
              " <networkx.classes.graph.Graph at 0x7fcfca2f8970>,\n",
              " <networkx.classes.graph.Graph at 0x7fcfca303460>,\n",
              " <networkx.classes.graph.Graph at 0x7fcfca3032e0>,\n",
              " <networkx.classes.graph.Graph at 0x7fcfca303a90>,\n",
              " <networkx.classes.graph.Graph at 0x7fcfca303820>,\n",
              " <networkx.classes.graph.Graph at 0x7fcfca3030a0>,\n",
              " <networkx.classes.graph.Graph at 0x7fcfca303d60>,\n",
              " <networkx.classes.graph.Graph at 0x7fcfca28d7c0>,\n",
              " <networkx.classes.graph.Graph at 0x7fcfca28d670>,\n",
              " <networkx.classes.graph.Graph at 0x7fcfca28d910>,\n",
              " <networkx.classes.graph.Graph at 0x7fcfca28d880>,\n",
              " <networkx.classes.graph.Graph at 0x7fcfca28d790>,\n",
              " <networkx.classes.graph.Graph at 0x7fcfca28d9d0>,\n",
              " <networkx.classes.graph.Graph at 0x7fcfca28da90>,\n",
              " <networkx.classes.graph.Graph at 0x7fcfca2a14f0>,\n",
              " <networkx.classes.graph.Graph at 0x7fcfca2a13d0>,\n",
              " <networkx.classes.graph.Graph at 0x7fcfca2a1b20>,\n",
              " <networkx.classes.graph.Graph at 0x7fcfca2a18b0>,\n",
              " <networkx.classes.graph.Graph at 0x7fcfca2a1040>,\n",
              " <networkx.classes.graph.Graph at 0x7fcfca2a1d60>,\n",
              " <networkx.classes.graph.Graph at 0x7fcfca2ac3d0>,\n",
              " <networkx.classes.graph.Graph at 0x7fcfca2ac2b0>,\n",
              " <networkx.classes.graph.Graph at 0x7fcfca2aca00>,\n",
              " <networkx.classes.graph.Graph at 0x7fcfca2ac790>,\n",
              " <networkx.classes.graph.Graph at 0x7fcfca2ac040>,\n",
              " <networkx.classes.graph.Graph at 0x7fcfca2ac880>]"
            ]
          },
          "metadata": {},
          "execution_count": 108
        }
      ]
    },
    {
      "cell_type": "code",
      "source": [
        "distancias_pool = graphs_distance(Pooled_Graphs)\n",
        "#distancias_pool\n",
        "\n",
        "distancias_diffPool = graphs_distance(DiffPool_PooledGraphs)\n",
        "distancias_mincutPool = graphs_distance(MinCut_PooledGraphs)\n",
        "#distancias_laPool = graphs_distance(LA_PooledGraphs)"
      ],
      "metadata": {
        "id": "qpVMwUMcaT4q",
        "colab": {
          "base_uri": "https://localhost:8080/"
        },
        "outputId": "680d5c52-6001-4b88-fa30-f3fe105fd905"
      },
      "execution_count": null,
      "outputs": [
        {
          "output_type": "stream",
          "name": "stderr",
          "text": [
            "/root/.local/lib/python3.9/site-packages/networkx/algorithms/similarity.py:1078: VisibleDeprecationWarning: Creating an ndarray from ragged nested sequences (which is a list-or-tuple of lists-or-tuples-or ndarrays with different lengths or shapes) is deprecated. If you meant to do this, you must specify 'dtype=object' when creating the ndarray.\n"
          ]
        }
      ]
    },
    {
      "cell_type": "code",
      "source": [
        "dist_pool = np.asarray(distancias_pool)\n",
        "dist_pool = np.transpose(dist_pool)\n",
        "dist_pool = dist_pool[0]\n",
        "normalized_dist_pool = dist_pool/np.linalg.norm(dist_pool)\n",
        "#print(normalized_dist_pool)\n",
        "normalized_dist_pool"
      ],
      "metadata": {
        "id": "Z4_K5rjtcC6P",
        "colab": {
          "base_uri": "https://localhost:8080/"
        },
        "outputId": "07916e98-6280-45fe-9aa7-8cd63a6a0b6a"
      },
      "execution_count": null,
      "outputs": [
        {
          "output_type": "execute_result",
          "data": {
            "text/plain": [
              "1.0"
            ]
          },
          "metadata": {},
          "execution_count": 112
        }
      ]
    },
    {
      "cell_type": "code",
      "source": [
        "dist_diffPool = np.asarray(distancias_diffPool)\n",
        "dist_diffPool = np.transpose(dist_diffPool)\n",
        "dist_diffPool = dist_diffPool[0]\n",
        "\n",
        "dist_mincutPool = np.asarray(distancias_mincutPool)\n",
        "dist_mincutPool = np.transpose(dist_mincutPool)\n",
        "dist_mincutPool = dist_mincutPool[0]\n",
        "\n",
        "\"\"\"\n",
        "dist_laPool = np.asarray(distancias_laPool)\n",
        "dist_laPool = np.transpose(dist_laPool)\n",
        "dist_laPool = dist_laPool[0]\n",
        "\"\"\""
      ],
      "metadata": {
        "id": "hdarxMd4H808",
        "colab": {
          "base_uri": "https://localhost:8080/",
          "height": 35
        },
        "outputId": "2517e668-f59b-4403-9e6d-2b24b5567d60"
      },
      "execution_count": null,
      "outputs": [
        {
          "output_type": "execute_result",
          "data": {
            "text/plain": [
              "'\\ndist_laPool = np.asarray(distancias_laPool)\\ndist_laPool = np.transpose(dist_laPool)\\ndist_laPool = dist_laPool[0]\\n'"
            ],
            "application/vnd.google.colaboratory.intrinsic+json": {
              "type": "string"
            }
          },
          "metadata": {},
          "execution_count": 113
        }
      ]
    },
    {
      "cell_type": "markdown",
      "source": [
        "# **Análisis de Correlación**"
      ],
      "metadata": {
        "id": "nU0v5MMTsWVq"
      }
    },
    {
      "cell_type": "code",
      "source": [
        "import matplotlib.pyplot as plt\n",
        "\n",
        "array_distances = np.array([dist,Y,Y1,Y2]) #,dist_diffPool,dist_mincutPool])\n",
        "\n",
        "array_distances = array_distances.transpose()\n",
        "\n",
        "df = pd.DataFrame(array_distances, columns = ['GraphDist','Graph2Vec','GL2Vec','WaveletCh']) #,'DiffPool','MinCutPool'])\n",
        "df.head()"
      ],
      "metadata": {
        "colab": {
          "base_uri": "https://localhost:8080/",
          "height": 206
        },
        "id": "0ibbEsZAdDzx",
        "outputId": "446fd4d0-88ee-4f2d-fc04-d9c2200b076c"
      },
      "execution_count": null,
      "outputs": [
        {
          "output_type": "execute_result",
          "data": {
            "text/plain": [
              "   GraphDist  Graph2Vec    GL2Vec  WaveletCh\n",
              "0      106.0   0.054936  1.396408   6.662633\n",
              "1      194.0   0.062386  0.966150  13.140463\n",
              "2      258.0   0.054235  1.033399  18.991153\n",
              "3      276.0   0.051415  1.036752  21.450152\n",
              "4      116.0   0.001312  0.029276   0.000000"
            ],
            "text/html": [
              "\n",
              "  <div id=\"df-6735f364-4da8-4df9-95fe-c1c52aa19803\">\n",
              "    <div class=\"colab-df-container\">\n",
              "      <div>\n",
              "<style scoped>\n",
              "    .dataframe tbody tr th:only-of-type {\n",
              "        vertical-align: middle;\n",
              "    }\n",
              "\n",
              "    .dataframe tbody tr th {\n",
              "        vertical-align: top;\n",
              "    }\n",
              "\n",
              "    .dataframe thead th {\n",
              "        text-align: right;\n",
              "    }\n",
              "</style>\n",
              "<table border=\"1\" class=\"dataframe\">\n",
              "  <thead>\n",
              "    <tr style=\"text-align: right;\">\n",
              "      <th></th>\n",
              "      <th>GraphDist</th>\n",
              "      <th>Graph2Vec</th>\n",
              "      <th>GL2Vec</th>\n",
              "      <th>WaveletCh</th>\n",
              "    </tr>\n",
              "  </thead>\n",
              "  <tbody>\n",
              "    <tr>\n",
              "      <th>0</th>\n",
              "      <td>106.0</td>\n",
              "      <td>0.054936</td>\n",
              "      <td>1.396408</td>\n",
              "      <td>6.662633</td>\n",
              "    </tr>\n",
              "    <tr>\n",
              "      <th>1</th>\n",
              "      <td>194.0</td>\n",
              "      <td>0.062386</td>\n",
              "      <td>0.966150</td>\n",
              "      <td>13.140463</td>\n",
              "    </tr>\n",
              "    <tr>\n",
              "      <th>2</th>\n",
              "      <td>258.0</td>\n",
              "      <td>0.054235</td>\n",
              "      <td>1.033399</td>\n",
              "      <td>18.991153</td>\n",
              "    </tr>\n",
              "    <tr>\n",
              "      <th>3</th>\n",
              "      <td>276.0</td>\n",
              "      <td>0.051415</td>\n",
              "      <td>1.036752</td>\n",
              "      <td>21.450152</td>\n",
              "    </tr>\n",
              "    <tr>\n",
              "      <th>4</th>\n",
              "      <td>116.0</td>\n",
              "      <td>0.001312</td>\n",
              "      <td>0.029276</td>\n",
              "      <td>0.000000</td>\n",
              "    </tr>\n",
              "  </tbody>\n",
              "</table>\n",
              "</div>\n",
              "      <button class=\"colab-df-convert\" onclick=\"convertToInteractive('df-6735f364-4da8-4df9-95fe-c1c52aa19803')\"\n",
              "              title=\"Convert this dataframe to an interactive table.\"\n",
              "              style=\"display:none;\">\n",
              "        \n",
              "  <svg xmlns=\"http://www.w3.org/2000/svg\" height=\"24px\"viewBox=\"0 0 24 24\"\n",
              "       width=\"24px\">\n",
              "    <path d=\"M0 0h24v24H0V0z\" fill=\"none\"/>\n",
              "    <path d=\"M18.56 5.44l.94 2.06.94-2.06 2.06-.94-2.06-.94-.94-2.06-.94 2.06-2.06.94zm-11 1L8.5 8.5l.94-2.06 2.06-.94-2.06-.94L8.5 2.5l-.94 2.06-2.06.94zm10 10l.94 2.06.94-2.06 2.06-.94-2.06-.94-.94-2.06-.94 2.06-2.06.94z\"/><path d=\"M17.41 7.96l-1.37-1.37c-.4-.4-.92-.59-1.43-.59-.52 0-1.04.2-1.43.59L10.3 9.45l-7.72 7.72c-.78.78-.78 2.05 0 2.83L4 21.41c.39.39.9.59 1.41.59.51 0 1.02-.2 1.41-.59l7.78-7.78 2.81-2.81c.8-.78.8-2.07 0-2.86zM5.41 20L4 18.59l7.72-7.72 1.47 1.35L5.41 20z\"/>\n",
              "  </svg>\n",
              "      </button>\n",
              "      \n",
              "  <style>\n",
              "    .colab-df-container {\n",
              "      display:flex;\n",
              "      flex-wrap:wrap;\n",
              "      gap: 12px;\n",
              "    }\n",
              "\n",
              "    .colab-df-convert {\n",
              "      background-color: #E8F0FE;\n",
              "      border: none;\n",
              "      border-radius: 50%;\n",
              "      cursor: pointer;\n",
              "      display: none;\n",
              "      fill: #1967D2;\n",
              "      height: 32px;\n",
              "      padding: 0 0 0 0;\n",
              "      width: 32px;\n",
              "    }\n",
              "\n",
              "    .colab-df-convert:hover {\n",
              "      background-color: #E2EBFA;\n",
              "      box-shadow: 0px 1px 2px rgba(60, 64, 67, 0.3), 0px 1px 3px 1px rgba(60, 64, 67, 0.15);\n",
              "      fill: #174EA6;\n",
              "    }\n",
              "\n",
              "    [theme=dark] .colab-df-convert {\n",
              "      background-color: #3B4455;\n",
              "      fill: #D2E3FC;\n",
              "    }\n",
              "\n",
              "    [theme=dark] .colab-df-convert:hover {\n",
              "      background-color: #434B5C;\n",
              "      box-shadow: 0px 1px 3px 1px rgba(0, 0, 0, 0.15);\n",
              "      filter: drop-shadow(0px 1px 2px rgba(0, 0, 0, 0.3));\n",
              "      fill: #FFFFFF;\n",
              "    }\n",
              "  </style>\n",
              "\n",
              "      <script>\n",
              "        const buttonEl =\n",
              "          document.querySelector('#df-6735f364-4da8-4df9-95fe-c1c52aa19803 button.colab-df-convert');\n",
              "        buttonEl.style.display =\n",
              "          google.colab.kernel.accessAllowed ? 'block' : 'none';\n",
              "\n",
              "        async function convertToInteractive(key) {\n",
              "          const element = document.querySelector('#df-6735f364-4da8-4df9-95fe-c1c52aa19803');\n",
              "          const dataTable =\n",
              "            await google.colab.kernel.invokeFunction('convertToInteractive',\n",
              "                                                     [key], {});\n",
              "          if (!dataTable) return;\n",
              "\n",
              "          const docLinkHtml = 'Like what you see? Visit the ' +\n",
              "            '<a target=\"_blank\" href=https://colab.research.google.com/notebooks/data_table.ipynb>data table notebook</a>'\n",
              "            + ' to learn more about interactive tables.';\n",
              "          element.innerHTML = '';\n",
              "          dataTable['output_type'] = 'display_data';\n",
              "          await google.colab.output.renderOutput(dataTable, element);\n",
              "          const docLink = document.createElement('div');\n",
              "          docLink.innerHTML = docLinkHtml;\n",
              "          element.appendChild(docLink);\n",
              "        }\n",
              "      </script>\n",
              "    </div>\n",
              "  </div>\n",
              "  "
            ]
          },
          "metadata": {},
          "execution_count": 115
        }
      ]
    },
    {
      "cell_type": "code",
      "source": [
        "correlacionPearson = df.corr(method=\"pearson\")\n",
        "correlacionKendall = df.corr(method=\"kendall\")\n",
        "correlacionSpearman = df.corr(method=\"spearman\")\n",
        "correlacionPearson                                                  "
      ],
      "metadata": {
        "colab": {
          "base_uri": "https://localhost:8080/",
          "height": 175
        },
        "id": "QNERhqK6POQs",
        "outputId": "40189b90-9093-4872-e91f-6855b75d17d3"
      },
      "execution_count": null,
      "outputs": [
        {
          "output_type": "execute_result",
          "data": {
            "text/plain": [
              "           GraphDist  Graph2Vec    GL2Vec  WaveletCh\n",
              "GraphDist   1.000000   0.334916  0.582692   0.597044\n",
              "Graph2Vec   0.334916   1.000000  0.670769   0.642532\n",
              "GL2Vec      0.582692   0.670769  1.000000   0.713100\n",
              "WaveletCh   0.597044   0.642532  0.713100   1.000000"
            ],
            "text/html": [
              "\n",
              "  <div id=\"df-e215eb9d-b7ed-4798-ac0f-dfbeb2accaf8\">\n",
              "    <div class=\"colab-df-container\">\n",
              "      <div>\n",
              "<style scoped>\n",
              "    .dataframe tbody tr th:only-of-type {\n",
              "        vertical-align: middle;\n",
              "    }\n",
              "\n",
              "    .dataframe tbody tr th {\n",
              "        vertical-align: top;\n",
              "    }\n",
              "\n",
              "    .dataframe thead th {\n",
              "        text-align: right;\n",
              "    }\n",
              "</style>\n",
              "<table border=\"1\" class=\"dataframe\">\n",
              "  <thead>\n",
              "    <tr style=\"text-align: right;\">\n",
              "      <th></th>\n",
              "      <th>GraphDist</th>\n",
              "      <th>Graph2Vec</th>\n",
              "      <th>GL2Vec</th>\n",
              "      <th>WaveletCh</th>\n",
              "    </tr>\n",
              "  </thead>\n",
              "  <tbody>\n",
              "    <tr>\n",
              "      <th>GraphDist</th>\n",
              "      <td>1.000000</td>\n",
              "      <td>0.334916</td>\n",
              "      <td>0.582692</td>\n",
              "      <td>0.597044</td>\n",
              "    </tr>\n",
              "    <tr>\n",
              "      <th>Graph2Vec</th>\n",
              "      <td>0.334916</td>\n",
              "      <td>1.000000</td>\n",
              "      <td>0.670769</td>\n",
              "      <td>0.642532</td>\n",
              "    </tr>\n",
              "    <tr>\n",
              "      <th>GL2Vec</th>\n",
              "      <td>0.582692</td>\n",
              "      <td>0.670769</td>\n",
              "      <td>1.000000</td>\n",
              "      <td>0.713100</td>\n",
              "    </tr>\n",
              "    <tr>\n",
              "      <th>WaveletCh</th>\n",
              "      <td>0.597044</td>\n",
              "      <td>0.642532</td>\n",
              "      <td>0.713100</td>\n",
              "      <td>1.000000</td>\n",
              "    </tr>\n",
              "  </tbody>\n",
              "</table>\n",
              "</div>\n",
              "      <button class=\"colab-df-convert\" onclick=\"convertToInteractive('df-e215eb9d-b7ed-4798-ac0f-dfbeb2accaf8')\"\n",
              "              title=\"Convert this dataframe to an interactive table.\"\n",
              "              style=\"display:none;\">\n",
              "        \n",
              "  <svg xmlns=\"http://www.w3.org/2000/svg\" height=\"24px\"viewBox=\"0 0 24 24\"\n",
              "       width=\"24px\">\n",
              "    <path d=\"M0 0h24v24H0V0z\" fill=\"none\"/>\n",
              "    <path d=\"M18.56 5.44l.94 2.06.94-2.06 2.06-.94-2.06-.94-.94-2.06-.94 2.06-2.06.94zm-11 1L8.5 8.5l.94-2.06 2.06-.94-2.06-.94L8.5 2.5l-.94 2.06-2.06.94zm10 10l.94 2.06.94-2.06 2.06-.94-2.06-.94-.94-2.06-.94 2.06-2.06.94z\"/><path d=\"M17.41 7.96l-1.37-1.37c-.4-.4-.92-.59-1.43-.59-.52 0-1.04.2-1.43.59L10.3 9.45l-7.72 7.72c-.78.78-.78 2.05 0 2.83L4 21.41c.39.39.9.59 1.41.59.51 0 1.02-.2 1.41-.59l7.78-7.78 2.81-2.81c.8-.78.8-2.07 0-2.86zM5.41 20L4 18.59l7.72-7.72 1.47 1.35L5.41 20z\"/>\n",
              "  </svg>\n",
              "      </button>\n",
              "      \n",
              "  <style>\n",
              "    .colab-df-container {\n",
              "      display:flex;\n",
              "      flex-wrap:wrap;\n",
              "      gap: 12px;\n",
              "    }\n",
              "\n",
              "    .colab-df-convert {\n",
              "      background-color: #E8F0FE;\n",
              "      border: none;\n",
              "      border-radius: 50%;\n",
              "      cursor: pointer;\n",
              "      display: none;\n",
              "      fill: #1967D2;\n",
              "      height: 32px;\n",
              "      padding: 0 0 0 0;\n",
              "      width: 32px;\n",
              "    }\n",
              "\n",
              "    .colab-df-convert:hover {\n",
              "      background-color: #E2EBFA;\n",
              "      box-shadow: 0px 1px 2px rgba(60, 64, 67, 0.3), 0px 1px 3px 1px rgba(60, 64, 67, 0.15);\n",
              "      fill: #174EA6;\n",
              "    }\n",
              "\n",
              "    [theme=dark] .colab-df-convert {\n",
              "      background-color: #3B4455;\n",
              "      fill: #D2E3FC;\n",
              "    }\n",
              "\n",
              "    [theme=dark] .colab-df-convert:hover {\n",
              "      background-color: #434B5C;\n",
              "      box-shadow: 0px 1px 3px 1px rgba(0, 0, 0, 0.15);\n",
              "      filter: drop-shadow(0px 1px 2px rgba(0, 0, 0, 0.3));\n",
              "      fill: #FFFFFF;\n",
              "    }\n",
              "  </style>\n",
              "\n",
              "      <script>\n",
              "        const buttonEl =\n",
              "          document.querySelector('#df-e215eb9d-b7ed-4798-ac0f-dfbeb2accaf8 button.colab-df-convert');\n",
              "        buttonEl.style.display =\n",
              "          google.colab.kernel.accessAllowed ? 'block' : 'none';\n",
              "\n",
              "        async function convertToInteractive(key) {\n",
              "          const element = document.querySelector('#df-e215eb9d-b7ed-4798-ac0f-dfbeb2accaf8');\n",
              "          const dataTable =\n",
              "            await google.colab.kernel.invokeFunction('convertToInteractive',\n",
              "                                                     [key], {});\n",
              "          if (!dataTable) return;\n",
              "\n",
              "          const docLinkHtml = 'Like what you see? Visit the ' +\n",
              "            '<a target=\"_blank\" href=https://colab.research.google.com/notebooks/data_table.ipynb>data table notebook</a>'\n",
              "            + ' to learn more about interactive tables.';\n",
              "          element.innerHTML = '';\n",
              "          dataTable['output_type'] = 'display_data';\n",
              "          await google.colab.output.renderOutput(dataTable, element);\n",
              "          const docLink = document.createElement('div');\n",
              "          docLink.innerHTML = docLinkHtml;\n",
              "          element.appendChild(docLink);\n",
              "        }\n",
              "      </script>\n",
              "    </div>\n",
              "  </div>\n",
              "  "
            ]
          },
          "metadata": {},
          "execution_count": 116
        }
      ]
    },
    {
      "cell_type": "code",
      "source": [
        "correlacionKendall"
      ],
      "metadata": {
        "colab": {
          "base_uri": "https://localhost:8080/",
          "height": 175
        },
        "id": "fS8jFQQT0bmk",
        "outputId": "30390b3b-6579-40ec-f6ac-a3dca83982cf"
      },
      "execution_count": null,
      "outputs": [
        {
          "output_type": "execute_result",
          "data": {
            "text/plain": [
              "           GraphDist  Graph2Vec    GL2Vec  WaveletCh\n",
              "GraphDist   1.000000   0.297316  0.431296   0.468146\n",
              "Graph2Vec   0.297316   1.000000  0.525578   0.390146\n",
              "GL2Vec      0.431296   0.525578  1.000000   0.666661\n",
              "WaveletCh   0.468146   0.390146  0.666661   1.000000"
            ],
            "text/html": [
              "\n",
              "  <div id=\"df-fd00cc4b-699e-4b69-bc20-7424ef8a0223\">\n",
              "    <div class=\"colab-df-container\">\n",
              "      <div>\n",
              "<style scoped>\n",
              "    .dataframe tbody tr th:only-of-type {\n",
              "        vertical-align: middle;\n",
              "    }\n",
              "\n",
              "    .dataframe tbody tr th {\n",
              "        vertical-align: top;\n",
              "    }\n",
              "\n",
              "    .dataframe thead th {\n",
              "        text-align: right;\n",
              "    }\n",
              "</style>\n",
              "<table border=\"1\" class=\"dataframe\">\n",
              "  <thead>\n",
              "    <tr style=\"text-align: right;\">\n",
              "      <th></th>\n",
              "      <th>GraphDist</th>\n",
              "      <th>Graph2Vec</th>\n",
              "      <th>GL2Vec</th>\n",
              "      <th>WaveletCh</th>\n",
              "    </tr>\n",
              "  </thead>\n",
              "  <tbody>\n",
              "    <tr>\n",
              "      <th>GraphDist</th>\n",
              "      <td>1.000000</td>\n",
              "      <td>0.297316</td>\n",
              "      <td>0.431296</td>\n",
              "      <td>0.468146</td>\n",
              "    </tr>\n",
              "    <tr>\n",
              "      <th>Graph2Vec</th>\n",
              "      <td>0.297316</td>\n",
              "      <td>1.000000</td>\n",
              "      <td>0.525578</td>\n",
              "      <td>0.390146</td>\n",
              "    </tr>\n",
              "    <tr>\n",
              "      <th>GL2Vec</th>\n",
              "      <td>0.431296</td>\n",
              "      <td>0.525578</td>\n",
              "      <td>1.000000</td>\n",
              "      <td>0.666661</td>\n",
              "    </tr>\n",
              "    <tr>\n",
              "      <th>WaveletCh</th>\n",
              "      <td>0.468146</td>\n",
              "      <td>0.390146</td>\n",
              "      <td>0.666661</td>\n",
              "      <td>1.000000</td>\n",
              "    </tr>\n",
              "  </tbody>\n",
              "</table>\n",
              "</div>\n",
              "      <button class=\"colab-df-convert\" onclick=\"convertToInteractive('df-fd00cc4b-699e-4b69-bc20-7424ef8a0223')\"\n",
              "              title=\"Convert this dataframe to an interactive table.\"\n",
              "              style=\"display:none;\">\n",
              "        \n",
              "  <svg xmlns=\"http://www.w3.org/2000/svg\" height=\"24px\"viewBox=\"0 0 24 24\"\n",
              "       width=\"24px\">\n",
              "    <path d=\"M0 0h24v24H0V0z\" fill=\"none\"/>\n",
              "    <path d=\"M18.56 5.44l.94 2.06.94-2.06 2.06-.94-2.06-.94-.94-2.06-.94 2.06-2.06.94zm-11 1L8.5 8.5l.94-2.06 2.06-.94-2.06-.94L8.5 2.5l-.94 2.06-2.06.94zm10 10l.94 2.06.94-2.06 2.06-.94-2.06-.94-.94-2.06-.94 2.06-2.06.94z\"/><path d=\"M17.41 7.96l-1.37-1.37c-.4-.4-.92-.59-1.43-.59-.52 0-1.04.2-1.43.59L10.3 9.45l-7.72 7.72c-.78.78-.78 2.05 0 2.83L4 21.41c.39.39.9.59 1.41.59.51 0 1.02-.2 1.41-.59l7.78-7.78 2.81-2.81c.8-.78.8-2.07 0-2.86zM5.41 20L4 18.59l7.72-7.72 1.47 1.35L5.41 20z\"/>\n",
              "  </svg>\n",
              "      </button>\n",
              "      \n",
              "  <style>\n",
              "    .colab-df-container {\n",
              "      display:flex;\n",
              "      flex-wrap:wrap;\n",
              "      gap: 12px;\n",
              "    }\n",
              "\n",
              "    .colab-df-convert {\n",
              "      background-color: #E8F0FE;\n",
              "      border: none;\n",
              "      border-radius: 50%;\n",
              "      cursor: pointer;\n",
              "      display: none;\n",
              "      fill: #1967D2;\n",
              "      height: 32px;\n",
              "      padding: 0 0 0 0;\n",
              "      width: 32px;\n",
              "    }\n",
              "\n",
              "    .colab-df-convert:hover {\n",
              "      background-color: #E2EBFA;\n",
              "      box-shadow: 0px 1px 2px rgba(60, 64, 67, 0.3), 0px 1px 3px 1px rgba(60, 64, 67, 0.15);\n",
              "      fill: #174EA6;\n",
              "    }\n",
              "\n",
              "    [theme=dark] .colab-df-convert {\n",
              "      background-color: #3B4455;\n",
              "      fill: #D2E3FC;\n",
              "    }\n",
              "\n",
              "    [theme=dark] .colab-df-convert:hover {\n",
              "      background-color: #434B5C;\n",
              "      box-shadow: 0px 1px 3px 1px rgba(0, 0, 0, 0.15);\n",
              "      filter: drop-shadow(0px 1px 2px rgba(0, 0, 0, 0.3));\n",
              "      fill: #FFFFFF;\n",
              "    }\n",
              "  </style>\n",
              "\n",
              "      <script>\n",
              "        const buttonEl =\n",
              "          document.querySelector('#df-fd00cc4b-699e-4b69-bc20-7424ef8a0223 button.colab-df-convert');\n",
              "        buttonEl.style.display =\n",
              "          google.colab.kernel.accessAllowed ? 'block' : 'none';\n",
              "\n",
              "        async function convertToInteractive(key) {\n",
              "          const element = document.querySelector('#df-fd00cc4b-699e-4b69-bc20-7424ef8a0223');\n",
              "          const dataTable =\n",
              "            await google.colab.kernel.invokeFunction('convertToInteractive',\n",
              "                                                     [key], {});\n",
              "          if (!dataTable) return;\n",
              "\n",
              "          const docLinkHtml = 'Like what you see? Visit the ' +\n",
              "            '<a target=\"_blank\" href=https://colab.research.google.com/notebooks/data_table.ipynb>data table notebook</a>'\n",
              "            + ' to learn more about interactive tables.';\n",
              "          element.innerHTML = '';\n",
              "          dataTable['output_type'] = 'display_data';\n",
              "          await google.colab.output.renderOutput(dataTable, element);\n",
              "          const docLink = document.createElement('div');\n",
              "          docLink.innerHTML = docLinkHtml;\n",
              "          element.appendChild(docLink);\n",
              "        }\n",
              "      </script>\n",
              "    </div>\n",
              "  </div>\n",
              "  "
            ]
          },
          "metadata": {},
          "execution_count": 117
        }
      ]
    },
    {
      "cell_type": "code",
      "source": [
        "correlacionSpearman"
      ],
      "metadata": {
        "colab": {
          "base_uri": "https://localhost:8080/",
          "height": 175
        },
        "id": "19Qf2-9M0fbc",
        "outputId": "a8b992d4-f490-4b60-c696-c44527b7214f"
      },
      "execution_count": null,
      "outputs": [
        {
          "output_type": "execute_result",
          "data": {
            "text/plain": [
              "           GraphDist  Graph2Vec    GL2Vec  WaveletCh\n",
              "GraphDist   1.000000   0.433626  0.608693   0.633701\n",
              "Graph2Vec   0.433626   1.000000  0.725535   0.539551\n",
              "GL2Vec      0.608693   0.725535  1.000000   0.806572\n",
              "WaveletCh   0.633701   0.539551  0.806572   1.000000"
            ],
            "text/html": [
              "\n",
              "  <div id=\"df-5f522a53-11d5-4390-b531-42cf31a74e08\">\n",
              "    <div class=\"colab-df-container\">\n",
              "      <div>\n",
              "<style scoped>\n",
              "    .dataframe tbody tr th:only-of-type {\n",
              "        vertical-align: middle;\n",
              "    }\n",
              "\n",
              "    .dataframe tbody tr th {\n",
              "        vertical-align: top;\n",
              "    }\n",
              "\n",
              "    .dataframe thead th {\n",
              "        text-align: right;\n",
              "    }\n",
              "</style>\n",
              "<table border=\"1\" class=\"dataframe\">\n",
              "  <thead>\n",
              "    <tr style=\"text-align: right;\">\n",
              "      <th></th>\n",
              "      <th>GraphDist</th>\n",
              "      <th>Graph2Vec</th>\n",
              "      <th>GL2Vec</th>\n",
              "      <th>WaveletCh</th>\n",
              "    </tr>\n",
              "  </thead>\n",
              "  <tbody>\n",
              "    <tr>\n",
              "      <th>GraphDist</th>\n",
              "      <td>1.000000</td>\n",
              "      <td>0.433626</td>\n",
              "      <td>0.608693</td>\n",
              "      <td>0.633701</td>\n",
              "    </tr>\n",
              "    <tr>\n",
              "      <th>Graph2Vec</th>\n",
              "      <td>0.433626</td>\n",
              "      <td>1.000000</td>\n",
              "      <td>0.725535</td>\n",
              "      <td>0.539551</td>\n",
              "    </tr>\n",
              "    <tr>\n",
              "      <th>GL2Vec</th>\n",
              "      <td>0.608693</td>\n",
              "      <td>0.725535</td>\n",
              "      <td>1.000000</td>\n",
              "      <td>0.806572</td>\n",
              "    </tr>\n",
              "    <tr>\n",
              "      <th>WaveletCh</th>\n",
              "      <td>0.633701</td>\n",
              "      <td>0.539551</td>\n",
              "      <td>0.806572</td>\n",
              "      <td>1.000000</td>\n",
              "    </tr>\n",
              "  </tbody>\n",
              "</table>\n",
              "</div>\n",
              "      <button class=\"colab-df-convert\" onclick=\"convertToInteractive('df-5f522a53-11d5-4390-b531-42cf31a74e08')\"\n",
              "              title=\"Convert this dataframe to an interactive table.\"\n",
              "              style=\"display:none;\">\n",
              "        \n",
              "  <svg xmlns=\"http://www.w3.org/2000/svg\" height=\"24px\"viewBox=\"0 0 24 24\"\n",
              "       width=\"24px\">\n",
              "    <path d=\"M0 0h24v24H0V0z\" fill=\"none\"/>\n",
              "    <path d=\"M18.56 5.44l.94 2.06.94-2.06 2.06-.94-2.06-.94-.94-2.06-.94 2.06-2.06.94zm-11 1L8.5 8.5l.94-2.06 2.06-.94-2.06-.94L8.5 2.5l-.94 2.06-2.06.94zm10 10l.94 2.06.94-2.06 2.06-.94-2.06-.94-.94-2.06-.94 2.06-2.06.94z\"/><path d=\"M17.41 7.96l-1.37-1.37c-.4-.4-.92-.59-1.43-.59-.52 0-1.04.2-1.43.59L10.3 9.45l-7.72 7.72c-.78.78-.78 2.05 0 2.83L4 21.41c.39.39.9.59 1.41.59.51 0 1.02-.2 1.41-.59l7.78-7.78 2.81-2.81c.8-.78.8-2.07 0-2.86zM5.41 20L4 18.59l7.72-7.72 1.47 1.35L5.41 20z\"/>\n",
              "  </svg>\n",
              "      </button>\n",
              "      \n",
              "  <style>\n",
              "    .colab-df-container {\n",
              "      display:flex;\n",
              "      flex-wrap:wrap;\n",
              "      gap: 12px;\n",
              "    }\n",
              "\n",
              "    .colab-df-convert {\n",
              "      background-color: #E8F0FE;\n",
              "      border: none;\n",
              "      border-radius: 50%;\n",
              "      cursor: pointer;\n",
              "      display: none;\n",
              "      fill: #1967D2;\n",
              "      height: 32px;\n",
              "      padding: 0 0 0 0;\n",
              "      width: 32px;\n",
              "    }\n",
              "\n",
              "    .colab-df-convert:hover {\n",
              "      background-color: #E2EBFA;\n",
              "      box-shadow: 0px 1px 2px rgba(60, 64, 67, 0.3), 0px 1px 3px 1px rgba(60, 64, 67, 0.15);\n",
              "      fill: #174EA6;\n",
              "    }\n",
              "\n",
              "    [theme=dark] .colab-df-convert {\n",
              "      background-color: #3B4455;\n",
              "      fill: #D2E3FC;\n",
              "    }\n",
              "\n",
              "    [theme=dark] .colab-df-convert:hover {\n",
              "      background-color: #434B5C;\n",
              "      box-shadow: 0px 1px 3px 1px rgba(0, 0, 0, 0.15);\n",
              "      filter: drop-shadow(0px 1px 2px rgba(0, 0, 0, 0.3));\n",
              "      fill: #FFFFFF;\n",
              "    }\n",
              "  </style>\n",
              "\n",
              "      <script>\n",
              "        const buttonEl =\n",
              "          document.querySelector('#df-5f522a53-11d5-4390-b531-42cf31a74e08 button.colab-df-convert');\n",
              "        buttonEl.style.display =\n",
              "          google.colab.kernel.accessAllowed ? 'block' : 'none';\n",
              "\n",
              "        async function convertToInteractive(key) {\n",
              "          const element = document.querySelector('#df-5f522a53-11d5-4390-b531-42cf31a74e08');\n",
              "          const dataTable =\n",
              "            await google.colab.kernel.invokeFunction('convertToInteractive',\n",
              "                                                     [key], {});\n",
              "          if (!dataTable) return;\n",
              "\n",
              "          const docLinkHtml = 'Like what you see? Visit the ' +\n",
              "            '<a target=\"_blank\" href=https://colab.research.google.com/notebooks/data_table.ipynb>data table notebook</a>'\n",
              "            + ' to learn more about interactive tables.';\n",
              "          element.innerHTML = '';\n",
              "          dataTable['output_type'] = 'display_data';\n",
              "          await google.colab.output.renderOutput(dataTable, element);\n",
              "          const docLink = document.createElement('div');\n",
              "          docLink.innerHTML = docLinkHtml;\n",
              "          element.appendChild(docLink);\n",
              "        }\n",
              "      </script>\n",
              "    </div>\n",
              "  </div>\n",
              "  "
            ]
          },
          "metadata": {},
          "execution_count": 118
        }
      ]
    },
    {
      "cell_type": "code",
      "source": [
        "plt.matshow(df.corr(method=\"pearson\"),cmap=plt.cm.Blues)"
      ],
      "metadata": {
        "id": "mjWwAf3hAPID",
        "colab": {
          "base_uri": "https://localhost:8080/",
          "height": 444
        },
        "outputId": "360f5c67-af3a-4e19-813a-aa91ed739523"
      },
      "execution_count": null,
      "outputs": [
        {
          "output_type": "execute_result",
          "data": {
            "text/plain": [
              "<matplotlib.image.AxesImage at 0x7fcfca15f7f0>"
            ]
          },
          "metadata": {},
          "execution_count": 119
        },
        {
          "output_type": "display_data",
          "data": {
            "text/plain": [
              "<Figure size 480x480 with 1 Axes>"
            ],
            "image/png": "[encoded data removed]"
          },
          "metadata": {}
        }
      ]
    },
    {
      "cell_type": "code",
      "source": [
        "figure = plt.figure()\n",
        "axes = figure.add_subplot(111)\n",
        "\n",
        "# using the matshow() function\n",
        "caxes = axes.matshow(df.corr(method=\"pearson\"),cmap=plt.cm.Blues, interpolation ='nearest')\n",
        "figure.colorbar(caxes)\n",
        "figure\n",
        "\n",
        "columns = ['GraphDist','Graph2Vec','GL2Vec','WaveletCh'] #,'DiffPool','MinCutPool']\n",
        "axes.set_xticklabels(['']+columns)\n",
        "axes.set_yticklabels(['']+columns)\n",
        "axes.set_title(\"Pearson correlation coefficient\")\n",
        "\n",
        "plt.show()"
      ],
      "metadata": {
        "colab": {
          "base_uri": "https://localhost:8080/",
          "height": 514
        },
        "id": "E4iGHT69dDpk",
        "outputId": "c4179807-59ad-4aee-f27d-052c49200d3c"
      },
      "execution_count": null,
      "outputs": [
        {
          "output_type": "stream",
          "name": "stderr",
          "text": [
            "<ipython-input-120-c25a777061c5>:10: UserWarning: FixedFormatter should only be used together with FixedLocator\n",
            "  axes.set_xticklabels(['']+columns)\n",
            "<ipython-input-120-c25a777061c5>:11: UserWarning: FixedFormatter should only be used together with FixedLocator\n",
            "  axes.set_yticklabels(['']+columns)\n"
          ]
        },
        {
          "output_type": "display_data",
          "data": {
            "text/plain": [
              "<Figure size 640x480 with 2 Axes>"
            ],
            "image/png": "[encoded data removed]"
          },
          "metadata": {}
        }
      ]
    },
    {
      "cell_type": "code",
      "source": [
        "figure = plt.figure()\n",
        "axes = figure.add_subplot(111)\n",
        "\n",
        "# using the matshow() function\n",
        "caxes = axes.matshow(df.corr(method=\"spearman\"),cmap=plt.cm.Blues, interpolation ='nearest')\n",
        "figure.colorbar(caxes)\n",
        "figure\n",
        "\n",
        "columns = ['GraphDist','Graph2Vec','GL2Vec','WaveletCh'] #,'DiffPool','MinCutPool']\n",
        "axes.set_xticklabels(['']+columns)\n",
        "axes.set_yticklabels(['']+columns)\n",
        "axes.set_title(\"Spearman rank correlation\")\n",
        "\n",
        "plt.show()"
      ],
      "metadata": {
        "colab": {
          "base_uri": "https://localhost:8080/",
          "height": 514
        },
        "id": "9WLKtdQwAaM8",
        "outputId": "1e47453d-60ff-468e-bbce-6ace07dc2d47"
      },
      "execution_count": null,
      "outputs": [
        {
          "output_type": "stream",
          "name": "stderr",
          "text": [
            "<ipython-input-121-2e8d2cfe21ea>:10: UserWarning: FixedFormatter should only be used together with FixedLocator\n",
            "  axes.set_xticklabels(['']+columns)\n",
            "<ipython-input-121-2e8d2cfe21ea>:11: UserWarning: FixedFormatter should only be used together with FixedLocator\n",
            "  axes.set_yticklabels(['']+columns)\n"
          ]
        },
        {
          "output_type": "display_data",
          "data": {
            "text/plain": [
              "<Figure size 640x480 with 2 Axes>"
            ],
            "image/png": "[encoded data removed]"
          },
          "metadata": {}
        }
      ]
    },
    {
      "cell_type": "code",
      "source": [
        "data = df.copy()\n",
        "data.columns"
      ],
      "metadata": {
        "id": "cwh_fYha5GWm",
        "colab": {
          "base_uri": "https://localhost:8080/"
        },
        "outputId": "1ce93282-4cd8-42cb-a4a0-43e7766b3554"
      },
      "execution_count": null,
      "outputs": [
        {
          "output_type": "execute_result",
          "data": {
            "text/plain": [
              "Index(['GraphDist', 'Graph2Vec', 'GL2Vec', 'WaveletCh'], dtype='object')"
            ]
          },
          "metadata": {},
          "execution_count": 122
        }
      ]
    },
    {
      "cell_type": "code",
      "source": [
        "from sklearn.preprocessing import MinMaxScaler\n",
        "\n",
        "data = df.copy()\n",
        "\n",
        "\n",
        "scaler = MinMaxScaler()\n",
        "scaled_data = scaler.fit_transform(data)\n",
        "scaled_data = pd.DataFrame(scaled_data, columns = ['GraphDist','Graph2Vec','GL2Vec','WaveletCh']) #,'DiffPool','MinCutPool'])\n",
        "\n",
        "scaled_data\n",
        "\n"
      ],
      "metadata": {
        "colab": {
          "base_uri": "https://localhost:8080/",
          "height": 424
        },
        "id": "JmAvyNtP5Aft",
        "outputId": "c2c73a32-68fe-4e04-924f-a5db445717da"
      },
      "execution_count": null,
      "outputs": [
        {
          "output_type": "execute_result",
          "data": {
            "text/plain": [
              "     GraphDist  Graph2Vec    GL2Vec  WaveletCh\n",
              "0     0.115468   0.830931  0.921754   0.310610\n",
              "1     0.211329   0.945839  0.636233   0.612605\n",
              "2     0.281046   0.820117  0.680860   0.885362\n",
              "3     0.300654   0.776620  0.683085   1.000000\n",
              "4     0.126362   0.003786  0.014520   0.000000\n",
              "..         ...        ...       ...        ...\n",
              "775   0.391068   0.803742  0.487318   0.588242\n",
              "776   0.476035   0.745309  0.501842   0.709496\n",
              "777   0.176471   0.752257  0.179198   0.288163\n",
              "778   0.261438   0.801212  0.194501   0.415162\n",
              "779   0.102397   0.763625  0.067238   0.130368\n",
              "\n",
              "[780 rows x 4 columns]"
            ],
            "text/html": [
              "\n",
              "  <div id=\"df-a8a4d72c-c1af-450f-970a-5156b581d3a6\">\n",
              "    <div class=\"colab-df-container\">\n",
              "      <div>\n",
              "<style scoped>\n",
              "    .dataframe tbody tr th:only-of-type {\n",
              "        vertical-align: middle;\n",
              "    }\n",
              "\n",
              "    .dataframe tbody tr th {\n",
              "        vertical-align: top;\n",
              "    }\n",
              "\n",
              "    .dataframe thead th {\n",
              "        text-align: right;\n",
              "    }\n",
              "</style>\n",
              "<table border=\"1\" class=\"dataframe\">\n",
              "  <thead>\n",
              "    <tr style=\"text-align: right;\">\n",
              "      <th></th>\n",
              "      <th>GraphDist</th>\n",
              "      <th>Graph2Vec</th>\n",
              "      <th>GL2Vec</th>\n",
              "      <th>WaveletCh</th>\n",
              "    </tr>\n",
              "  </thead>\n",
              "  <tbody>\n",
              "    <tr>\n",
              "      <th>0</th>\n",
              "      <td>0.115468</td>\n",
              "      <td>0.830931</td>\n",
              "      <td>0.921754</td>\n",
              "      <td>0.310610</td>\n",
              "    </tr>\n",
              "    <tr>\n",
              "      <th>1</th>\n",
              "      <td>0.211329</td>\n",
              "      <td>0.945839</td>\n",
              "      <td>0.636233</td>\n",
              "      <td>0.612605</td>\n",
              "    </tr>\n",
              "    <tr>\n",
              "      <th>2</th>\n",
              "      <td>0.281046</td>\n",
              "      <td>0.820117</td>\n",
              "      <td>0.680860</td>\n",
              "      <td>0.885362</td>\n",
              "    </tr>\n",
              "    <tr>\n",
              "      <th>3</th>\n",
              "      <td>0.300654</td>\n",
              "      <td>0.776620</td>\n",
              "      <td>0.683085</td>\n",
              "      <td>1.000000</td>\n",
              "    </tr>\n",
              "    <tr>\n",
              "      <th>4</th>\n",
              "      <td>0.126362</td>\n",
              "      <td>0.003786</td>\n",
              "      <td>0.014520</td>\n",
              "      <td>0.000000</td>\n",
              "    </tr>\n",
              "    <tr>\n",
              "      <th>...</th>\n",
              "      <td>...</td>\n",
              "      <td>...</td>\n",
              "      <td>...</td>\n",
              "      <td>...</td>\n",
              "    </tr>\n",
              "    <tr>\n",
              "      <th>775</th>\n",
              "      <td>0.391068</td>\n",
              "      <td>0.803742</td>\n",
              "      <td>0.487318</td>\n",
              "      <td>0.588242</td>\n",
              "    </tr>\n",
              "    <tr>\n",
              "      <th>776</th>\n",
              "      <td>0.476035</td>\n",
              "      <td>0.745309</td>\n",
              "      <td>0.501842</td>\n",
              "      <td>0.709496</td>\n",
              "    </tr>\n",
              "    <tr>\n",
              "      <th>777</th>\n",
              "      <td>0.176471</td>\n",
              "      <td>0.752257</td>\n",
              "      <td>0.179198</td>\n",
              "      <td>0.288163</td>\n",
              "    </tr>\n",
              "    <tr>\n",
              "      <th>778</th>\n",
              "      <td>0.261438</td>\n",
              "      <td>0.801212</td>\n",
              "      <td>0.194501</td>\n",
              "      <td>0.415162</td>\n",
              "    </tr>\n",
              "    <tr>\n",
              "      <th>779</th>\n",
              "      <td>0.102397</td>\n",
              "      <td>0.763625</td>\n",
              "      <td>0.067238</td>\n",
              "      <td>0.130368</td>\n",
              "    </tr>\n",
              "  </tbody>\n",
              "</table>\n",
              "<p>780 rows × 4 columns</p>\n",
              "</div>\n",
              "      <button class=\"colab-df-convert\" onclick=\"convertToInteractive('df-a8a4d72c-c1af-450f-970a-5156b581d3a6')\"\n",
              "              title=\"Convert this dataframe to an interactive table.\"\n",
              "              style=\"display:none;\">\n",
              "        \n",
              "  <svg xmlns=\"http://www.w3.org/2000/svg\" height=\"24px\"viewBox=\"0 0 24 24\"\n",
              "       width=\"24px\">\n",
              "    <path d=\"M0 0h24v24H0V0z\" fill=\"none\"/>\n",
              "    <path d=\"M18.56 5.44l.94 2.06.94-2.06 2.06-.94-2.06-.94-.94-2.06-.94 2.06-2.06.94zm-11 1L8.5 8.5l.94-2.06 2.06-.94-2.06-.94L8.5 2.5l-.94 2.06-2.06.94zm10 10l.94 2.06.94-2.06 2.06-.94-2.06-.94-.94-2.06-.94 2.06-2.06.94z\"/><path d=\"M17.41 7.96l-1.37-1.37c-.4-.4-.92-.59-1.43-.59-.52 0-1.04.2-1.43.59L10.3 9.45l-7.72 7.72c-.78.78-.78 2.05 0 2.83L4 21.41c.39.39.9.59 1.41.59.51 0 1.02-.2 1.41-.59l7.78-7.78 2.81-2.81c.8-.78.8-2.07 0-2.86zM5.41 20L4 18.59l7.72-7.72 1.47 1.35L5.41 20z\"/>\n",
              "  </svg>\n",
              "      </button>\n",
              "      \n",
              "  <style>\n",
              "    .colab-df-container {\n",
              "      display:flex;\n",
              "      flex-wrap:wrap;\n",
              "      gap: 12px;\n",
              "    }\n",
              "\n",
              "    .colab-df-convert {\n",
              "      background-color: #E8F0FE;\n",
              "      border: none;\n",
              "      border-radius: 50%;\n",
              "      cursor: pointer;\n",
              "      display: none;\n",
              "      fill: #1967D2;\n",
              "      height: 32px;\n",
              "      padding: 0 0 0 0;\n",
              "      width: 32px;\n",
              "    }\n",
              "\n",
              "    .colab-df-convert:hover {\n",
              "      background-color: #E2EBFA;\n",
              "      box-shadow: 0px 1px 2px rgba(60, 64, 67, 0.3), 0px 1px 3px 1px rgba(60, 64, 67, 0.15);\n",
              "      fill: #174EA6;\n",
              "    }\n",
              "\n",
              "    [theme=dark] .colab-df-convert {\n",
              "      background-color: #3B4455;\n",
              "      fill: #D2E3FC;\n",
              "    }\n",
              "\n",
              "    [theme=dark] .colab-df-convert:hover {\n",
              "      background-color: #434B5C;\n",
              "      box-shadow: 0px 1px 3px 1px rgba(0, 0, 0, 0.15);\n",
              "      filter: drop-shadow(0px 1px 2px rgba(0, 0, 0, 0.3));\n",
              "      fill: #FFFFFF;\n",
              "    }\n",
              "  </style>\n",
              "\n",
              "      <script>\n",
              "        const buttonEl =\n",
              "          document.querySelector('#df-a8a4d72c-c1af-450f-970a-5156b581d3a6 button.colab-df-convert');\n",
              "        buttonEl.style.display =\n",
              "          google.colab.kernel.accessAllowed ? 'block' : 'none';\n",
              "\n",
              "        async function convertToInteractive(key) {\n",
              "          const element = document.querySelector('#df-a8a4d72c-c1af-450f-970a-5156b581d3a6');\n",
              "          const dataTable =\n",
              "            await google.colab.kernel.invokeFunction('convertToInteractive',\n",
              "                                                     [key], {});\n",
              "          if (!dataTable) return;\n",
              "\n",
              "          const docLinkHtml = 'Like what you see? Visit the ' +\n",
              "            '<a target=\"_blank\" href=https://colab.research.google.com/notebooks/data_table.ipynb>data table notebook</a>'\n",
              "            + ' to learn more about interactive tables.';\n",
              "          element.innerHTML = '';\n",
              "          dataTable['output_type'] = 'display_data';\n",
              "          await google.colab.output.renderOutput(dataTable, element);\n",
              "          const docLink = document.createElement('div');\n",
              "          docLink.innerHTML = docLinkHtml;\n",
              "          element.appendChild(docLink);\n",
              "        }\n",
              "      </script>\n",
              "    </div>\n",
              "  </div>\n",
              "  "
            ]
          },
          "metadata": {},
          "execution_count": 123
        }
      ]
    },
    {
      "cell_type": "code",
      "source": [
        "scaled_data.corr(method=\"pearson\")\n",
        "#scaled_data.corr(method=\"spearman\")"
      ],
      "metadata": {
        "id": "jvJ8SjDm54s3",
        "colab": {
          "base_uri": "https://localhost:8080/",
          "height": 175
        },
        "outputId": "c694c179-fe2a-4ea1-ce17-f4027d401048"
      },
      "execution_count": null,
      "outputs": [
        {
          "output_type": "execute_result",
          "data": {
            "text/plain": [
              "           GraphDist  Graph2Vec    GL2Vec  WaveletCh\n",
              "GraphDist   1.000000   0.334916  0.582692   0.597044\n",
              "Graph2Vec   0.334916   1.000000  0.670769   0.642532\n",
              "GL2Vec      0.582692   0.670769  1.000000   0.713100\n",
              "WaveletCh   0.597044   0.642532  0.713100   1.000000"
            ],
            "text/html": [
              "\n",
              "  <div id=\"df-75475f1b-56ed-4cf2-970a-a35d5c3ae9be\">\n",
              "    <div class=\"colab-df-container\">\n",
              "      <div>\n",
              "<style scoped>\n",
              "    .dataframe tbody tr th:only-of-type {\n",
              "        vertical-align: middle;\n",
              "    }\n",
              "\n",
              "    .dataframe tbody tr th {\n",
              "        vertical-align: top;\n",
              "    }\n",
              "\n",
              "    .dataframe thead th {\n",
              "        text-align: right;\n",
              "    }\n",
              "</style>\n",
              "<table border=\"1\" class=\"dataframe\">\n",
              "  <thead>\n",
              "    <tr style=\"text-align: right;\">\n",
              "      <th></th>\n",
              "      <th>GraphDist</th>\n",
              "      <th>Graph2Vec</th>\n",
              "      <th>GL2Vec</th>\n",
              "      <th>WaveletCh</th>\n",
              "    </tr>\n",
              "  </thead>\n",
              "  <tbody>\n",
              "    <tr>\n",
              "      <th>GraphDist</th>\n",
              "      <td>1.000000</td>\n",
              "      <td>0.334916</td>\n",
              "      <td>0.582692</td>\n",
              "      <td>0.597044</td>\n",
              "    </tr>\n",
              "    <tr>\n",
              "      <th>Graph2Vec</th>\n",
              "      <td>0.334916</td>\n",
              "      <td>1.000000</td>\n",
              "      <td>0.670769</td>\n",
              "      <td>0.642532</td>\n",
              "    </tr>\n",
              "    <tr>\n",
              "      <th>GL2Vec</th>\n",
              "      <td>0.582692</td>\n",
              "      <td>0.670769</td>\n",
              "      <td>1.000000</td>\n",
              "      <td>0.713100</td>\n",
              "    </tr>\n",
              "    <tr>\n",
              "      <th>WaveletCh</th>\n",
              "      <td>0.597044</td>\n",
              "      <td>0.642532</td>\n",
              "      <td>0.713100</td>\n",
              "      <td>1.000000</td>\n",
              "    </tr>\n",
              "  </tbody>\n",
              "</table>\n",
              "</div>\n",
              "      <button class=\"colab-df-convert\" onclick=\"convertToInteractive('df-75475f1b-56ed-4cf2-970a-a35d5c3ae9be')\"\n",
              "              title=\"Convert this dataframe to an interactive table.\"\n",
              "              style=\"display:none;\">\n",
              "        \n",
              "  <svg xmlns=\"http://www.w3.org/2000/svg\" height=\"24px\"viewBox=\"0 0 24 24\"\n",
              "       width=\"24px\">\n",
              "    <path d=\"M0 0h24v24H0V0z\" fill=\"none\"/>\n",
              "    <path d=\"M18.56 5.44l.94 2.06.94-2.06 2.06-.94-2.06-.94-.94-2.06-.94 2.06-2.06.94zm-11 1L8.5 8.5l.94-2.06 2.06-.94-2.06-.94L8.5 2.5l-.94 2.06-2.06.94zm10 10l.94 2.06.94-2.06 2.06-.94-2.06-.94-.94-2.06-.94 2.06-2.06.94z\"/><path d=\"M17.41 7.96l-1.37-1.37c-.4-.4-.92-.59-1.43-.59-.52 0-1.04.2-1.43.59L10.3 9.45l-7.72 7.72c-.78.78-.78 2.05 0 2.83L4 21.41c.39.39.9.59 1.41.59.51 0 1.02-.2 1.41-.59l7.78-7.78 2.81-2.81c.8-.78.8-2.07 0-2.86zM5.41 20L4 18.59l7.72-7.72 1.47 1.35L5.41 20z\"/>\n",
              "  </svg>\n",
              "      </button>\n",
              "      \n",
              "  <style>\n",
              "    .colab-df-container {\n",
              "      display:flex;\n",
              "      flex-wrap:wrap;\n",
              "      gap: 12px;\n",
              "    }\n",
              "\n",
              "    .colab-df-convert {\n",
              "      background-color: #E8F0FE;\n",
              "      border: none;\n",
              "      border-radius: 50%;\n",
              "      cursor: pointer;\n",
              "      display: none;\n",
              "      fill: #1967D2;\n",
              "      height: 32px;\n",
              "      padding: 0 0 0 0;\n",
              "      width: 32px;\n",
              "    }\n",
              "\n",
              "    .colab-df-convert:hover {\n",
              "      background-color: #E2EBFA;\n",
              "      box-shadow: 0px 1px 2px rgba(60, 64, 67, 0.3), 0px 1px 3px 1px rgba(60, 64, 67, 0.15);\n",
              "      fill: #174EA6;\n",
              "    }\n",
              "\n",
              "    [theme=dark] .colab-df-convert {\n",
              "      background-color: #3B4455;\n",
              "      fill: #D2E3FC;\n",
              "    }\n",
              "\n",
              "    [theme=dark] .colab-df-convert:hover {\n",
              "      background-color: #434B5C;\n",
              "      box-shadow: 0px 1px 3px 1px rgba(0, 0, 0, 0.15);\n",
              "      filter: drop-shadow(0px 1px 2px rgba(0, 0, 0, 0.3));\n",
              "      fill: #FFFFFF;\n",
              "    }\n",
              "  </style>\n",
              "\n",
              "      <script>\n",
              "        const buttonEl =\n",
              "          document.querySelector('#df-75475f1b-56ed-4cf2-970a-a35d5c3ae9be button.colab-df-convert');\n",
              "        buttonEl.style.display =\n",
              "          google.colab.kernel.accessAllowed ? 'block' : 'none';\n",
              "\n",
              "        async function convertToInteractive(key) {\n",
              "          const element = document.querySelector('#df-75475f1b-56ed-4cf2-970a-a35d5c3ae9be');\n",
              "          const dataTable =\n",
              "            await google.colab.kernel.invokeFunction('convertToInteractive',\n",
              "                                                     [key], {});\n",
              "          if (!dataTable) return;\n",
              "\n",
              "          const docLinkHtml = 'Like what you see? Visit the ' +\n",
              "            '<a target=\"_blank\" href=https://colab.research.google.com/notebooks/data_table.ipynb>data table notebook</a>'\n",
              "            + ' to learn more about interactive tables.';\n",
              "          element.innerHTML = '';\n",
              "          dataTable['output_type'] = 'display_data';\n",
              "          await google.colab.output.renderOutput(dataTable, element);\n",
              "          const docLink = document.createElement('div');\n",
              "          docLink.innerHTML = docLinkHtml;\n",
              "          element.appendChild(docLink);\n",
              "        }\n",
              "      </script>\n",
              "    </div>\n",
              "  </div>\n",
              "  "
            ]
          },
          "metadata": {},
          "execution_count": 124
        }
      ]
    },
    {
      "cell_type": "code",
      "source": [
        "scaled_data['GraphDist']\n",
        "scaled_data['GraphDist']\n",
        "scaled_data['Graph2Vec']\n",
        "scaled_data['GL2Vec']\n",
        "scaled_data['WaveletCh']\n",
        "#scaled_data['DiffPool']\n",
        "#scaled_data['MinCutPool']"
      ],
      "metadata": {
        "id": "MzmHl5uS5ATP",
        "colab": {
          "base_uri": "https://localhost:8080/"
        },
        "outputId": "c4c16a4a-eff6-41be-e59a-9fdc93a0b1ba"
      },
      "execution_count": null,
      "outputs": [
        {
          "output_type": "execute_result",
          "data": {
            "text/plain": [
              "0      0.310610\n",
              "1      0.612605\n",
              "2      0.885362\n",
              "3      1.000000\n",
              "4      0.000000\n",
              "         ...   \n",
              "775    0.588242\n",
              "776    0.709496\n",
              "777    0.288163\n",
              "778    0.415162\n",
              "779    0.130368\n",
              "Name: WaveletCh, Length: 780, dtype: float64"
            ]
          },
          "metadata": {},
          "execution_count": 125
        }
      ]
    },
    {
      "cell_type": "code",
      "source": [
        "import seaborn as sns\n",
        "import matplotlib.pyplot as plt"
      ],
      "metadata": {
        "id": "rxC7ojzCk8hc"
      },
      "execution_count": null,
      "outputs": []
    },
    {
      "cell_type": "code",
      "source": [
        "#sns.histplot(data=dist, bins=5, kde=True).set(title='Original graphs')\n",
        "\n",
        "ax = sns.histplot(data=dist, bins=5, kde=True)\n",
        "ax.set(xlabel='Original graphs distances', ylabel='Count')\n",
        "plt.show()"
      ],
      "metadata": {
        "id": "Yy-usfnhk8Xc",
        "colab": {
          "base_uri": "https://localhost:8080/",
          "height": 445
        },
        "outputId": "1dabc566-1a6a-4acf-86a2-fc3f4284a543"
      },
      "execution_count": null,
      "outputs": [
        {
          "output_type": "display_data",
          "data": {
            "text/plain": [
              "<Figure size 640x480 with 1 Axes>"
            ],
            "image/png": "[encoded data removed]"
          },
          "metadata": {}
        }
      ]
    },
    {
      "cell_type": "code",
      "source": [
        "sns.histplot(data=Y, bins=5, kde=True).set(title='Graph2Vec')\n",
        "#Y = distancias Graph2Vec"
      ],
      "metadata": {
        "id": "7asWS6hQTbJ0",
        "colab": {
          "base_uri": "https://localhost:8080/",
          "height": 462
        },
        "outputId": "0ee6fa5e-1e70-4b07-8084-aa7c0b2f1e09"
      },
      "execution_count": null,
      "outputs": [
        {
          "output_type": "execute_result",
          "data": {
            "text/plain": [
              "[Text(0.5, 1.0, 'Graph2Vec')]"
            ]
          },
          "metadata": {},
          "execution_count": 129
        },
        {
          "output_type": "display_data",
          "data": {
            "text/plain": [
              "<Figure size 640x480 with 1 Axes>"
            ],
            "image/png": "[encoded data removed]"
          },
          "metadata": {}
        }
      ]
    },
    {
      "cell_type": "code",
      "source": [
        "sns.histplot(data=Y1, bins=5, kde=True).set(title='GL2Vec')\n",
        "#Y1 = distancias GL2Vec"
      ],
      "metadata": {
        "id": "hm15OEadBZhb",
        "colab": {
          "base_uri": "https://localhost:8080/",
          "height": 462
        },
        "outputId": "2b17bf30-53e2-42a9-f880-9ae7657093e1"
      },
      "execution_count": null,
      "outputs": [
        {
          "output_type": "execute_result",
          "data": {
            "text/plain": [
              "[Text(0.5, 1.0, 'GL2Vec')]"
            ]
          },
          "metadata": {},
          "execution_count": 130
        },
        {
          "output_type": "display_data",
          "data": {
            "text/plain": [
              "<Figure size 640x480 with 1 Axes>"
            ],
            "image/png": "[encoded data removed]"
          },
          "metadata": {}
        }
      ]
    },
    {
      "cell_type": "code",
      "source": [
        "sns.histplot(data=Y2, bins=5, kde=True).set(title='Wavelet Characteristic')\n",
        "#Y2 = distancias Wavelets"
      ],
      "metadata": {
        "id": "zxHyheo3BZX0",
        "colab": {
          "base_uri": "https://localhost:8080/",
          "height": 462
        },
        "outputId": "6df7e640-e7d5-48e9-b031-c6346f5b8dfb"
      },
      "execution_count": null,
      "outputs": [
        {
          "output_type": "execute_result",
          "data": {
            "text/plain": [
              "[Text(0.5, 1.0, 'Wavelet Characteristic')]"
            ]
          },
          "metadata": {},
          "execution_count": 131
        },
        {
          "output_type": "display_data",
          "data": {
            "text/plain": [
              "<Figure size 640x480 with 1 Axes>"
            ],
            "image/png": "[encoded data removed]"
          },
          "metadata": {}
        }
      ]
    },
    {
      "cell_type": "markdown",
      "source": [
        "## histogramas normalizados"
      ],
      "metadata": {
        "id": "4j-4VhvI6sEY"
      }
    },
    {
      "cell_type": "code",
      "source": [
        "hist_graphDistN = sns.histplot(data=scaled_data['GraphDist'], bins=8, kde=True)\n",
        "hist_graphDistN.set(xlabel='Original graphs distances', ylabel='Count')\n",
        "plt.show()\n",
        "\n",
        "hist_Graph2VecN = sns.histplot(data=scaled_data['Graph2Vec'], bins=8, kde=True)\n",
        "hist_Graph2VecN.set(xlabel='Graph2Vec distances', ylabel='Count')\n",
        "plt.show()\n",
        "\n",
        "hist_GL2VecN = sns.histplot(data=scaled_data['GL2Vec'], bins=8, kde=True)\n",
        "hist_GL2VecN.set(xlabel='GL2Vec distances', ylabel='Count')\n",
        "plt.show()\n",
        "\n",
        "hist_WaveletChN = sns.histplot(data=scaled_data['WaveletCh'], bins=8, kde=True)\n",
        "hist_WaveletChN.set(xlabel='WaveletCh distances', ylabel='Count')\n",
        "plt.show()"
      ],
      "metadata": {
        "id": "_l49UZLy6rrG"
      },
      "execution_count": null,
      "outputs": []
    }
  ],
  "metadata": {
    "colab": {
      "provenance": [],
      "collapsed_sections": [
        "vFHci8LJ_FiN",
        "nO7jx1Mj_Rah",
        "TstuMh2-dTyv",
        "KNWxH7zGFx65",
        "ooXSIW9vYhqt",
        "5G52e0Spa-00",
        "d2iEjPAP_dCr",
        "2jw1tm6PABUS",
        "Z_o1AfBQR7D6",
        "kpGcwDaQD8lb",
        "dWmq3aX7EH5R",
        "Got0hS9auyTC",
        "J5B-E9rovJLv",
        "Ja7mrOWD0jcM",
        "XBnRuIw02fXw",
        "Da-z2yF66FR9",
        "Kc5BvLlEDACQ",
        "pr7W4ZptEn7r",
        "9EX-Y616ADUh",
        "l5jqBCEfXubH",
        "B7q98k6UZtF4",
        "8iz6fdRWZw-P"
      ],
      "include_colab_link": true
    },
    "kernelspec": {
      "display_name": "Python 3 (ipykernel)",
      "language": "python",
      "name": "python3"
    },
    "language_info": {
      "codemirror_mode": {
        "name": "ipython",
        "version": 3
      },
      "file_extension": ".py",
      "mimetype": "text/x-python",
      "name": "python",
      "nbconvert_exporter": "python",
      "pygments_lexer": "ipython3",
      "version": "3.9.12"
    },
    "gpuClass": "standard"
  },
  "nbformat": 4,
  "nbformat_minor": 0
}